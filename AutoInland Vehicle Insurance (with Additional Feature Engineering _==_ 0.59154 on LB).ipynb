{
 "cells": [
  {
   "cell_type": "code",
   "execution_count": 3,
   "metadata": {
    "executionInfo": {
     "elapsed": 1088,
     "status": "ok",
     "timestamp": 1624358990252,
     "user": {
      "displayName": "Adeyinka Sotunde",
      "photoUrl": "",
      "userId": "11399296787173668069"
     },
     "user_tz": -60
    },
    "id": "zTKcpawU-nb3"
   },
   "outputs": [],
   "source": [
    "import pandas as pd\n",
    "import numpy as np\n",
    "import datetime\n",
    " \n",
    "import seaborn as sns\n",
    "import matplotlib.pyplot as plt\n",
    "from sklearn.preprocessing import LabelEncoder\n",
    "from sklearn import preprocessing\n",
    " \n",
    "import warnings\n",
    "warnings.filterwarnings('ignore')\n",
    "\n",
    "train = pd.read_csv('Train(18).csv')\n",
    "test = pd.read_csv('Test(17).csv')\n",
    "submission = pd.read_csv('SampleSubmission(22).csv')\n",
    "var=pd.read_csv('VariableDefinitions(8).csv')\n",
    "states=pd.read_csv('NigerianStateNames.csv')"
   ]
  },
  {
   "cell_type": "code",
   "execution_count": 4,
   "metadata": {
    "executionInfo": {
     "elapsed": 18,
     "status": "ok",
     "timestamp": 1624358990253,
     "user": {
      "displayName": "Adeyinka Sotunde",
      "photoUrl": "",
      "userId": "11399296787173668069"
     },
     "user_tz": -60
    },
    "id": "wFFfGUlexLZH"
   },
   "outputs": [],
   "source": [
    "diat = train[['target']]    # Note: Extract target column from the train dataframe to be use later."
   ]
  },
  {
   "cell_type": "code",
   "execution_count": 5,
   "metadata": {
    "colab": {
     "base_uri": "https://localhost:8080/"
    },
    "executionInfo": {
     "elapsed": 18,
     "status": "ok",
     "timestamp": 1624358990254,
     "user": {
      "displayName": "Adeyinka Sotunde",
      "photoUrl": "",
      "userId": "11399296787173668069"
     },
     "user_tz": -60
    },
    "id": "Yv8hyHks-pVK",
    "outputId": "85423238-ac26-43c9-a277-9c2752e003be"
   },
   "outputs": [
    {
     "name": "stdout",
     "output_type": "stream",
     "text": [
      "<class 'pandas.core.frame.DataFrame'>\n",
      "RangeIndex: 12079 entries, 0 to 12078\n",
      "Data columns (total 14 columns):\n",
      " #   Column                  Non-Null Count  Dtype \n",
      "---  ------                  --------------  ----- \n",
      " 0   ID                      12079 non-null  object\n",
      " 1   Policy Start Date       12079 non-null  object\n",
      " 2   Policy End Date         12079 non-null  object\n",
      " 3   Gender                  11720 non-null  object\n",
      " 4   Age                     12079 non-null  int64 \n",
      " 5   First Transaction Date  12079 non-null  object\n",
      " 6   No_Pol                  12079 non-null  int64 \n",
      " 7   Car_Category            8341 non-null   object\n",
      " 8   Subject_Car_Colour      5117 non-null   object\n",
      " 9   Subject_Car_Make        9603 non-null   object\n",
      " 10  LGA_Name                5603 non-null   object\n",
      " 11  State                   5591 non-null   object\n",
      " 12  ProductName             12079 non-null  object\n",
      " 13  target                  12079 non-null  int64 \n",
      "dtypes: int64(3), object(11)\n",
      "memory usage: 1.3+ MB\n"
     ]
    }
   ],
   "source": [
    "train.info()"
   ]
  },
  {
   "cell_type": "markdown",
   "metadata": {
    "id": "kryFGl9f-2oZ"
   },
   "source": [
    "**Checking for features that correlate with the target variable**"
   ]
  },
  {
   "cell_type": "code",
   "execution_count": 6,
   "metadata": {
    "colab": {
     "base_uri": "https://localhost:8080/",
     "height": 414
    },
    "executionInfo": {
     "elapsed": 367,
     "status": "ok",
     "timestamp": 1624358990611,
     "user": {
      "displayName": "Adeyinka Sotunde",
      "photoUrl": "",
      "userId": "11399296787173668069"
     },
     "user_tz": -60
    },
    "id": "hFucHVMh-pSp",
    "outputId": "fe02d76f-fa86-46fb-9951-3e6af32ccc96"
   },
   "outputs": [
    {
     "data": {
      "text/plain": [
       "<matplotlib.axes._subplots.AxesSubplot at 0x1a1321881f0>"
      ]
     },
     "execution_count": 6,
     "metadata": {},
     "output_type": "execute_result"
    },
    {
     "data": {
      "image/png": "[encoded data removed]",
      "text/plain": [
       "<Figure size 504x432 with 1 Axes>"
      ]
     },
     "metadata": {
      "needs_background": "light"
     },
     "output_type": "display_data"
    }
   ],
   "source": [
    "train.corr()['target'].sort_values().plot(kind='bar', figsize=(7, 6))"
   ]
  },
  {
   "cell_type": "markdown",
   "metadata": {
    "id": "NyT1Mu7y-_Wh"
   },
   "source": [
    "**Target Distribution**"
   ]
  },
  {
   "cell_type": "code",
   "execution_count": 7,
   "metadata": {
    "colab": {
     "base_uri": "https://localhost:8080/",
     "height": 296
    },
    "executionInfo": {
     "elapsed": 24,
     "status": "ok",
     "timestamp": 1624358990612,
     "user": {
      "displayName": "Adeyinka Sotunde",
      "photoUrl": "",
      "userId": "11399296787173668069"
     },
     "user_tz": -60
    },
    "id": "hFgQ21i0-pQO",
    "outputId": "0ef95a63-fe3e-4e39-d592-6b302506de30"
   },
   "outputs": [
    {
     "data": {
      "text/plain": [
       "<matplotlib.axes._subplots.AxesSubplot at 0x1a132927b20>"
      ]
     },
     "execution_count": 7,
     "metadata": {},
     "output_type": "execute_result"
    },
    {
     "data": {
      "image/png": "[encoded data removed]",
      "text/plain": [
       "<Figure size 432x288 with 1 Axes>"
      ]
     },
     "metadata": {
      "needs_background": "light"
     },
     "output_type": "display_data"
    }
   ],
   "source": [
    "sns.countplot(train.target)"
   ]
  },
  {
   "cell_type": "code",
   "execution_count": 8,
   "metadata": {
    "executionInfo": {
     "elapsed": 15,
     "status": "ok",
     "timestamp": 1624358990614,
     "user": {
      "displayName": "Adeyinka Sotunde",
      "photoUrl": "",
      "userId": "11399296787173668069"
     },
     "user_tz": -60
    },
    "id": "IXxW8JIm-pNz"
   },
   "outputs": [],
   "source": [
    "target = train.target\n",
    "train = train.drop(\"target\", axis = 1)"
   ]
  },
  {
   "cell_type": "markdown",
   "metadata": {
    "id": "sz6NViTg_LuX"
   },
   "source": [
    "**Preprocessing/Feature Engineering**"
   ]
  },
  {
   "cell_type": "code",
   "execution_count": 9,
   "metadata": {
    "executionInfo": {
     "elapsed": 16,
     "status": "ok",
     "timestamp": 1624358990616,
     "user": {
      "displayName": "Adeyinka Sotunde",
      "photoUrl": "",
      "userId": "11399296787173668069"
     },
     "user_tz": -60
    },
    "id": "u9tpOHl_-pLJ"
   },
   "outputs": [],
   "source": [
    "data=train.append(test)"
   ]
  },
  {
   "cell_type": "code",
   "execution_count": 10,
   "metadata": {
    "colab": {
     "base_uri": "https://localhost:8080/"
    },
    "executionInfo": {
     "elapsed": 387,
     "status": "ok",
     "timestamp": 1624358990987,
     "user": {
      "displayName": "Adeyinka Sotunde",
      "photoUrl": "",
      "userId": "11399296787173668069"
     },
     "user_tz": -60
    },
    "id": "w7BheldD-pIq",
    "outputId": "9f1b4ae2-8eef-48ad-9db2-104c9efea57e"
   },
   "outputs": [
    {
     "data": {
      "text/plain": [
       "ID                           0\n",
       "Policy Start Date            0\n",
       "Policy End Date              0\n",
       "Gender                     400\n",
       "Age                          0\n",
       "First Transaction Date       0\n",
       "No_Pol                       0\n",
       "Car_Category              4110\n",
       "Subject_Car_Colour        7659\n",
       "Subject_Car_Make          2724\n",
       "LGA_Name                  7132\n",
       "State                     7144\n",
       "ProductName                  0\n",
       "dtype: int64"
      ]
     },
     "execution_count": 10,
     "metadata": {},
     "output_type": "execute_result"
    }
   ],
   "source": [
    "data.isnull().sum()"
   ]
  },
  {
   "cell_type": "code",
   "execution_count": 11,
   "metadata": {
    "executionInfo": {
     "elapsed": 35,
     "status": "ok",
     "timestamp": 1624358990989,
     "user": {
      "displayName": "Adeyinka Sotunde",
      "photoUrl": "",
      "userId": "11399296787173668069"
     },
     "user_tz": -60
    },
    "id": "Wj9mCqPx_Yxn"
   },
   "outputs": [],
   "source": [
    "date_col = ['Policy Start Date','Policy End Date','First Transaction Date']\n",
    "for feat in date_col:\n",
    "    data[feat] = pd.to_datetime(data[feat])"
   ]
  },
  {
   "cell_type": "code",
   "execution_count": 12,
   "metadata": {
    "executionInfo": {
     "elapsed": 37,
     "status": "ok",
     "timestamp": 1624358990992,
     "user": {
      "displayName": "Adeyinka Sotunde",
      "photoUrl": "",
      "userId": "11399296787173668069"
     },
     "user_tz": -60
    },
    "id": "h4QXkFgm_a_v"
   },
   "outputs": [],
   "source": [
    "# NUMBER OF DAYS BETWEEN POLICY END DATE AND START DATE\n",
    "data['policy_span'] = (data['Policy End Date'] - data['Policy Start Date']).dt.days"
   ]
  },
  {
   "cell_type": "code",
   "execution_count": 13,
   "metadata": {
    "colab": {
     "base_uri": "https://localhost:8080/"
    },
    "executionInfo": {
     "elapsed": 41,
     "status": "ok",
     "timestamp": 1624358990997,
     "user": {
      "displayName": "Adeyinka Sotunde",
      "photoUrl": "",
      "userId": "11399296787173668069"
     },
     "user_tz": -60
    },
    "id": "TW1jvsIT-pGR",
    "outputId": "6740ce06-a153-424d-8345-5abb8f79a60d"
   },
   "outputs": [
    {
     "data": {
      "text/plain": [
       "count    13281.000000\n",
       "mean       349.218508\n",
       "std        205.560475\n",
       "min         12.000000\n",
       "25%        364.000000\n",
       "50%        364.000000\n",
       "75%        364.000000\n",
       "max      11139.000000\n",
       "Name: policy_span, dtype: float64"
      ]
     },
     "execution_count": 13,
     "metadata": {},
     "output_type": "execute_result"
    }
   ],
   "source": [
    "data['policy_span'].describe() #There seem to be very odd values 11139days"
   ]
  },
  {
   "cell_type": "code",
   "execution_count": 14,
   "metadata": {
    "executionInfo": {
     "elapsed": 37,
     "status": "ok",
     "timestamp": 1624358990998,
     "user": {
      "displayName": "Adeyinka Sotunde",
      "photoUrl": "",
      "userId": "11399296787173668069"
     },
     "user_tz": -60
    },
    "id": "6HEmHkh2_jDX"
   },
   "outputs": [],
   "source": [
    "data['policy_span'].loc[data['policy_span'] > 5000] = 348  #Replace extreme values with mean"
   ]
  },
  {
   "cell_type": "markdown",
   "metadata": {
    "id": "qeU55fWI7Cnb"
   },
   "source": [
    "**Performing groupby counts of all categorical features:**"
   ]
  },
  {
   "cell_type": "code",
   "execution_count": 15,
   "metadata": {
    "executionInfo": {
     "elapsed": 39,
     "status": "ok",
     "timestamp": 1624358991001,
     "user": {
      "displayName": "Adeyinka Sotunde",
      "photoUrl": "",
      "userId": "11399296787173668069"
     },
     "user_tz": -60
    },
    "id": "ee_OpV1Y4pHF"
   },
   "outputs": [],
   "source": [
    "data['Gender_count']= data.groupby([\"Gender\"])[\"ID\"].transform(\"count\")\n",
    "data['Car_Category_count']= data.groupby([\"Car_Category\"])[\"ID\"].transform(\"count\")\n",
    "data['Subject_Car_Colour_count']= data.groupby([\"Subject_Car_Colour\"])[\"ID\"].transform(\"count\")\n",
    "data['Subject_Car_Make_count']= data.groupby([\"Subject_Car_Make\"])[\"ID\"].transform(\"count\")\n",
    "data['State_count']= data.groupby([\"State\"])[\"ID\"].transform(\"count\")\n",
    "data['ProductName_count']= data.groupby([\"ProductName\"])[\"ID\"].transform(\"count\")"
   ]
  },
  {
   "cell_type": "markdown",
   "metadata": {
    "id": "WbwpIPJTOu2p"
   },
   "source": [
    "**Creating more combine Features using groupby:**"
   ]
  },
  {
   "cell_type": "code",
   "execution_count": 16,
   "metadata": {
    "executionInfo": {
     "elapsed": 40,
     "status": "ok",
     "timestamp": 1624358991003,
     "user": {
      "displayName": "Adeyinka Sotunde",
      "photoUrl": "",
      "userId": "11399296787173668069"
     },
     "user_tz": -60
    },
    "id": "0ea5n8u7GgwZ"
   },
   "outputs": [],
   "source": [
    "# groupby features\n",
    "data['prod_category'] = data.groupby('ProductName')['Car_Category'].transform('count')\n",
    "data['prod_nunique'] = data.groupby('ProductName')['Car_Category'].transform('nunique')\n",
    "data['prod_no_pol'] = data.groupby('ProductName')['No_Pol'].transform('count')\n",
    "data['prod_no_pol_unique'] = data.groupby('ProductName')['No_Pol'].transform('nunique')\n",
    "data['prod_pol_mean'] = data.groupby('ProductName')['No_Pol'].transform('mean')\n",
    "data['prod_pol_min'] = data.groupby('ProductName')['No_Pol'].transform('min')\n",
    "data['prod_pol_max'] = data.groupby('ProductName')['No_Pol'].transform('max')"
   ]
  },
  {
   "cell_type": "code",
   "execution_count": 17,
   "metadata": {
    "colab": {
     "base_uri": "https://localhost:8080/",
     "height": 343
    },
    "executionInfo": {
     "elapsed": 40,
     "status": "ok",
     "timestamp": 1624358991004,
     "user": {
      "displayName": "Adeyinka Sotunde",
      "photoUrl": "",
      "userId": "11399296787173668069"
     },
     "user_tz": -60
    },
    "id": "7B7_lQfOWBsj",
    "outputId": "c0666600-e373-4c1a-d40b-d5253bc2233e"
   },
   "outputs": [
    {
     "data": {
      "text/html": [
       "<div>\n",
       "<style scoped>\n",
       "    .dataframe tbody tr th:only-of-type {\n",
       "        vertical-align: middle;\n",
       "    }\n",
       "\n",
       "    .dataframe tbody tr th {\n",
       "        vertical-align: top;\n",
       "    }\n",
       "\n",
       "    .dataframe thead th {\n",
       "        text-align: right;\n",
       "    }\n",
       "</style>\n",
       "<table border=\"1\" class=\"dataframe\">\n",
       "  <thead>\n",
       "    <tr style=\"text-align: right;\">\n",
       "      <th></th>\n",
       "      <th>ID</th>\n",
       "      <th>Policy Start Date</th>\n",
       "      <th>Policy End Date</th>\n",
       "      <th>Gender</th>\n",
       "      <th>Age</th>\n",
       "      <th>First Transaction Date</th>\n",
       "      <th>No_Pol</th>\n",
       "      <th>Car_Category</th>\n",
       "      <th>Subject_Car_Colour</th>\n",
       "      <th>Subject_Car_Make</th>\n",
       "      <th>...</th>\n",
       "      <th>Subject_Car_Make_count</th>\n",
       "      <th>State_count</th>\n",
       "      <th>ProductName_count</th>\n",
       "      <th>prod_category</th>\n",
       "      <th>prod_nunique</th>\n",
       "      <th>prod_no_pol</th>\n",
       "      <th>prod_no_pol_unique</th>\n",
       "      <th>prod_pol_mean</th>\n",
       "      <th>prod_pol_min</th>\n",
       "      <th>prod_pol_max</th>\n",
       "    </tr>\n",
       "  </thead>\n",
       "  <tbody>\n",
       "    <tr>\n",
       "      <th>0</th>\n",
       "      <td>ID_0040R73</td>\n",
       "      <td>2010-05-14</td>\n",
       "      <td>2011-05-13</td>\n",
       "      <td>Male</td>\n",
       "      <td>30</td>\n",
       "      <td>2010-05-14</td>\n",
       "      <td>1</td>\n",
       "      <td>Saloon</td>\n",
       "      <td>Black</td>\n",
       "      <td>TOYOTA</td>\n",
       "      <td>...</td>\n",
       "      <td>5466.0</td>\n",
       "      <td>NaN</td>\n",
       "      <td>7142</td>\n",
       "      <td>5124</td>\n",
       "      <td>13</td>\n",
       "      <td>7142</td>\n",
       "      <td>6</td>\n",
       "      <td>1.305377</td>\n",
       "      <td>1</td>\n",
       "      <td>6</td>\n",
       "    </tr>\n",
       "    <tr>\n",
       "      <th>1</th>\n",
       "      <td>ID_0046BNK</td>\n",
       "      <td>2010-11-29</td>\n",
       "      <td>2011-11-28</td>\n",
       "      <td>Female</td>\n",
       "      <td>79</td>\n",
       "      <td>2010-11-29</td>\n",
       "      <td>1</td>\n",
       "      <td>JEEP</td>\n",
       "      <td>Grey</td>\n",
       "      <td>TOYOTA</td>\n",
       "      <td>...</td>\n",
       "      <td>5466.0</td>\n",
       "      <td>NaN</td>\n",
       "      <td>7142</td>\n",
       "      <td>5124</td>\n",
       "      <td>13</td>\n",
       "      <td>7142</td>\n",
       "      <td>6</td>\n",
       "      <td>1.305377</td>\n",
       "      <td>1</td>\n",
       "      <td>6</td>\n",
       "    </tr>\n",
       "    <tr>\n",
       "      <th>2</th>\n",
       "      <td>ID_005QMC3</td>\n",
       "      <td>2010-03-21</td>\n",
       "      <td>2011-03-20</td>\n",
       "      <td>Male</td>\n",
       "      <td>43</td>\n",
       "      <td>2010-03-21</td>\n",
       "      <td>1</td>\n",
       "      <td>Saloon</td>\n",
       "      <td>Red</td>\n",
       "      <td>TOYOTA</td>\n",
       "      <td>...</td>\n",
       "      <td>5466.0</td>\n",
       "      <td>NaN</td>\n",
       "      <td>7142</td>\n",
       "      <td>5124</td>\n",
       "      <td>13</td>\n",
       "      <td>7142</td>\n",
       "      <td>6</td>\n",
       "      <td>1.305377</td>\n",
       "      <td>1</td>\n",
       "      <td>6</td>\n",
       "    </tr>\n",
       "    <tr>\n",
       "      <th>3</th>\n",
       "      <td>ID_0079OHW</td>\n",
       "      <td>2010-08-21</td>\n",
       "      <td>2011-08-20</td>\n",
       "      <td>Male</td>\n",
       "      <td>2</td>\n",
       "      <td>2010-08-21</td>\n",
       "      <td>1</td>\n",
       "      <td>NaN</td>\n",
       "      <td>NaN</td>\n",
       "      <td>NaN</td>\n",
       "      <td>...</td>\n",
       "      <td>NaN</td>\n",
       "      <td>NaN</td>\n",
       "      <td>4154</td>\n",
       "      <td>2887</td>\n",
       "      <td>5</td>\n",
       "      <td>4154</td>\n",
       "      <td>6</td>\n",
       "      <td>1.094367</td>\n",
       "      <td>1</td>\n",
       "      <td>10</td>\n",
       "    </tr>\n",
       "    <tr>\n",
       "      <th>4</th>\n",
       "      <td>ID_00BRP63</td>\n",
       "      <td>2010-08-29</td>\n",
       "      <td>2010-12-31</td>\n",
       "      <td>Entity</td>\n",
       "      <td>20</td>\n",
       "      <td>2010-08-29</td>\n",
       "      <td>3</td>\n",
       "      <td>NaN</td>\n",
       "      <td>NaN</td>\n",
       "      <td>NaN</td>\n",
       "      <td>...</td>\n",
       "      <td>NaN</td>\n",
       "      <td>3494.0</td>\n",
       "      <td>100</td>\n",
       "      <td>1</td>\n",
       "      <td>1</td>\n",
       "      <td>100</td>\n",
       "      <td>5</td>\n",
       "      <td>3.490000</td>\n",
       "      <td>1</td>\n",
       "      <td>10</td>\n",
       "    </tr>\n",
       "  </tbody>\n",
       "</table>\n",
       "<p>5 rows × 27 columns</p>\n",
       "</div>"
      ],
      "text/plain": [
       "           ID Policy Start Date Policy End Date  Gender  Age  \\\n",
       "0  ID_0040R73        2010-05-14      2011-05-13    Male   30   \n",
       "1  ID_0046BNK        2010-11-29      2011-11-28  Female   79   \n",
       "2  ID_005QMC3        2010-03-21      2011-03-20    Male   43   \n",
       "3  ID_0079OHW        2010-08-21      2011-08-20    Male    2   \n",
       "4  ID_00BRP63        2010-08-29      2010-12-31  Entity   20   \n",
       "\n",
       "  First Transaction Date  No_Pol Car_Category Subject_Car_Colour  \\\n",
       "0             2010-05-14       1       Saloon              Black   \n",
       "1             2010-11-29       1         JEEP               Grey   \n",
       "2             2010-03-21       1       Saloon                Red   \n",
       "3             2010-08-21       1          NaN                NaN   \n",
       "4             2010-08-29       3          NaN                NaN   \n",
       "\n",
       "  Subject_Car_Make  ... Subject_Car_Make_count State_count ProductName_count  \\\n",
       "0           TOYOTA  ...                 5466.0         NaN              7142   \n",
       "1           TOYOTA  ...                 5466.0         NaN              7142   \n",
       "2           TOYOTA  ...                 5466.0         NaN              7142   \n",
       "3              NaN  ...                    NaN         NaN              4154   \n",
       "4              NaN  ...                    NaN      3494.0               100   \n",
       "\n",
       "   prod_category  prod_nunique  prod_no_pol  prod_no_pol_unique  \\\n",
       "0           5124            13         7142                   6   \n",
       "1           5124            13         7142                   6   \n",
       "2           5124            13         7142                   6   \n",
       "3           2887             5         4154                   6   \n",
       "4              1             1          100                   5   \n",
       "\n",
       "   prod_pol_mean  prod_pol_min  prod_pol_max  \n",
       "0       1.305377             1             6  \n",
       "1       1.305377             1             6  \n",
       "2       1.305377             1             6  \n",
       "3       1.094367             1            10  \n",
       "4       3.490000             1            10  \n",
       "\n",
       "[5 rows x 27 columns]"
      ]
     },
     "execution_count": 17,
     "metadata": {},
     "output_type": "execute_result"
    }
   ],
   "source": [
    "data.head()"
   ]
  },
  {
   "cell_type": "markdown",
   "metadata": {
    "id": "1qwTTLSnXwkv"
   },
   "source": [
    "**Car_Category, Subject_Car_Make, ProductName Interactions:**"
   ]
  },
  {
   "cell_type": "code",
   "execution_count": 18,
   "metadata": {
    "executionInfo": {
     "elapsed": 40,
     "status": "ok",
     "timestamp": 1624358991006,
     "user": {
      "displayName": "Adeyinka Sotunde",
      "photoUrl": "",
      "userId": "11399296787173668069"
     },
     "user_tz": -60
    },
    "id": "MsSFK7w4JwDf"
   },
   "outputs": [],
   "source": [
    "data['Car_Make_Category'] = data['Car_Category'] + '_' + data['Subject_Car_Make']\n",
    "data['Car_ProductName'] = data['ProductName'] + '_' + data['Subject_Car_Make']"
   ]
  },
  {
   "cell_type": "markdown",
   "metadata": {
    "id": "QmpaKrlrYLEo"
   },
   "source": [
    "**Categorizing \"Subject_Car_Colour\" in terms of color type:**"
   ]
  },
  {
   "cell_type": "code",
   "execution_count": 19,
   "metadata": {
    "executionInfo": {
     "elapsed": 43,
     "status": "ok",
     "timestamp": 1624358991010,
     "user": {
      "displayName": "Adeyinka Sotunde",
      "photoUrl": "",
      "userId": "11399296787173668069"
     },
     "user_tz": -60
    },
    "id": "TdZ8UZtHKKAA"
   },
   "outputs": [],
   "source": [
    "def color_type(x):\n",
    "    if x =='White':\n",
    "        return 1\n",
    "    else:\n",
    "        return 0\n",
    "data['White_to_others'] = data['Subject_Car_Colour'].apply(color_type)"
   ]
  },
  {
   "cell_type": "code",
   "execution_count": 20,
   "metadata": {
    "colab": {
     "base_uri": "https://localhost:8080/"
    },
    "executionInfo": {
     "elapsed": 45,
     "status": "ok",
     "timestamp": 1624358991012,
     "user": {
      "displayName": "Adeyinka Sotunde",
      "photoUrl": "",
      "userId": "11399296787173668069"
     },
     "user_tz": -60
    },
    "id": "XZTmyUmGMq_7",
    "outputId": "dcdac62e-0d5e-44ad-8c60-dffaec90015f"
   },
   "outputs": [
    {
     "data": {
      "text/plain": [
       "0    12960\n",
       "1      321\n",
       "Name: White_to_others, dtype: int64"
      ]
     },
     "execution_count": 20,
     "metadata": {},
     "output_type": "execute_result"
    }
   ],
   "source": [
    "data['White_to_others'].value_counts()"
   ]
  },
  {
   "cell_type": "code",
   "execution_count": 21,
   "metadata": {
    "colab": {
     "base_uri": "https://localhost:8080/",
     "height": 343
    },
    "executionInfo": {
     "elapsed": 43,
     "status": "ok",
     "timestamp": 1624358991016,
     "user": {
      "displayName": "Adeyinka Sotunde",
      "photoUrl": "",
      "userId": "11399296787173668069"
     },
     "user_tz": -60
    },
    "id": "fiwDXdfZMCQr",
    "outputId": "8fdfa675-828a-4272-e9bf-de8aa6d1767c"
   },
   "outputs": [
    {
     "data": {
      "text/html": [
       "<div>\n",
       "<style scoped>\n",
       "    .dataframe tbody tr th:only-of-type {\n",
       "        vertical-align: middle;\n",
       "    }\n",
       "\n",
       "    .dataframe tbody tr th {\n",
       "        vertical-align: top;\n",
       "    }\n",
       "\n",
       "    .dataframe thead th {\n",
       "        text-align: right;\n",
       "    }\n",
       "</style>\n",
       "<table border=\"1\" class=\"dataframe\">\n",
       "  <thead>\n",
       "    <tr style=\"text-align: right;\">\n",
       "      <th></th>\n",
       "      <th>ID</th>\n",
       "      <th>Policy Start Date</th>\n",
       "      <th>Policy End Date</th>\n",
       "      <th>Gender</th>\n",
       "      <th>Age</th>\n",
       "      <th>First Transaction Date</th>\n",
       "      <th>No_Pol</th>\n",
       "      <th>Car_Category</th>\n",
       "      <th>Subject_Car_Colour</th>\n",
       "      <th>Subject_Car_Make</th>\n",
       "      <th>...</th>\n",
       "      <th>prod_category</th>\n",
       "      <th>prod_nunique</th>\n",
       "      <th>prod_no_pol</th>\n",
       "      <th>prod_no_pol_unique</th>\n",
       "      <th>prod_pol_mean</th>\n",
       "      <th>prod_pol_min</th>\n",
       "      <th>prod_pol_max</th>\n",
       "      <th>Car_Make_Category</th>\n",
       "      <th>Car_ProductName</th>\n",
       "      <th>White_to_others</th>\n",
       "    </tr>\n",
       "  </thead>\n",
       "  <tbody>\n",
       "    <tr>\n",
       "      <th>0</th>\n",
       "      <td>ID_0040R73</td>\n",
       "      <td>2010-05-14</td>\n",
       "      <td>2011-05-13</td>\n",
       "      <td>Male</td>\n",
       "      <td>30</td>\n",
       "      <td>2010-05-14</td>\n",
       "      <td>1</td>\n",
       "      <td>Saloon</td>\n",
       "      <td>Black</td>\n",
       "      <td>TOYOTA</td>\n",
       "      <td>...</td>\n",
       "      <td>5124</td>\n",
       "      <td>13</td>\n",
       "      <td>7142</td>\n",
       "      <td>6</td>\n",
       "      <td>1.305377</td>\n",
       "      <td>1</td>\n",
       "      <td>6</td>\n",
       "      <td>Saloon_TOYOTA</td>\n",
       "      <td>Car Classic_TOYOTA</td>\n",
       "      <td>0</td>\n",
       "    </tr>\n",
       "    <tr>\n",
       "      <th>1</th>\n",
       "      <td>ID_0046BNK</td>\n",
       "      <td>2010-11-29</td>\n",
       "      <td>2011-11-28</td>\n",
       "      <td>Female</td>\n",
       "      <td>79</td>\n",
       "      <td>2010-11-29</td>\n",
       "      <td>1</td>\n",
       "      <td>JEEP</td>\n",
       "      <td>Grey</td>\n",
       "      <td>TOYOTA</td>\n",
       "      <td>...</td>\n",
       "      <td>5124</td>\n",
       "      <td>13</td>\n",
       "      <td>7142</td>\n",
       "      <td>6</td>\n",
       "      <td>1.305377</td>\n",
       "      <td>1</td>\n",
       "      <td>6</td>\n",
       "      <td>JEEP_TOYOTA</td>\n",
       "      <td>Car Classic_TOYOTA</td>\n",
       "      <td>0</td>\n",
       "    </tr>\n",
       "    <tr>\n",
       "      <th>2</th>\n",
       "      <td>ID_005QMC3</td>\n",
       "      <td>2010-03-21</td>\n",
       "      <td>2011-03-20</td>\n",
       "      <td>Male</td>\n",
       "      <td>43</td>\n",
       "      <td>2010-03-21</td>\n",
       "      <td>1</td>\n",
       "      <td>Saloon</td>\n",
       "      <td>Red</td>\n",
       "      <td>TOYOTA</td>\n",
       "      <td>...</td>\n",
       "      <td>5124</td>\n",
       "      <td>13</td>\n",
       "      <td>7142</td>\n",
       "      <td>6</td>\n",
       "      <td>1.305377</td>\n",
       "      <td>1</td>\n",
       "      <td>6</td>\n",
       "      <td>Saloon_TOYOTA</td>\n",
       "      <td>Car Classic_TOYOTA</td>\n",
       "      <td>0</td>\n",
       "    </tr>\n",
       "    <tr>\n",
       "      <th>3</th>\n",
       "      <td>ID_0079OHW</td>\n",
       "      <td>2010-08-21</td>\n",
       "      <td>2011-08-20</td>\n",
       "      <td>Male</td>\n",
       "      <td>2</td>\n",
       "      <td>2010-08-21</td>\n",
       "      <td>1</td>\n",
       "      <td>NaN</td>\n",
       "      <td>NaN</td>\n",
       "      <td>NaN</td>\n",
       "      <td>...</td>\n",
       "      <td>2887</td>\n",
       "      <td>5</td>\n",
       "      <td>4154</td>\n",
       "      <td>6</td>\n",
       "      <td>1.094367</td>\n",
       "      <td>1</td>\n",
       "      <td>10</td>\n",
       "      <td>NaN</td>\n",
       "      <td>NaN</td>\n",
       "      <td>0</td>\n",
       "    </tr>\n",
       "    <tr>\n",
       "      <th>4</th>\n",
       "      <td>ID_00BRP63</td>\n",
       "      <td>2010-08-29</td>\n",
       "      <td>2010-12-31</td>\n",
       "      <td>Entity</td>\n",
       "      <td>20</td>\n",
       "      <td>2010-08-29</td>\n",
       "      <td>3</td>\n",
       "      <td>NaN</td>\n",
       "      <td>NaN</td>\n",
       "      <td>NaN</td>\n",
       "      <td>...</td>\n",
       "      <td>1</td>\n",
       "      <td>1</td>\n",
       "      <td>100</td>\n",
       "      <td>5</td>\n",
       "      <td>3.490000</td>\n",
       "      <td>1</td>\n",
       "      <td>10</td>\n",
       "      <td>NaN</td>\n",
       "      <td>NaN</td>\n",
       "      <td>0</td>\n",
       "    </tr>\n",
       "  </tbody>\n",
       "</table>\n",
       "<p>5 rows × 30 columns</p>\n",
       "</div>"
      ],
      "text/plain": [
       "           ID Policy Start Date Policy End Date  Gender  Age  \\\n",
       "0  ID_0040R73        2010-05-14      2011-05-13    Male   30   \n",
       "1  ID_0046BNK        2010-11-29      2011-11-28  Female   79   \n",
       "2  ID_005QMC3        2010-03-21      2011-03-20    Male   43   \n",
       "3  ID_0079OHW        2010-08-21      2011-08-20    Male    2   \n",
       "4  ID_00BRP63        2010-08-29      2010-12-31  Entity   20   \n",
       "\n",
       "  First Transaction Date  No_Pol Car_Category Subject_Car_Colour  \\\n",
       "0             2010-05-14       1       Saloon              Black   \n",
       "1             2010-11-29       1         JEEP               Grey   \n",
       "2             2010-03-21       1       Saloon                Red   \n",
       "3             2010-08-21       1          NaN                NaN   \n",
       "4             2010-08-29       3          NaN                NaN   \n",
       "\n",
       "  Subject_Car_Make  ... prod_category prod_nunique prod_no_pol  \\\n",
       "0           TOYOTA  ...          5124           13        7142   \n",
       "1           TOYOTA  ...          5124           13        7142   \n",
       "2           TOYOTA  ...          5124           13        7142   \n",
       "3              NaN  ...          2887            5        4154   \n",
       "4              NaN  ...             1            1         100   \n",
       "\n",
       "   prod_no_pol_unique  prod_pol_mean  prod_pol_min  prod_pol_max  \\\n",
       "0                   6       1.305377             1             6   \n",
       "1                   6       1.305377             1             6   \n",
       "2                   6       1.305377             1             6   \n",
       "3                   6       1.094367             1            10   \n",
       "4                   5       3.490000             1            10   \n",
       "\n",
       "   Car_Make_Category     Car_ProductName  White_to_others  \n",
       "0      Saloon_TOYOTA  Car Classic_TOYOTA                0  \n",
       "1        JEEP_TOYOTA  Car Classic_TOYOTA                0  \n",
       "2      Saloon_TOYOTA  Car Classic_TOYOTA                0  \n",
       "3                NaN                 NaN                0  \n",
       "4                NaN                 NaN                0  \n",
       "\n",
       "[5 rows x 30 columns]"
      ]
     },
     "execution_count": 21,
     "metadata": {},
     "output_type": "execute_result"
    }
   ],
   "source": [
    "data.head()"
   ]
  },
  {
   "cell_type": "code",
   "execution_count": 22,
   "metadata": {
    "colab": {
     "base_uri": "https://localhost:8080/"
    },
    "executionInfo": {
     "elapsed": 408,
     "status": "ok",
     "timestamp": 1624358991384,
     "user": {
      "displayName": "Adeyinka Sotunde",
      "photoUrl": "",
      "userId": "11399296787173668069"
     },
     "user_tz": -60
    },
    "id": "4Pt-B_rvOC6v",
    "outputId": "2d67413b-fa0e-45ee-eac4-c3d3149dc070"
   },
   "outputs": [
    {
     "data": {
      "text/plain": [
       "Car Classic         7142\n",
       "CarSafe             4154\n",
       "Customized Motor     605\n",
       "Car Plus             523\n",
       "CVTP                 509\n",
       "CarFlex              194\n",
       "Muuve                100\n",
       "Motor Cycle           49\n",
       "Car Vintage            5\n",
       "Name: ProductName, dtype: int64"
      ]
     },
     "execution_count": 22,
     "metadata": {},
     "output_type": "execute_result"
    }
   ],
   "source": [
    "data['ProductName'].value_counts()"
   ]
  },
  {
   "cell_type": "markdown",
   "metadata": {
    "id": "XdQC5j0zTUu_"
   },
   "source": [
    "**Re-categorizing ProdcutName:**\n",
    "\n",
    "Knowingfully well that Classic Cars usually have high/higher premium. Then i decided to re-categorize \"ProdcutName\" based on premium assigning to every type of Car Brand name under \"ProductName\" column in the given dataset."
   ]
  },
  {
   "cell_type": "code",
   "execution_count": 23,
   "metadata": {
    "executionInfo": {
     "elapsed": 335,
     "status": "ok",
     "timestamp": 1624358991715,
     "user": {
      "displayName": "Adeyinka Sotunde",
      "photoUrl": "",
      "userId": "11399296787173668069"
     },
     "user_tz": -60
    },
    "id": "3W5XrobUOCs1"
   },
   "outputs": [],
   "source": [
    "def ProNa(data):\n",
    "    if data.ProductName =='Car Classic':\n",
    "        return 'high-premium_car_brand'\n",
    "    else:\n",
    "        return 'low-premium_car_brand'\n",
    "data['Car_BrandName_premium'] = data.apply(lambda data:ProNa(data), axis=1)"
   ]
  },
  {
   "cell_type": "markdown",
   "metadata": {
    "id": "bgsbwgthRuUD"
   },
   "source": [
    "**Creating dummy for \"Car_BrandName_premium\":**"
   ]
  },
  {
   "cell_type": "code",
   "execution_count": 24,
   "metadata": {
    "executionInfo": {
     "elapsed": 8,
     "status": "ok",
     "timestamp": 1624358991716,
     "user": {
      "displayName": "Adeyinka Sotunde",
      "photoUrl": "",
      "userId": "11399296787173668069"
     },
     "user_tz": -60
    },
    "id": "2rsIK8s6RHQ4"
   },
   "outputs": [],
   "source": [
    "Car_BrandName_premium_dummies = pd.get_dummies(data.Car_BrandName_premium)\n",
    "data = pd.concat([data,Car_BrandName_premium_dummies], axis=1)\n",
    "data = data.drop(\"Car_BrandName_premium\", axis=1)"
   ]
  },
  {
   "cell_type": "markdown",
   "metadata": {
    "id": "5T8QIGjJXxn4"
   },
   "source": [
    "**Re-categorizing \"State\" column based on accidents rates:**\n",
    "\n",
    "A more crowded and busy cities are more likely to have higher rate of accidents than less busy or rural areas. Thereby, customers living in Accident prone cities might attract lower premium unlike customers(people) living in an uncrowded or rural areas."
   ]
  },
  {
   "cell_type": "code",
   "execution_count": 25,
   "metadata": {
    "executionInfo": {
     "elapsed": 369,
     "status": "ok",
     "timestamp": 1624358992080,
     "user": {
      "displayName": "Adeyinka Sotunde",
      "photoUrl": "",
      "userId": "11399296787173668069"
     },
     "user_tz": -60
    },
    "id": "z2BPplQiVwv6"
   },
   "outputs": [],
   "source": [
    "def Apc(data):\n",
    "    if data.State =='Lagos':\n",
    "        return 'lower-premium_areas'\n",
    "    else:\n",
    "        return 'higher-premium_areas'\n",
    "data['Accident_prone_areas'] = data.apply(lambda data:Apc(data), axis=1)"
   ]
  },
  {
   "cell_type": "markdown",
   "metadata": {
    "id": "j9maMGiCaFu8"
   },
   "source": [
    "**Creating dummy for \"Accident_prone_areas\":**"
   ]
  },
  {
   "cell_type": "code",
   "execution_count": 26,
   "metadata": {
    "executionInfo": {
     "elapsed": 22,
     "status": "ok",
     "timestamp": 1624358992081,
     "user": {
      "displayName": "Adeyinka Sotunde",
      "photoUrl": "",
      "userId": "11399296787173668069"
     },
     "user_tz": -60
    },
    "id": "ntHrqvZVZrbn"
   },
   "outputs": [],
   "source": [
    "Accident_prone_areas_dummies = pd.get_dummies(data.Accident_prone_areas)\n",
    "data = pd.concat([data,Accident_prone_areas_dummies], axis=1)\n",
    "data = data.drop(\"Accident_prone_areas\", axis=1)"
   ]
  },
  {
   "cell_type": "code",
   "execution_count": 27,
   "metadata": {
    "colab": {
     "base_uri": "https://localhost:8080/",
     "height": 343
    },
    "executionInfo": {
     "elapsed": 23,
     "status": "ok",
     "timestamp": 1624358992083,
     "user": {
      "displayName": "Adeyinka Sotunde",
      "photoUrl": "",
      "userId": "11399296787173668069"
     },
     "user_tz": -60
    },
    "id": "k7D1k9POSbfi",
    "outputId": "a4704657-a135-4b0c-dc91-99430cab76ba"
   },
   "outputs": [
    {
     "data": {
      "text/html": [
       "<div>\n",
       "<style scoped>\n",
       "    .dataframe tbody tr th:only-of-type {\n",
       "        vertical-align: middle;\n",
       "    }\n",
       "\n",
       "    .dataframe tbody tr th {\n",
       "        vertical-align: top;\n",
       "    }\n",
       "\n",
       "    .dataframe thead th {\n",
       "        text-align: right;\n",
       "    }\n",
       "</style>\n",
       "<table border=\"1\" class=\"dataframe\">\n",
       "  <thead>\n",
       "    <tr style=\"text-align: right;\">\n",
       "      <th></th>\n",
       "      <th>ID</th>\n",
       "      <th>Policy Start Date</th>\n",
       "      <th>Policy End Date</th>\n",
       "      <th>Gender</th>\n",
       "      <th>Age</th>\n",
       "      <th>First Transaction Date</th>\n",
       "      <th>No_Pol</th>\n",
       "      <th>Car_Category</th>\n",
       "      <th>Subject_Car_Colour</th>\n",
       "      <th>Subject_Car_Make</th>\n",
       "      <th>...</th>\n",
       "      <th>prod_pol_mean</th>\n",
       "      <th>prod_pol_min</th>\n",
       "      <th>prod_pol_max</th>\n",
       "      <th>Car_Make_Category</th>\n",
       "      <th>Car_ProductName</th>\n",
       "      <th>White_to_others</th>\n",
       "      <th>high-premium_car_brand</th>\n",
       "      <th>low-premium_car_brand</th>\n",
       "      <th>higher-premium_areas</th>\n",
       "      <th>lower-premium_areas</th>\n",
       "    </tr>\n",
       "  </thead>\n",
       "  <tbody>\n",
       "    <tr>\n",
       "      <th>0</th>\n",
       "      <td>ID_0040R73</td>\n",
       "      <td>2010-05-14</td>\n",
       "      <td>2011-05-13</td>\n",
       "      <td>Male</td>\n",
       "      <td>30</td>\n",
       "      <td>2010-05-14</td>\n",
       "      <td>1</td>\n",
       "      <td>Saloon</td>\n",
       "      <td>Black</td>\n",
       "      <td>TOYOTA</td>\n",
       "      <td>...</td>\n",
       "      <td>1.305377</td>\n",
       "      <td>1</td>\n",
       "      <td>6</td>\n",
       "      <td>Saloon_TOYOTA</td>\n",
       "      <td>Car Classic_TOYOTA</td>\n",
       "      <td>0</td>\n",
       "      <td>1</td>\n",
       "      <td>0</td>\n",
       "      <td>1</td>\n",
       "      <td>0</td>\n",
       "    </tr>\n",
       "    <tr>\n",
       "      <th>1</th>\n",
       "      <td>ID_0046BNK</td>\n",
       "      <td>2010-11-29</td>\n",
       "      <td>2011-11-28</td>\n",
       "      <td>Female</td>\n",
       "      <td>79</td>\n",
       "      <td>2010-11-29</td>\n",
       "      <td>1</td>\n",
       "      <td>JEEP</td>\n",
       "      <td>Grey</td>\n",
       "      <td>TOYOTA</td>\n",
       "      <td>...</td>\n",
       "      <td>1.305377</td>\n",
       "      <td>1</td>\n",
       "      <td>6</td>\n",
       "      <td>JEEP_TOYOTA</td>\n",
       "      <td>Car Classic_TOYOTA</td>\n",
       "      <td>0</td>\n",
       "      <td>1</td>\n",
       "      <td>0</td>\n",
       "      <td>1</td>\n",
       "      <td>0</td>\n",
       "    </tr>\n",
       "    <tr>\n",
       "      <th>2</th>\n",
       "      <td>ID_005QMC3</td>\n",
       "      <td>2010-03-21</td>\n",
       "      <td>2011-03-20</td>\n",
       "      <td>Male</td>\n",
       "      <td>43</td>\n",
       "      <td>2010-03-21</td>\n",
       "      <td>1</td>\n",
       "      <td>Saloon</td>\n",
       "      <td>Red</td>\n",
       "      <td>TOYOTA</td>\n",
       "      <td>...</td>\n",
       "      <td>1.305377</td>\n",
       "      <td>1</td>\n",
       "      <td>6</td>\n",
       "      <td>Saloon_TOYOTA</td>\n",
       "      <td>Car Classic_TOYOTA</td>\n",
       "      <td>0</td>\n",
       "      <td>1</td>\n",
       "      <td>0</td>\n",
       "      <td>1</td>\n",
       "      <td>0</td>\n",
       "    </tr>\n",
       "    <tr>\n",
       "      <th>3</th>\n",
       "      <td>ID_0079OHW</td>\n",
       "      <td>2010-08-21</td>\n",
       "      <td>2011-08-20</td>\n",
       "      <td>Male</td>\n",
       "      <td>2</td>\n",
       "      <td>2010-08-21</td>\n",
       "      <td>1</td>\n",
       "      <td>NaN</td>\n",
       "      <td>NaN</td>\n",
       "      <td>NaN</td>\n",
       "      <td>...</td>\n",
       "      <td>1.094367</td>\n",
       "      <td>1</td>\n",
       "      <td>10</td>\n",
       "      <td>NaN</td>\n",
       "      <td>NaN</td>\n",
       "      <td>0</td>\n",
       "      <td>0</td>\n",
       "      <td>1</td>\n",
       "      <td>1</td>\n",
       "      <td>0</td>\n",
       "    </tr>\n",
       "    <tr>\n",
       "      <th>4</th>\n",
       "      <td>ID_00BRP63</td>\n",
       "      <td>2010-08-29</td>\n",
       "      <td>2010-12-31</td>\n",
       "      <td>Entity</td>\n",
       "      <td>20</td>\n",
       "      <td>2010-08-29</td>\n",
       "      <td>3</td>\n",
       "      <td>NaN</td>\n",
       "      <td>NaN</td>\n",
       "      <td>NaN</td>\n",
       "      <td>...</td>\n",
       "      <td>3.490000</td>\n",
       "      <td>1</td>\n",
       "      <td>10</td>\n",
       "      <td>NaN</td>\n",
       "      <td>NaN</td>\n",
       "      <td>0</td>\n",
       "      <td>0</td>\n",
       "      <td>1</td>\n",
       "      <td>0</td>\n",
       "      <td>1</td>\n",
       "    </tr>\n",
       "  </tbody>\n",
       "</table>\n",
       "<p>5 rows × 34 columns</p>\n",
       "</div>"
      ],
      "text/plain": [
       "           ID Policy Start Date Policy End Date  Gender  Age  \\\n",
       "0  ID_0040R73        2010-05-14      2011-05-13    Male   30   \n",
       "1  ID_0046BNK        2010-11-29      2011-11-28  Female   79   \n",
       "2  ID_005QMC3        2010-03-21      2011-03-20    Male   43   \n",
       "3  ID_0079OHW        2010-08-21      2011-08-20    Male    2   \n",
       "4  ID_00BRP63        2010-08-29      2010-12-31  Entity   20   \n",
       "\n",
       "  First Transaction Date  No_Pol Car_Category Subject_Car_Colour  \\\n",
       "0             2010-05-14       1       Saloon              Black   \n",
       "1             2010-11-29       1         JEEP               Grey   \n",
       "2             2010-03-21       1       Saloon                Red   \n",
       "3             2010-08-21       1          NaN                NaN   \n",
       "4             2010-08-29       3          NaN                NaN   \n",
       "\n",
       "  Subject_Car_Make  ... prod_pol_mean prod_pol_min prod_pol_max  \\\n",
       "0           TOYOTA  ...      1.305377            1            6   \n",
       "1           TOYOTA  ...      1.305377            1            6   \n",
       "2           TOYOTA  ...      1.305377            1            6   \n",
       "3              NaN  ...      1.094367            1           10   \n",
       "4              NaN  ...      3.490000            1           10   \n",
       "\n",
       "   Car_Make_Category     Car_ProductName  White_to_others  \\\n",
       "0      Saloon_TOYOTA  Car Classic_TOYOTA                0   \n",
       "1        JEEP_TOYOTA  Car Classic_TOYOTA                0   \n",
       "2      Saloon_TOYOTA  Car Classic_TOYOTA                0   \n",
       "3                NaN                 NaN                0   \n",
       "4                NaN                 NaN                0   \n",
       "\n",
       "   high-premium_car_brand  low-premium_car_brand  higher-premium_areas  \\\n",
       "0                       1                      0                     1   \n",
       "1                       1                      0                     1   \n",
       "2                       1                      0                     1   \n",
       "3                       0                      1                     1   \n",
       "4                       0                      1                     0   \n",
       "\n",
       "   lower-premium_areas  \n",
       "0                    0  \n",
       "1                    0  \n",
       "2                    0  \n",
       "3                    0  \n",
       "4                    1  \n",
       "\n",
       "[5 rows x 34 columns]"
      ]
     },
     "execution_count": 27,
     "metadata": {},
     "output_type": "execute_result"
    }
   ],
   "source": [
    "data.head()"
   ]
  },
  {
   "cell_type": "markdown",
   "metadata": {
    "id": "Xn0yL37W8oPu"
   },
   "source": [
    "**Now, One hot encoding of all categorical feature:**"
   ]
  },
  {
   "cell_type": "code",
   "execution_count": 28,
   "metadata": {
    "executionInfo": {
     "elapsed": 414,
     "status": "ok",
     "timestamp": 1624358992477,
     "user": {
      "displayName": "Adeyinka Sotunde",
      "photoUrl": "",
      "userId": "11399296787173668069"
     },
     "user_tz": -60
    },
    "id": "gqXhtZCf-pD6"
   },
   "outputs": [],
   "source": [
    "# One hot encoding of all categorical features\n",
    "gender_dummies = pd.get_dummies(data.Gender)\n",
    "data = pd.concat([data,gender_dummies], axis=1)\n",
    "data = data.drop(\"Gender\", axis=1)\n",
    "\n",
    "Car_Category_dummies = pd.get_dummies(data.Car_Category)\n",
    "data = pd.concat([data,Car_Category_dummies], axis=1)\n",
    "data = data.drop(\"Car_Category\", axis=1)\n",
    "  \n",
    "Subject_Car_Colour_dummies = pd.get_dummies(data.Subject_Car_Colour)\n",
    "data = pd.concat([data,Subject_Car_Colour_dummies], axis=1)\n",
    "data = data.drop(\"Subject_Car_Colour\", axis=1)\n",
    "  \n",
    "Subject_Car_Make_dummies = pd.get_dummies(data.Subject_Car_Make)\n",
    "data = pd.concat([data,Subject_Car_Make_dummies], axis=1)\n",
    "data = data.drop(\"Subject_Car_Make\", axis=1)\n",
    "  \n",
    "LGA_Name_dummies = pd.get_dummies(data.LGA_Name)\n",
    "data = pd.concat([data,LGA_Name_dummies], axis=1)\n",
    "data = data.drop(\"LGA_Name\", axis=1)\n",
    "  \n",
    "State_dummies = pd.get_dummies(data.State)\n",
    "data = pd.concat([data,State_dummies], axis=1)\n",
    "data = data.drop(\"State\", axis=1)\n",
    "  \n",
    "ProductName_dummies = pd.get_dummies(data.ProductName)\n",
    "data = pd.concat([data,ProductName_dummies], axis=1)\n",
    "data = data.drop(\"ProductName\", axis=1)\n",
    "\n",
    "Car_Make_Category_dummies = pd.get_dummies(data.Car_Make_Category)\n",
    "data = pd.concat([data,Car_Make_Category_dummies], axis=1)\n",
    "data = data.drop(\"Car_Make_Category\", axis=1)\n",
    "\n",
    "Car_ProductName_dummies = pd.get_dummies(data.Car_ProductName)\n",
    "data = pd.concat([data,Car_ProductName_dummies], axis=1)\n",
    "data = data.drop(\"Car_ProductName\", axis=1)\n",
    "  \n",
    "del data['ID']"
   ]
  },
  {
   "cell_type": "code",
   "execution_count": 29,
   "metadata": {
    "colab": {
     "base_uri": "https://localhost:8080/"
    },
    "executionInfo": {
     "elapsed": 12,
     "status": "ok",
     "timestamp": 1624358992478,
     "user": {
      "displayName": "Adeyinka Sotunde",
      "photoUrl": "",
      "userId": "11399296787173668069"
     },
     "user_tz": -60
    },
    "id": "2LgsfmDy_r0_",
    "outputId": "85223375-2943-4271-f449-70a2428b1577"
   },
   "outputs": [
    {
     "data": {
      "text/plain": [
       "(13281, 908)"
      ]
     },
     "execution_count": 29,
     "metadata": {},
     "output_type": "execute_result"
    }
   ],
   "source": [
    "data.shape"
   ]
  },
  {
   "cell_type": "code",
   "execution_count": 30,
   "metadata": {
    "executionInfo": {
     "elapsed": 9,
     "status": "ok",
     "timestamp": 1624358992478,
     "user": {
      "displayName": "Adeyinka Sotunde",
      "photoUrl": "",
      "userId": "11399296787173668069"
     },
     "user_tz": -60
    },
    "id": "rKyqvptF_t8n"
   },
   "outputs": [],
   "source": [
    "date_col = ['Policy Start Date','Policy End Date','First Transaction Date']"
   ]
  },
  {
   "cell_type": "code",
   "execution_count": 31,
   "metadata": {
    "executionInfo": {
     "elapsed": 9,
     "status": "ok",
     "timestamp": 1624358992479,
     "user": {
      "displayName": "Adeyinka Sotunde",
      "photoUrl": "",
      "userId": "11399296787173668069"
     },
     "user_tz": -60
    },
    "id": "b1ZN3M5U_wFn"
   },
   "outputs": [],
   "source": [
    "# Feature binning\n",
    "from sklearn.preprocessing import KBinsDiscretizer\n",
    "age_discretizer = KBinsDiscretizer(n_bins=10, encode='ordinal', strategy='quantile')\n",
    "\n",
    "data['Age_Bins'] =age_discretizer.fit_transform(data['Age'].values.reshape(-1,1)).astype(int)"
   ]
  },
  {
   "cell_type": "markdown",
   "metadata": {
    "id": "OmMugxc_HbzS"
   },
   "source": [
    "#Adding Premium rate feature:\n",
    "\n",
    "**Explanation:** After reading about Factors affecting Car Insurance Premium rate Online. I discovered that assigning premium rate to every individual has a lot to do with Individual Age (Age being one of the factors used in assigning premium). Henceforth, individuals with age greater than 24yrs and less than or equal to 70yrs of age are considered very active individuals to drive on the road with lesser risk rate of involving in car accident. Thereby assigning lower premium rate to these set of people will be a very important step to be taken by such an Insurance Company."
   ]
  },
  {
   "cell_type": "markdown",
   "metadata": {
    "id": "32lJejrFZEHx"
   },
   "source": [
    "**Creating Premium rate Categories (using higher-premium & lower-premium) according to individual Age:**"
   ]
  },
  {
   "cell_type": "code",
   "execution_count": 32,
   "metadata": {
    "executionInfo": {
     "elapsed": 1683,
     "status": "ok",
     "timestamp": 1624358994153,
     "user": {
      "displayName": "Adeyinka Sotunde",
      "photoUrl": "",
      "userId": "11399296787173668069"
     },
     "user_tz": -60
    },
    "id": "zH9sF_U9JwUu"
   },
   "outputs": [],
   "source": [
    "def chdx3(data):\n",
    "    if data.Age <=24:\n",
    "        return 'higher-premium'\n",
    "    elif data.Age >24 and data.Age <=70:\n",
    "        return 'lower_premium'\n",
    "    else:\n",
    "        return 'higher-premium'\n",
    "data['premium_rate'] = data.apply(lambda data:chdx3(data), axis=1)"
   ]
  },
  {
   "cell_type": "code",
   "execution_count": 33,
   "metadata": {
    "colab": {
     "base_uri": "https://localhost:8080/"
    },
    "executionInfo": {
     "elapsed": 8,
     "status": "ok",
     "timestamp": 1624358994153,
     "user": {
      "displayName": "Adeyinka Sotunde",
      "photoUrl": "",
      "userId": "11399296787173668069"
     },
     "user_tz": -60
    },
    "id": "V78hrzWZQeVF",
    "outputId": "6d875d85-20bb-4000-a006-4c6bc6dfa049"
   },
   "outputs": [
    {
     "data": {
      "text/plain": [
       "lower_premium     11441\n",
       "higher-premium     1840\n",
       "Name: premium_rate, dtype: int64"
      ]
     },
     "execution_count": 33,
     "metadata": {},
     "output_type": "execute_result"
    }
   ],
   "source": [
    "data['premium_rate'].value_counts()"
   ]
  },
  {
   "cell_type": "markdown",
   "metadata": {
    "id": "T93kybiHYlzX"
   },
   "source": [
    "**Creating dummy for \"premuim_rate\":**"
   ]
  },
  {
   "cell_type": "code",
   "execution_count": 34,
   "metadata": {
    "executionInfo": {
     "elapsed": 527,
     "status": "ok",
     "timestamp": 1624358994676,
     "user": {
      "displayName": "Adeyinka Sotunde",
      "photoUrl": "",
      "userId": "11399296787173668069"
     },
     "user_tz": -60
    },
    "id": "txowJNkfMO0V"
   },
   "outputs": [],
   "source": [
    "premium_rate_dummies = pd.get_dummies(data.premium_rate)\n",
    "data = pd.concat([data,premium_rate_dummies], axis=1)\n",
    "data = data.drop(\"premium_rate\", axis=1)"
   ]
  },
  {
   "cell_type": "markdown",
   "metadata": {
    "id": "Q6bsPr3EAv5z"
   },
   "source": [
    "**Creating Age Categories based on Individual working rate:**"
   ]
  },
  {
   "cell_type": "code",
   "execution_count": 35,
   "metadata": {
    "executionInfo": {
     "elapsed": 14,
     "status": "ok",
     "timestamp": 1624358994677,
     "user": {
      "displayName": "Adeyinka Sotunde",
      "photoUrl": "",
      "userId": "11399296787173668069"
     },
     "user_tz": -60
    },
    "id": "K8oTMush_zfJ"
   },
   "outputs": [],
   "source": [
    "def age_category(x):\n",
    "    if x >= 15 and x <= 24:\n",
    "        return 'Early_working_Age'\n",
    "    elif x >= 25 and x <= 54:\n",
    "        return 'Prime_working_Age'\n",
    "    elif x >= 55 and x <= 64:\n",
    "        return 'Mature_working_Age'\n",
    "    else:\n",
    "        return 'Elderly_working_Age'\n",
    "data['Age_category'] = data['Age'].apply(age_category)"
   ]
  },
  {
   "cell_type": "markdown",
   "metadata": {
    "id": "aSvorLF7YzMY"
   },
   "source": [
    "**Creating dummy for \"Age Categories\":**"
   ]
  },
  {
   "cell_type": "code",
   "execution_count": 36,
   "metadata": {
    "executionInfo": {
     "elapsed": 15,
     "status": "ok",
     "timestamp": 1624358994679,
     "user": {
      "displayName": "Adeyinka Sotunde",
      "photoUrl": "",
      "userId": "11399296787173668069"
     },
     "user_tz": -60
    },
    "id": "RNa7nmewAgV7"
   },
   "outputs": [],
   "source": [
    "Age_category_dummies = pd.get_dummies(data.Age_category)\n",
    "data = pd.concat([data,Age_category_dummies], axis=1)\n",
    "data = data.drop(\"Age_category\", axis=1)"
   ]
  },
  {
   "cell_type": "markdown",
   "metadata": {
    "id": "reFFxhIfClhG"
   },
   "source": [
    "**Creating Quarterly_policy categories:**"
   ]
  },
  {
   "cell_type": "code",
   "execution_count": 37,
   "metadata": {
    "executionInfo": {
     "elapsed": 17,
     "status": "ok",
     "timestamp": 1624358994681,
     "user": {
      "displayName": "Adeyinka Sotunde",
      "photoUrl": "",
      "userId": "11399296787173668069"
     },
     "user_tz": -60
    },
    "id": "mDtP8luWBfd_"
   },
   "outputs": [],
   "source": [
    "def pol(x):\n",
    "    if x <= 95:\n",
    "        return '3months'\n",
    "    elif x > 95 and x <=185:\n",
    "        return '6months'\n",
    "    elif x > 185 and x <= 275:\n",
    "        return '9months'\n",
    "    elif x > 275 and x <= 365:\n",
    "        return '12months'\n",
    "    else:\n",
    "        return 'a year+'\n",
    "data['Quarterly_policy'] = data['policy_span'].apply(pol)"
   ]
  },
  {
   "cell_type": "markdown",
   "metadata": {
    "id": "RP7qti_kZ1yh"
   },
   "source": [
    "**Creating dummy for Quarterly_Policy categories:**"
   ]
  },
  {
   "cell_type": "code",
   "execution_count": 38,
   "metadata": {
    "executionInfo": {
     "elapsed": 16,
     "status": "ok",
     "timestamp": 1624358994682,
     "user": {
      "displayName": "Adeyinka Sotunde",
      "photoUrl": "",
      "userId": "11399296787173668069"
     },
     "user_tz": -60
    },
    "id": "rhnlAaoFCRBn"
   },
   "outputs": [],
   "source": [
    "Quarterly_policy_dummies = pd.get_dummies(data.Quarterly_policy)\n",
    "data = pd.concat([data,Quarterly_policy_dummies], axis=1)\n",
    "data = data.drop(\"Quarterly_policy\", axis=1)"
   ]
  },
  {
   "cell_type": "code",
   "execution_count": 39,
   "metadata": {
    "colab": {
     "base_uri": "https://localhost:8080/",
     "height": 389
    },
    "executionInfo": {
     "elapsed": 17,
     "status": "ok",
     "timestamp": 1624358994683,
     "user": {
      "displayName": "Adeyinka Sotunde",
      "photoUrl": "",
      "userId": "11399296787173668069"
     },
     "user_tz": -60
    },
    "id": "sO45p-b4Ml5p",
    "outputId": "2f060ae9-c994-428d-d382-061140e7489f"
   },
   "outputs": [
    {
     "data": {
      "text/html": [
       "<div>\n",
       "<style scoped>\n",
       "    .dataframe tbody tr th:only-of-type {\n",
       "        vertical-align: middle;\n",
       "    }\n",
       "\n",
       "    .dataframe tbody tr th {\n",
       "        vertical-align: top;\n",
       "    }\n",
       "\n",
       "    .dataframe thead th {\n",
       "        text-align: right;\n",
       "    }\n",
       "</style>\n",
       "<table border=\"1\" class=\"dataframe\">\n",
       "  <thead>\n",
       "    <tr style=\"text-align: right;\">\n",
       "      <th></th>\n",
       "      <th>Policy Start Date</th>\n",
       "      <th>Policy End Date</th>\n",
       "      <th>Age</th>\n",
       "      <th>First Transaction Date</th>\n",
       "      <th>No_Pol</th>\n",
       "      <th>policy_span</th>\n",
       "      <th>Gender_count</th>\n",
       "      <th>Car_Category_count</th>\n",
       "      <th>Subject_Car_Colour_count</th>\n",
       "      <th>Subject_Car_Make_count</th>\n",
       "      <th>...</th>\n",
       "      <th>lower_premium</th>\n",
       "      <th>Early_working_Age</th>\n",
       "      <th>Elderly_working_Age</th>\n",
       "      <th>Mature_working_Age</th>\n",
       "      <th>Prime_working_Age</th>\n",
       "      <th>12months</th>\n",
       "      <th>3months</th>\n",
       "      <th>6months</th>\n",
       "      <th>9months</th>\n",
       "      <th>a year+</th>\n",
       "    </tr>\n",
       "  </thead>\n",
       "  <tbody>\n",
       "    <tr>\n",
       "      <th>0</th>\n",
       "      <td>2010-05-14</td>\n",
       "      <td>2011-05-13</td>\n",
       "      <td>30</td>\n",
       "      <td>2010-05-14</td>\n",
       "      <td>1</td>\n",
       "      <td>364</td>\n",
       "      <td>8356.0</td>\n",
       "      <td>6633.0</td>\n",
       "      <td>2057.0</td>\n",
       "      <td>5466.0</td>\n",
       "      <td>...</td>\n",
       "      <td>1</td>\n",
       "      <td>0</td>\n",
       "      <td>0</td>\n",
       "      <td>0</td>\n",
       "      <td>1</td>\n",
       "      <td>1</td>\n",
       "      <td>0</td>\n",
       "      <td>0</td>\n",
       "      <td>0</td>\n",
       "      <td>0</td>\n",
       "    </tr>\n",
       "    <tr>\n",
       "      <th>1</th>\n",
       "      <td>2010-11-29</td>\n",
       "      <td>2011-11-28</td>\n",
       "      <td>79</td>\n",
       "      <td>2010-11-29</td>\n",
       "      <td>1</td>\n",
       "      <td>364</td>\n",
       "      <td>3679.0</td>\n",
       "      <td>2223.0</td>\n",
       "      <td>565.0</td>\n",
       "      <td>5466.0</td>\n",
       "      <td>...</td>\n",
       "      <td>0</td>\n",
       "      <td>0</td>\n",
       "      <td>1</td>\n",
       "      <td>0</td>\n",
       "      <td>0</td>\n",
       "      <td>1</td>\n",
       "      <td>0</td>\n",
       "      <td>0</td>\n",
       "      <td>0</td>\n",
       "      <td>0</td>\n",
       "    </tr>\n",
       "    <tr>\n",
       "      <th>2</th>\n",
       "      <td>2010-03-21</td>\n",
       "      <td>2011-03-20</td>\n",
       "      <td>43</td>\n",
       "      <td>2010-03-21</td>\n",
       "      <td>1</td>\n",
       "      <td>364</td>\n",
       "      <td>8356.0</td>\n",
       "      <td>6633.0</td>\n",
       "      <td>274.0</td>\n",
       "      <td>5466.0</td>\n",
       "      <td>...</td>\n",
       "      <td>1</td>\n",
       "      <td>0</td>\n",
       "      <td>0</td>\n",
       "      <td>0</td>\n",
       "      <td>1</td>\n",
       "      <td>1</td>\n",
       "      <td>0</td>\n",
       "      <td>0</td>\n",
       "      <td>0</td>\n",
       "      <td>0</td>\n",
       "    </tr>\n",
       "    <tr>\n",
       "      <th>3</th>\n",
       "      <td>2010-08-21</td>\n",
       "      <td>2011-08-20</td>\n",
       "      <td>2</td>\n",
       "      <td>2010-08-21</td>\n",
       "      <td>1</td>\n",
       "      <td>364</td>\n",
       "      <td>8356.0</td>\n",
       "      <td>NaN</td>\n",
       "      <td>NaN</td>\n",
       "      <td>NaN</td>\n",
       "      <td>...</td>\n",
       "      <td>0</td>\n",
       "      <td>0</td>\n",
       "      <td>1</td>\n",
       "      <td>0</td>\n",
       "      <td>0</td>\n",
       "      <td>1</td>\n",
       "      <td>0</td>\n",
       "      <td>0</td>\n",
       "      <td>0</td>\n",
       "      <td>0</td>\n",
       "    </tr>\n",
       "    <tr>\n",
       "      <th>4</th>\n",
       "      <td>2010-08-29</td>\n",
       "      <td>2010-12-31</td>\n",
       "      <td>20</td>\n",
       "      <td>2010-08-29</td>\n",
       "      <td>3</td>\n",
       "      <td>124</td>\n",
       "      <td>300.0</td>\n",
       "      <td>NaN</td>\n",
       "      <td>NaN</td>\n",
       "      <td>NaN</td>\n",
       "      <td>...</td>\n",
       "      <td>0</td>\n",
       "      <td>1</td>\n",
       "      <td>0</td>\n",
       "      <td>0</td>\n",
       "      <td>0</td>\n",
       "      <td>0</td>\n",
       "      <td>0</td>\n",
       "      <td>1</td>\n",
       "      <td>0</td>\n",
       "      <td>0</td>\n",
       "    </tr>\n",
       "  </tbody>\n",
       "</table>\n",
       "<p>5 rows × 920 columns</p>\n",
       "</div>"
      ],
      "text/plain": [
       "  Policy Start Date Policy End Date  Age First Transaction Date  No_Pol  \\\n",
       "0        2010-05-14      2011-05-13   30             2010-05-14       1   \n",
       "1        2010-11-29      2011-11-28   79             2010-11-29       1   \n",
       "2        2010-03-21      2011-03-20   43             2010-03-21       1   \n",
       "3        2010-08-21      2011-08-20    2             2010-08-21       1   \n",
       "4        2010-08-29      2010-12-31   20             2010-08-29       3   \n",
       "\n",
       "   policy_span  Gender_count  Car_Category_count  Subject_Car_Colour_count  \\\n",
       "0          364        8356.0              6633.0                    2057.0   \n",
       "1          364        3679.0              2223.0                     565.0   \n",
       "2          364        8356.0              6633.0                     274.0   \n",
       "3          364        8356.0                 NaN                       NaN   \n",
       "4          124         300.0                 NaN                       NaN   \n",
       "\n",
       "   Subject_Car_Make_count  ...  lower_premium  Early_working_Age  \\\n",
       "0                  5466.0  ...              1                  0   \n",
       "1                  5466.0  ...              0                  0   \n",
       "2                  5466.0  ...              1                  0   \n",
       "3                     NaN  ...              0                  0   \n",
       "4                     NaN  ...              0                  1   \n",
       "\n",
       "   Elderly_working_Age  Mature_working_Age  Prime_working_Age  12months  \\\n",
       "0                    0                   0                  1         1   \n",
       "1                    1                   0                  0         1   \n",
       "2                    0                   0                  1         1   \n",
       "3                    1                   0                  0         1   \n",
       "4                    0                   0                  0         0   \n",
       "\n",
       "   3months  6months  9months  a year+  \n",
       "0        0        0        0        0  \n",
       "1        0        0        0        0  \n",
       "2        0        0        0        0  \n",
       "3        0        0        0        0  \n",
       "4        0        1        0        0  \n",
       "\n",
       "[5 rows x 920 columns]"
      ]
     },
     "execution_count": 39,
     "metadata": {},
     "output_type": "execute_result"
    }
   ],
   "source": [
    "data.head()"
   ]
  },
  {
   "cell_type": "markdown",
   "metadata": {
    "id": "93vmQ44CS3-9"
   },
   "source": [
    "# Extract date features"
   ]
  },
  {
   "cell_type": "code",
   "execution_count": 40,
   "metadata": {
    "executionInfo": {
     "elapsed": 358,
     "status": "ok",
     "timestamp": 1624358995026,
     "user": {
      "displayName": "Adeyinka Sotunde",
      "photoUrl": "",
      "userId": "11399296787173668069"
     },
     "user_tz": -60
    },
    "id": "NbXAsHJE_ycv"
   },
   "outputs": [],
   "source": [
    "# Extract date features\n",
    "def extract_date_info(df,cols,):\n",
    "    for feat in cols:\n",
    "        df[feat +'_year'] = df[feat].dt.quarter\n",
    "        df[feat +'_day'] = df[feat].dt.day\n",
    "        df[feat +'_month'] = df[feat].dt.month\n",
    "        df[feat +'_quarter'] = df[feat].dt.quarter\n",
    "        df[feat +'_weekday'] = df[feat].dt.weekday\n",
    "        df[feat +'_week'] = df[feat].dt.week\n",
    "        df[feat + '_weekend'] = (df[feat].dt.weekday >=5).astype(int)\n",
    "        df[feat +'_weekofyear'] = df[feat].dt.weekofyear\n",
    "        df[feat +'_dayofweek'] = df[feat].dt.dayofweek\n",
    "    df.drop(columns=date_col,axis=1,inplace=True)\n",
    "\n",
    "\n",
    "extract_date_info(data,date_col)"
   ]
  },
  {
   "cell_type": "code",
   "execution_count": 41,
   "metadata": {
    "colab": {
     "base_uri": "https://localhost:8080/",
     "height": 304
    },
    "executionInfo": {
     "elapsed": 21,
     "status": "ok",
     "timestamp": 1624358995029,
     "user": {
      "displayName": "Adeyinka Sotunde",
      "photoUrl": "",
      "userId": "11399296787173668069"
     },
     "user_tz": -60
    },
    "id": "aDFmEPnkPVTG",
    "outputId": "5d6d35da-9c00-473c-8e24-5edbc5213cd7"
   },
   "outputs": [
    {
     "data": {
      "text/html": [
       "<div>\n",
       "<style scoped>\n",
       "    .dataframe tbody tr th:only-of-type {\n",
       "        vertical-align: middle;\n",
       "    }\n",
       "\n",
       "    .dataframe tbody tr th {\n",
       "        vertical-align: top;\n",
       "    }\n",
       "\n",
       "    .dataframe thead th {\n",
       "        text-align: right;\n",
       "    }\n",
       "</style>\n",
       "<table border=\"1\" class=\"dataframe\">\n",
       "  <thead>\n",
       "    <tr style=\"text-align: right;\">\n",
       "      <th></th>\n",
       "      <th>Age</th>\n",
       "      <th>No_Pol</th>\n",
       "      <th>policy_span</th>\n",
       "      <th>Gender_count</th>\n",
       "      <th>Car_Category_count</th>\n",
       "      <th>Subject_Car_Colour_count</th>\n",
       "      <th>Subject_Car_Make_count</th>\n",
       "      <th>State_count</th>\n",
       "      <th>ProductName_count</th>\n",
       "      <th>prod_category</th>\n",
       "      <th>...</th>\n",
       "      <th>Policy End Date_dayofweek</th>\n",
       "      <th>First Transaction Date_year</th>\n",
       "      <th>First Transaction Date_day</th>\n",
       "      <th>First Transaction Date_month</th>\n",
       "      <th>First Transaction Date_quarter</th>\n",
       "      <th>First Transaction Date_weekday</th>\n",
       "      <th>First Transaction Date_week</th>\n",
       "      <th>First Transaction Date_weekend</th>\n",
       "      <th>First Transaction Date_weekofyear</th>\n",
       "      <th>First Transaction Date_dayofweek</th>\n",
       "    </tr>\n",
       "  </thead>\n",
       "  <tbody>\n",
       "    <tr>\n",
       "      <th>0</th>\n",
       "      <td>30</td>\n",
       "      <td>1</td>\n",
       "      <td>364</td>\n",
       "      <td>8356.0</td>\n",
       "      <td>6633.0</td>\n",
       "      <td>2057.0</td>\n",
       "      <td>5466.0</td>\n",
       "      <td>NaN</td>\n",
       "      <td>7142</td>\n",
       "      <td>5124</td>\n",
       "      <td>...</td>\n",
       "      <td>4</td>\n",
       "      <td>2</td>\n",
       "      <td>14</td>\n",
       "      <td>5</td>\n",
       "      <td>2</td>\n",
       "      <td>4</td>\n",
       "      <td>19</td>\n",
       "      <td>0</td>\n",
       "      <td>19</td>\n",
       "      <td>4</td>\n",
       "    </tr>\n",
       "    <tr>\n",
       "      <th>1</th>\n",
       "      <td>79</td>\n",
       "      <td>1</td>\n",
       "      <td>364</td>\n",
       "      <td>3679.0</td>\n",
       "      <td>2223.0</td>\n",
       "      <td>565.0</td>\n",
       "      <td>5466.0</td>\n",
       "      <td>NaN</td>\n",
       "      <td>7142</td>\n",
       "      <td>5124</td>\n",
       "      <td>...</td>\n",
       "      <td>0</td>\n",
       "      <td>4</td>\n",
       "      <td>29</td>\n",
       "      <td>11</td>\n",
       "      <td>4</td>\n",
       "      <td>0</td>\n",
       "      <td>48</td>\n",
       "      <td>0</td>\n",
       "      <td>48</td>\n",
       "      <td>0</td>\n",
       "    </tr>\n",
       "    <tr>\n",
       "      <th>2</th>\n",
       "      <td>43</td>\n",
       "      <td>1</td>\n",
       "      <td>364</td>\n",
       "      <td>8356.0</td>\n",
       "      <td>6633.0</td>\n",
       "      <td>274.0</td>\n",
       "      <td>5466.0</td>\n",
       "      <td>NaN</td>\n",
       "      <td>7142</td>\n",
       "      <td>5124</td>\n",
       "      <td>...</td>\n",
       "      <td>6</td>\n",
       "      <td>1</td>\n",
       "      <td>21</td>\n",
       "      <td>3</td>\n",
       "      <td>1</td>\n",
       "      <td>6</td>\n",
       "      <td>11</td>\n",
       "      <td>1</td>\n",
       "      <td>11</td>\n",
       "      <td>6</td>\n",
       "    </tr>\n",
       "    <tr>\n",
       "      <th>3</th>\n",
       "      <td>2</td>\n",
       "      <td>1</td>\n",
       "      <td>364</td>\n",
       "      <td>8356.0</td>\n",
       "      <td>NaN</td>\n",
       "      <td>NaN</td>\n",
       "      <td>NaN</td>\n",
       "      <td>NaN</td>\n",
       "      <td>4154</td>\n",
       "      <td>2887</td>\n",
       "      <td>...</td>\n",
       "      <td>5</td>\n",
       "      <td>3</td>\n",
       "      <td>21</td>\n",
       "      <td>8</td>\n",
       "      <td>3</td>\n",
       "      <td>5</td>\n",
       "      <td>33</td>\n",
       "      <td>1</td>\n",
       "      <td>33</td>\n",
       "      <td>5</td>\n",
       "    </tr>\n",
       "    <tr>\n",
       "      <th>4</th>\n",
       "      <td>20</td>\n",
       "      <td>3</td>\n",
       "      <td>124</td>\n",
       "      <td>300.0</td>\n",
       "      <td>NaN</td>\n",
       "      <td>NaN</td>\n",
       "      <td>NaN</td>\n",
       "      <td>3494.0</td>\n",
       "      <td>100</td>\n",
       "      <td>1</td>\n",
       "      <td>...</td>\n",
       "      <td>4</td>\n",
       "      <td>3</td>\n",
       "      <td>29</td>\n",
       "      <td>8</td>\n",
       "      <td>3</td>\n",
       "      <td>6</td>\n",
       "      <td>34</td>\n",
       "      <td>1</td>\n",
       "      <td>34</td>\n",
       "      <td>6</td>\n",
       "    </tr>\n",
       "  </tbody>\n",
       "</table>\n",
       "<p>5 rows × 944 columns</p>\n",
       "</div>"
      ],
      "text/plain": [
       "   Age  No_Pol  policy_span  Gender_count  Car_Category_count  \\\n",
       "0   30       1          364        8356.0              6633.0   \n",
       "1   79       1          364        3679.0              2223.0   \n",
       "2   43       1          364        8356.0              6633.0   \n",
       "3    2       1          364        8356.0                 NaN   \n",
       "4   20       3          124         300.0                 NaN   \n",
       "\n",
       "   Subject_Car_Colour_count  Subject_Car_Make_count  State_count  \\\n",
       "0                    2057.0                  5466.0          NaN   \n",
       "1                     565.0                  5466.0          NaN   \n",
       "2                     274.0                  5466.0          NaN   \n",
       "3                       NaN                     NaN          NaN   \n",
       "4                       NaN                     NaN       3494.0   \n",
       "\n",
       "   ProductName_count  prod_category  ...  Policy End Date_dayofweek  \\\n",
       "0               7142           5124  ...                          4   \n",
       "1               7142           5124  ...                          0   \n",
       "2               7142           5124  ...                          6   \n",
       "3               4154           2887  ...                          5   \n",
       "4                100              1  ...                          4   \n",
       "\n",
       "   First Transaction Date_year  First Transaction Date_day  \\\n",
       "0                            2                          14   \n",
       "1                            4                          29   \n",
       "2                            1                          21   \n",
       "3                            3                          21   \n",
       "4                            3                          29   \n",
       "\n",
       "   First Transaction Date_month  First Transaction Date_quarter  \\\n",
       "0                             5                               2   \n",
       "1                            11                               4   \n",
       "2                             3                               1   \n",
       "3                             8                               3   \n",
       "4                             8                               3   \n",
       "\n",
       "   First Transaction Date_weekday  First Transaction Date_week  \\\n",
       "0                               4                           19   \n",
       "1                               0                           48   \n",
       "2                               6                           11   \n",
       "3                               5                           33   \n",
       "4                               6                           34   \n",
       "\n",
       "   First Transaction Date_weekend  First Transaction Date_weekofyear  \\\n",
       "0                               0                                 19   \n",
       "1                               0                                 48   \n",
       "2                               1                                 11   \n",
       "3                               1                                 33   \n",
       "4                               1                                 34   \n",
       "\n",
       "   First Transaction Date_dayofweek  \n",
       "0                                 4  \n",
       "1                                 0  \n",
       "2                                 6  \n",
       "3                                 5  \n",
       "4                                 6  \n",
       "\n",
       "[5 rows x 944 columns]"
      ]
     },
     "execution_count": 41,
     "metadata": {},
     "output_type": "execute_result"
    }
   ],
   "source": [
    "data.head()"
   ]
  },
  {
   "cell_type": "markdown",
   "metadata": {
    "id": "xdudCqBmS8YJ"
   },
   "source": [
    "# Adding Cyclic features "
   ]
  },
  {
   "cell_type": "code",
   "execution_count": 42,
   "metadata": {
    "executionInfo": {
     "elapsed": 21,
     "status": "ok",
     "timestamp": 1624358995032,
     "user": {
      "displayName": "Adeyinka Sotunde",
      "photoUrl": "",
      "userId": "11399296787173668069"
     },
     "user_tz": -60
    },
    "id": "JDZRBRyBJ_KR"
   },
   "outputs": [],
   "source": [
    "# Adding Cyclic features \n",
    "data['Policy Start Date_day_cos'] = np.cos(data['Policy Start Date_day'])\n",
    "data['Policy Start Date_day_sin'] = np.sin(data['Policy Start Date_day']) "
   ]
  },
  {
   "cell_type": "code",
   "execution_count": 43,
   "metadata": {
    "colab": {
     "base_uri": "https://localhost:8080/",
     "height": 304
    },
    "executionInfo": {
     "elapsed": 21,
     "status": "ok",
     "timestamp": 1624358995033,
     "user": {
      "displayName": "Adeyinka Sotunde",
      "photoUrl": "",
      "userId": "11399296787173668069"
     },
     "user_tz": -60
    },
    "id": "QhCYVJkr-pBT",
    "outputId": "709caac9-c7e2-4a5b-d2cc-f0386d6c4b3c"
   },
   "outputs": [
    {
     "data": {
      "text/html": [
       "<div>\n",
       "<style scoped>\n",
       "    .dataframe tbody tr th:only-of-type {\n",
       "        vertical-align: middle;\n",
       "    }\n",
       "\n",
       "    .dataframe tbody tr th {\n",
       "        vertical-align: top;\n",
       "    }\n",
       "\n",
       "    .dataframe thead th {\n",
       "        text-align: right;\n",
       "    }\n",
       "</style>\n",
       "<table border=\"1\" class=\"dataframe\">\n",
       "  <thead>\n",
       "    <tr style=\"text-align: right;\">\n",
       "      <th></th>\n",
       "      <th>Age</th>\n",
       "      <th>No_Pol</th>\n",
       "      <th>policy_span</th>\n",
       "      <th>Gender_count</th>\n",
       "      <th>Car_Category_count</th>\n",
       "      <th>Subject_Car_Colour_count</th>\n",
       "      <th>Subject_Car_Make_count</th>\n",
       "      <th>State_count</th>\n",
       "      <th>ProductName_count</th>\n",
       "      <th>prod_category</th>\n",
       "      <th>...</th>\n",
       "      <th>First Transaction Date_day</th>\n",
       "      <th>First Transaction Date_month</th>\n",
       "      <th>First Transaction Date_quarter</th>\n",
       "      <th>First Transaction Date_weekday</th>\n",
       "      <th>First Transaction Date_week</th>\n",
       "      <th>First Transaction Date_weekend</th>\n",
       "      <th>First Transaction Date_weekofyear</th>\n",
       "      <th>First Transaction Date_dayofweek</th>\n",
       "      <th>Policy Start Date_day_cos</th>\n",
       "      <th>Policy Start Date_day_sin</th>\n",
       "    </tr>\n",
       "  </thead>\n",
       "  <tbody>\n",
       "    <tr>\n",
       "      <th>0</th>\n",
       "      <td>30</td>\n",
       "      <td>1</td>\n",
       "      <td>364</td>\n",
       "      <td>8356.0</td>\n",
       "      <td>6633.0</td>\n",
       "      <td>2057.0</td>\n",
       "      <td>5466.0</td>\n",
       "      <td>NaN</td>\n",
       "      <td>7142</td>\n",
       "      <td>5124</td>\n",
       "      <td>...</td>\n",
       "      <td>14</td>\n",
       "      <td>5</td>\n",
       "      <td>2</td>\n",
       "      <td>4</td>\n",
       "      <td>19</td>\n",
       "      <td>0</td>\n",
       "      <td>19</td>\n",
       "      <td>4</td>\n",
       "      <td>0.136737</td>\n",
       "      <td>0.990607</td>\n",
       "    </tr>\n",
       "    <tr>\n",
       "      <th>1</th>\n",
       "      <td>79</td>\n",
       "      <td>1</td>\n",
       "      <td>364</td>\n",
       "      <td>3679.0</td>\n",
       "      <td>2223.0</td>\n",
       "      <td>565.0</td>\n",
       "      <td>5466.0</td>\n",
       "      <td>NaN</td>\n",
       "      <td>7142</td>\n",
       "      <td>5124</td>\n",
       "      <td>...</td>\n",
       "      <td>29</td>\n",
       "      <td>11</td>\n",
       "      <td>4</td>\n",
       "      <td>0</td>\n",
       "      <td>48</td>\n",
       "      <td>0</td>\n",
       "      <td>48</td>\n",
       "      <td>0</td>\n",
       "      <td>-0.748058</td>\n",
       "      <td>-0.663634</td>\n",
       "    </tr>\n",
       "    <tr>\n",
       "      <th>2</th>\n",
       "      <td>43</td>\n",
       "      <td>1</td>\n",
       "      <td>364</td>\n",
       "      <td>8356.0</td>\n",
       "      <td>6633.0</td>\n",
       "      <td>274.0</td>\n",
       "      <td>5466.0</td>\n",
       "      <td>NaN</td>\n",
       "      <td>7142</td>\n",
       "      <td>5124</td>\n",
       "      <td>...</td>\n",
       "      <td>21</td>\n",
       "      <td>3</td>\n",
       "      <td>1</td>\n",
       "      <td>6</td>\n",
       "      <td>11</td>\n",
       "      <td>1</td>\n",
       "      <td>11</td>\n",
       "      <td>6</td>\n",
       "      <td>-0.547729</td>\n",
       "      <td>0.836656</td>\n",
       "    </tr>\n",
       "    <tr>\n",
       "      <th>3</th>\n",
       "      <td>2</td>\n",
       "      <td>1</td>\n",
       "      <td>364</td>\n",
       "      <td>8356.0</td>\n",
       "      <td>NaN</td>\n",
       "      <td>NaN</td>\n",
       "      <td>NaN</td>\n",
       "      <td>NaN</td>\n",
       "      <td>4154</td>\n",
       "      <td>2887</td>\n",
       "      <td>...</td>\n",
       "      <td>21</td>\n",
       "      <td>8</td>\n",
       "      <td>3</td>\n",
       "      <td>5</td>\n",
       "      <td>33</td>\n",
       "      <td>1</td>\n",
       "      <td>33</td>\n",
       "      <td>5</td>\n",
       "      <td>-0.547729</td>\n",
       "      <td>0.836656</td>\n",
       "    </tr>\n",
       "    <tr>\n",
       "      <th>4</th>\n",
       "      <td>20</td>\n",
       "      <td>3</td>\n",
       "      <td>124</td>\n",
       "      <td>300.0</td>\n",
       "      <td>NaN</td>\n",
       "      <td>NaN</td>\n",
       "      <td>NaN</td>\n",
       "      <td>3494.0</td>\n",
       "      <td>100</td>\n",
       "      <td>1</td>\n",
       "      <td>...</td>\n",
       "      <td>29</td>\n",
       "      <td>8</td>\n",
       "      <td>3</td>\n",
       "      <td>6</td>\n",
       "      <td>34</td>\n",
       "      <td>1</td>\n",
       "      <td>34</td>\n",
       "      <td>6</td>\n",
       "      <td>-0.748058</td>\n",
       "      <td>-0.663634</td>\n",
       "    </tr>\n",
       "  </tbody>\n",
       "</table>\n",
       "<p>5 rows × 946 columns</p>\n",
       "</div>"
      ],
      "text/plain": [
       "   Age  No_Pol  policy_span  Gender_count  Car_Category_count  \\\n",
       "0   30       1          364        8356.0              6633.0   \n",
       "1   79       1          364        3679.0              2223.0   \n",
       "2   43       1          364        8356.0              6633.0   \n",
       "3    2       1          364        8356.0                 NaN   \n",
       "4   20       3          124         300.0                 NaN   \n",
       "\n",
       "   Subject_Car_Colour_count  Subject_Car_Make_count  State_count  \\\n",
       "0                    2057.0                  5466.0          NaN   \n",
       "1                     565.0                  5466.0          NaN   \n",
       "2                     274.0                  5466.0          NaN   \n",
       "3                       NaN                     NaN          NaN   \n",
       "4                       NaN                     NaN       3494.0   \n",
       "\n",
       "   ProductName_count  prod_category  ...  First Transaction Date_day  \\\n",
       "0               7142           5124  ...                          14   \n",
       "1               7142           5124  ...                          29   \n",
       "2               7142           5124  ...                          21   \n",
       "3               4154           2887  ...                          21   \n",
       "4                100              1  ...                          29   \n",
       "\n",
       "   First Transaction Date_month  First Transaction Date_quarter  \\\n",
       "0                             5                               2   \n",
       "1                            11                               4   \n",
       "2                             3                               1   \n",
       "3                             8                               3   \n",
       "4                             8                               3   \n",
       "\n",
       "   First Transaction Date_weekday  First Transaction Date_week  \\\n",
       "0                               4                           19   \n",
       "1                               0                           48   \n",
       "2                               6                           11   \n",
       "3                               5                           33   \n",
       "4                               6                           34   \n",
       "\n",
       "   First Transaction Date_weekend  First Transaction Date_weekofyear  \\\n",
       "0                               0                                 19   \n",
       "1                               0                                 48   \n",
       "2                               1                                 11   \n",
       "3                               1                                 33   \n",
       "4                               1                                 34   \n",
       "\n",
       "   First Transaction Date_dayofweek  Policy Start Date_day_cos  \\\n",
       "0                                 4                   0.136737   \n",
       "1                                 0                  -0.748058   \n",
       "2                                 6                  -0.547729   \n",
       "3                                 5                  -0.547729   \n",
       "4                                 6                  -0.748058   \n",
       "\n",
       "   Policy Start Date_day_sin  \n",
       "0                   0.990607  \n",
       "1                  -0.663634  \n",
       "2                   0.836656  \n",
       "3                   0.836656  \n",
       "4                  -0.663634  \n",
       "\n",
       "[5 rows x 946 columns]"
      ]
     },
     "execution_count": 43,
     "metadata": {},
     "output_type": "execute_result"
    }
   ],
   "source": [
    "data.head(5)"
   ]
  },
  {
   "cell_type": "markdown",
   "metadata": {
    "id": "quZczvZJTGx9"
   },
   "source": [
    "**Remove duplicated columns if present (to prevent errors after one hot encoding)**"
   ]
  },
  {
   "cell_type": "code",
   "execution_count": 44,
   "metadata": {
    "executionInfo": {
     "elapsed": 19,
     "status": "ok",
     "timestamp": 1624358995034,
     "user": {
      "displayName": "Adeyinka Sotunde",
      "photoUrl": "",
      "userId": "11399296787173668069"
     },
     "user_tz": -60
    },
    "id": "Lh7el6GM_7MH"
   },
   "outputs": [],
   "source": [
    "cols=pd.Series(data.columns)\n",
    "for dup in cols[cols.duplicated()].unique(): \n",
    "    cols[cols[cols == dup].index.values.tolist()] = [dup + '.' + str(i) if i != 0 else dup for i in range(sum(cols == dup))]\n",
    "data.columns=cols"
   ]
  },
  {
   "cell_type": "markdown",
   "metadata": {
    "id": "d9etK16Q_8-x"
   },
   "source": [
    "**From above, over 500 features are generated. Henceforth, dropping some irrelevant features using feature importance and feature selection from previous Baseline Model:**"
   ]
  },
  {
   "cell_type": "code",
   "execution_count": 45,
   "metadata": {
    "executionInfo": {
     "elapsed": 363,
     "status": "ok",
     "timestamp": 1624358995379,
     "user": {
      "displayName": "Adeyinka Sotunde",
      "photoUrl": "",
      "userId": "11399296787173668069"
     },
     "user_tz": -60
    },
    "id": "EHltuxwk-o_H"
   },
   "outputs": [],
   "source": [
    "cols_to_remove = ['Bauchi','Abakaliki','Argungu','ENUGU SOUTH','Asa','Aba North','Aba South','AREPO','ALAPERE','Badagry','Asaba','Awka South','AWOYAYA','Bekwara','Asari-Toru',\n",
    "                  'Asokoro District','Awka','Ejigbo','Awka North','Egor','Calabar','Abeokuta North','Anthony Village','Akoka','Akinyele','Ajeromi-Ifelodun','Calabar Municipality',\n",
    "                  'Bosso','BARIGA','Akuku Toru','Central Area, Abuja','Akure North','Agbor','Akure South','Ado-Odo/Ota','Ado-Ekiti','Akwa Ibom','Bonny','Chanchaga','Aboh-Mbaise',\n",
    "                  'Anambra East','Biase','Aniocha South','Abeokuta South','Ankpa','Dopemu','Akoko North West','AKOWONJO','EMENE','Benue','EFFURUN','Lincoln','AKOKO-EDO','Red & Black',\n",
    "                  'Dark Gray','Dark Green','Dark Grey','Dark Red','Gray & Gray','Gray & Silver','Light Blue','Light Gray','Orange','Purple','Red & Blue','D. Red','Red & White','Red & Yellow',\n",
    "                  'Red Maroon','White & Blue','White & Red','White & Yellow','Yellow','Yellow & White','ABG','As Attached.1','Dark Blue','D. Gold','AJAO ESTATE','Tipper Truck','First Transaction Date_quarter',\n",
    "                  'NO GENDER','SEX','CAMRY CAR HIRE','First Transaction Date_year','Mini Van','Pick Up','Pick Up > 3 Tons','Shape Of Vehicle Chasis','Station 4 Wheel','Van','Cream','Wagon',\n",
    "                  'B.Silver','Beige Mitalic','Policy End Date_quarter','Black & Orange','Blue & Red','Blue Sky','Blue&White&Red','Burgundy','Champagne','Ashok Leyland','Astra','BRILLIANCE',\n",
    "                  'Rols Royce','Eket','MG','MINI COOPER','Man','Motorcycle.1','Opel','Porsche','REXTON','Raston','Renault','Scania','Bajaj','Seat','Skoda','Subaru','Suzuki','Tata',\n",
    "                  'Wrangler Jeep','Yamaha','ZOYTE',' IFAKO','AGBARA','Land Rover.','LIBERTY','KA','Jincheng','Black.1','Buik','CHANGAN','COMMANDER','Caddillac','Chrysler','DAF','Datsun',\n",
    "                  'Dodge','FOTON','GAC','GMC','Geely','Grand Cherokee','Howo','Hummer','Infiniti','Innson','Isuzu','Jaguar','Jeep','Ekeremor','Ughelli-North','Ekiti','Ekiti South-West','Aba-North',\n",
    "                  'Aba-South','Abia','Aboh-Mbaise.1','Abuja.1','Ado-Ekiti.1','Ado-Ota','Ajegunle-State','Ajeromi-Ifelodun.1','Akoko-West','Anambra-East','Aniocha-South','Asari-Toru.1','Awka-North',\n",
    "                  'Awka-South','Bauchi.1','Bayelsa','Warri-North','Calabar-Municipality','Central-Abuja','Cross-River','ENUGU-SOUTH','Ebonyi','Edo','Ekiti-East.1','AJAO-ESTATE','ABULE-EGBA',\n",
    "                  'kumbotso','Ukpoba','QuaAn Pan','RIVERS','Rogo','SANGO OTTA','SANGOTEDO','Shagamu','Somolu','Tai ','Udi Agwu','Udu','Ughelli North','Umuahia','Zaria ','Umuahia South','Uvwie',\n",
    "                  'Uyo','VGC','Warri-South','Warri North','Warri South','Wuse 11','Yenagoa','Yorro','Zaria','Ekiti-West','Enugu-North','Esan-Central','Ondo','N-A','Nasarawa','Ndokwa-East','Ngor-Okpala.1',\n",
    "                  'Nnewi-North','Nnewi-South','Nsit-Ubium','Obafemi-Owode.1','Ogba-Ndoni','Ogbmosho-South','Ogun-Waterside','Ondo-West','Kogi','Onitsha-North','Onitsha-South','Orile-Iganmu.1','Oshimili-North',\n",
    "                  'Ovia-SouthWest','Owerri-North','Owerri-West','Oyo-East','Oyo-West','QuaAn-Pan','Umuahia-South','Kwara','Kebbi','Esan-West','Ile-Oluji.1','Essien-Udim','Ethiope-East','Gombe.1','Ibadan-East',\n",
    "                  'Ibadan-North','Ibarapa-Central','Idemili-North','Idemili-south','Ife-North','Ijebu-East','Ijebu-North','Ilesha-East','Kano-Municipal','Ilesha-West','Ilorin-East','Ilorin-West',\n",
    "                  'Imo','Isoko-North','Isoko-south','Jos-North','Jos-South','Kaduna.1','Kaduna-South','Kano.1','Palm Groove','Oyo West','Oyo East','Ilesha','Ife North','Ijebu East',\n",
    "                  'Ijebu North','Ijora','Ikeja G.R.A','Ikenne','Ikot Ekpene','Ikotun','Ikwerre','Ile-Ife','Ile-Oluji','Ilesha East','Ifako-Agege','Ilesha West','Ilorin','Ilorin East','Ilorin West',\n",
    "                  'Irepodun','Isoko North','Isoko south','Iwo','Jibia','Jos North','Jos South','Udi-Agwu','Idemili south','Kaduna South','Gombe','Ekiti-East','Ekwusigo','Eleme','Enugu North','Epe',\n",
    "                  'Esan Central','Esan West','Essien Udim','Ethiope East','Garki','Garko','Goronyo','Idemili North','Hong','IBA','IBADAN NORTH EAST','IJAIYE','ISHAGA','Ibadan North','Ibadan North West',\n",
    "                  'Ibadan South East','Ibadan South West','Ibarapa Central','Idanre','Kaduna','Kajola','Oyo','Onitsha North','Ogun Waterside','Oguta','Ohaukwu','Ojodu','Okpe','Okpokwu','Okrika','Olamabolo',\n",
    "                  'Oluyole','Ondo West','Onitsha','Onitsha South','Ogbmosho South','Orile-Iganmu','Orolu','Orsu','Oshimili','Oshimili North','Osogbo','Oturkpo','Ovia SouthWest','Owerri North','Owerri West ','Oyi ',\n",
    "                  'Ogbomoso','Ogba/Egbema/Ndoni','Kano','Ngor-Okpala','Kano Municipal','Karu','Katagum','Keffi','Kuje','LGA','Car Vintage','Lokoja','MAGBORO','Marina','Ndokwa East','Niger State',\n",
    "                'Obalende','Njaba','Nnewi','Nnewi North','Nnewi South','Nsit Ubium','Nwangele','OBANIKORO','ONDO','ONIRU','OWODE','Obafemi-Owode','Ilasamaja']"
   ]
  },
  {
   "cell_type": "code",
   "execution_count": 46,
   "metadata": {
    "colab": {
     "base_uri": "https://localhost:8080/"
    },
    "executionInfo": {
     "elapsed": 12,
     "status": "ok",
     "timestamp": 1624358995379,
     "user": {
      "displayName": "Adeyinka Sotunde",
      "photoUrl": "",
      "userId": "11399296787173668069"
     },
     "user_tz": -60
    },
    "id": "wmFRfSwaAK4X",
    "outputId": "1d3d6095-307e-4f86-eee9-701497ff3ea5"
   },
   "outputs": [
    {
     "data": {
      "text/plain": [
       "379"
      ]
     },
     "execution_count": 46,
     "metadata": {},
     "output_type": "execute_result"
    }
   ],
   "source": [
    "len(cols_to_remove)"
   ]
  },
  {
   "cell_type": "code",
   "execution_count": 47,
   "metadata": {
    "executionInfo": {
     "elapsed": 10,
     "status": "ok",
     "timestamp": 1624358995380,
     "user": {
      "displayName": "Adeyinka Sotunde",
      "photoUrl": "",
      "userId": "11399296787173668069"
     },
     "user_tz": -60
    },
    "id": "uuXVG7RF-o8v"
   },
   "outputs": [],
   "source": [
    "data = data.drop(columns=cols_to_remove, axis=1)"
   ]
  },
  {
   "cell_type": "markdown",
   "metadata": {
    "id": "IfEUplc2Tci8"
   },
   "source": [
    "**Separating train and test datasets**"
   ]
  },
  {
   "cell_type": "code",
   "execution_count": 48,
   "metadata": {
    "executionInfo": {
     "elapsed": 9,
     "status": "ok",
     "timestamp": 1624358995380,
     "user": {
      "displayName": "Adeyinka Sotunde",
      "photoUrl": "",
      "userId": "11399296787173668069"
     },
     "user_tz": -60
    },
    "id": "GdNHuCzPAU8H"
   },
   "outputs": [],
   "source": [
    "train=data.iloc[:12079,]\n",
    "test= data.iloc[12079:,]\n",
    "\n",
    "y = target"
   ]
  },
  {
   "cell_type": "markdown",
   "metadata": {
    "id": "eU6ypn7nTqoS"
   },
   "source": [
    "**Again, concatenating train and test:**"
   ]
  },
  {
   "cell_type": "code",
   "execution_count": 49,
   "metadata": {
    "executionInfo": {
     "elapsed": 9,
     "status": "ok",
     "timestamp": 1624358995381,
     "user": {
      "displayName": "Adeyinka Sotunde",
      "photoUrl": "",
      "userId": "11399296787173668069"
     },
     "user_tz": -60
    },
    "id": "OWUxx55SqE--"
   },
   "outputs": [],
   "source": [
    "length = len(train)\n",
    "all_data2 = pd.concat([train, test])"
   ]
  },
  {
   "cell_type": "markdown",
   "metadata": {
    "id": "MFmWRkMK07R0"
   },
   "source": [
    "**NOTE:** From the prior Data Analysis and previous Baseline Model using feature importance, it was observed that feature \"AGE\" was the most important feature among other features. Therefore, i groupby the most important feature \"AGE\" with all other features using \"mean & freq values\" and this eventually increases my model f1_score on Zindi LB:"
   ]
  },
  {
   "cell_type": "markdown",
   "metadata": {
    "id": "iSBAfCesUDm7"
   },
   "source": [
    "**Groupby the most important feature \"Age\" with all other features**"
   ]
  },
  {
   "cell_type": "code",
   "execution_count": 50,
   "metadata": {
    "executionInfo": {
     "elapsed": 3066,
     "status": "ok",
     "timestamp": 1624358998439,
     "user": {
      "displayName": "Adeyinka Sotunde",
      "photoUrl": "",
      "userId": "11399296787173668069"
     },
     "user_tz": -60
    },
    "id": "ldW7wTWXp0K-"
   },
   "outputs": [],
   "source": [
    "pop = all_data2.groupby('Age').mean()\n",
    "#pop.drop('target', 1, inplace = True)\n",
    "cols = []\n",
    "for i in pop.columns:\n",
    "    if i != 'Age':\n",
    "        pop[i+'_Age_mean_all'] = pop[i]\n",
    "        pop.drop(i, 1, inplace = True)\n",
    "        cols.append(i+'_Age_mean_all')\n",
    "\n",
    "all_data2 = pd.merge(all_data2, pop, on='Age', how = 'left')\n",
    "for col in cols: all_data2[col+'_freq'] = all_data2[col].map(all_data2[col].value_counts().to_dict())/len(all_data2)"
   ]
  },
  {
   "cell_type": "markdown",
   "metadata": {
    "id": "j5Grcke5UKVD"
   },
   "source": [
    "**Get rid of feature \"Age\":**"
   ]
  },
  {
   "cell_type": "code",
   "execution_count": 51,
   "metadata": {
    "executionInfo": {
     "elapsed": 504,
     "status": "ok",
     "timestamp": 1624358998937,
     "user": {
      "displayName": "Adeyinka Sotunde",
      "photoUrl": "",
      "userId": "11399296787173668069"
     },
     "user_tz": -60
    },
    "id": "yhsdhBAfp6Am"
   },
   "outputs": [],
   "source": [
    "all_data2.drop(['Age',], 1, inplace = True)"
   ]
  },
  {
   "cell_type": "markdown",
   "metadata": {
    "id": "g5IVqaTpURij"
   },
   "source": [
    "**Separating train and test for the last time before modelling:**"
   ]
  },
  {
   "cell_type": "code",
   "execution_count": 52,
   "metadata": {
    "executionInfo": {
     "elapsed": 7,
     "status": "ok",
     "timestamp": 1624358998938,
     "user": {
      "displayName": "Adeyinka Sotunde",
      "photoUrl": "",
      "userId": "11399296787173668069"
     },
     "user_tz": -60
    },
    "id": "K20p_sZyp85S"
   },
   "outputs": [],
   "source": [
    "train_df = all_data2[:length]\n",
    "test_df = all_data2[length:]"
   ]
  },
  {
   "cell_type": "code",
   "execution_count": 53,
   "metadata": {
    "executionInfo": {
     "elapsed": 6,
     "status": "ok",
     "timestamp": 1624358998938,
     "user": {
      "displayName": "Adeyinka Sotunde",
      "photoUrl": "",
      "userId": "11399296787173668069"
     },
     "user_tz": -60
    },
    "id": "_UzRC_2urDdw"
   },
   "outputs": [],
   "source": [
    "train = train_df\n",
    "test = test_df"
   ]
  },
  {
   "cell_type": "markdown",
   "metadata": {
    "id": "lSowtJNiMPzJ"
   },
   "source": [
    "#Get rid of \"Highly Correlated Features\":"
   ]
  },
  {
   "cell_type": "code",
   "execution_count": 54,
   "metadata": {
    "colab": {
     "base_uri": "https://localhost:8080/"
    },
    "executionInfo": {
     "elapsed": 159597,
     "status": "ok",
     "timestamp": 1624359158530,
     "user": {
      "displayName": "Adeyinka Sotunde",
      "photoUrl": "",
      "userId": "11399296787173668069"
     },
     "user_tz": -60
    },
    "id": "UAAuPMYTL3JK",
    "outputId": "0d3a869d-71e3-416b-cab6-01597bf97938"
   },
   "outputs": [
    {
     "name": "stdout",
     "output_type": "stream",
     "text": [
      "FEAT_A: ProductName_count FEAT_B: prod_category - Correlation: 0.999676380470344\n",
      "FEAT_A: ProductName_count FEAT_B: prod_no_pol - Correlation: 1.0\n",
      "FEAT_A: White_to_others FEAT_B: White - Correlation: 1.0\n",
      "FEAT_A: high-premium_car_brand FEAT_B: Car Classic - Correlation: 1.0\n",
      "FEAT_A: Fiat FEAT_B: CVTP_Fiat - Correlation: 1.0\n",
      "FEAT_A: Iveco FEAT_B: CVTP_Iveco - Correlation: 1.0\n",
      "FEAT_A: Mack FEAT_B: CVTP_Mack - Correlation: 1.0\n",
      "FEAT_A: Abuja Municipal FEAT_B: Abuja-Municipal - Correlation: 1.0\n",
      "FEAT_A: Amuwo-Odofin FEAT_B: Amuwo-Odofin.1 - Correlation: 1.0\n",
      "FEAT_A: ENUGU EAST FEAT_B: ENUGU-EAST - Correlation: 1.0\n",
      "FEAT_A: Eti-Osa FEAT_B: Eti-Osa.1 - Correlation: 1.0\n",
      "FEAT_A: Etsako West FEAT_B: Etsako-West - Correlation: 1.0\n",
      "FEAT_A: Ibeju/Lekki FEAT_B: Ibeju-Lekki - Correlation: 1.0\n",
      "FEAT_A: Ifako-Ijaye  FEAT_B: Ifako-Ijaye - Correlation: 1.0\n",
      "FEAT_A: Ife Central FEAT_B: Ife-Central - Correlation: 1.0\n",
      "FEAT_A: Ijebu Ode FEAT_B: Ijebu-Ode - Correlation: 1.0\n",
      "FEAT_A: Kaduna North FEAT_B: Kaduna-North - Correlation: 1.0\n",
      "FEAT_A: Lagelu Ogbomosho North FEAT_B: Lagelu-North - Correlation: 1.0\n",
      "FEAT_A: Obia/Akpor FEAT_B: Obia-Akpor - Correlation: 1.0\n",
      "FEAT_A: Oshodi-Isolo FEAT_B: Oshodi-Isolo.1 - Correlation: 1.0\n",
      "FEAT_A: Owerri-Municipal FEAT_B: Owerri-Municipal.1 - Correlation: 1.0\n",
      "FEAT_A: Port-Harcourt FEAT_B: Port-Harcourt.1 - Correlation: 1.0\n",
      "FEAT_A: Warri Central FEAT_B: Warri-Central - Correlation: 1.0\n",
      "FEAT_A: Bus_Suzuki FEAT_B: CVTP_Suzuki - Correlation: 1.0\n",
      "FEAT_A: Bus_Volkswagen FEAT_B: CVTP_Volkswagen - Correlation: 1.0\n",
      "FEAT_A: JEEP_CHANGAN FEAT_B: Car Classic_CHANGAN - Correlation: 1.0\n",
      "FEAT_A: JEEP_Chrysler FEAT_B: Car Classic_Chrysler - Correlation: 1.0\n",
      "FEAT_A: JEEP_Grand Cherokee FEAT_B: Customized Motor_Grand Cherokee - Correlation: 1.0\n",
      "FEAT_A: JEEP_Isuzu FEAT_B: Car Classic_Isuzu - Correlation: 1.0\n",
      "FEAT_A: JEEP_KA FEAT_B: Car Classic_KA - Correlation: 1.0\n",
      "FEAT_A: JEEP_Lincoln FEAT_B: CarSafe_Lincoln - Correlation: 1.0\n",
      "FEAT_A: JEEP_MG FEAT_B: Car Classic_MG - Correlation: 1.0\n",
      "FEAT_A: JEEP_REXTON FEAT_B: Car Classic_REXTON - Correlation: 1.0\n",
      "FEAT_A: JEEP_Raston FEAT_B: Car Classic_Raston - Correlation: 1.0\n",
      "FEAT_A: Motorcycle_BMW FEAT_B: Motor Cycle_BMW - Correlation: 1.0\n",
      "FEAT_A: Motorcycle_Honda FEAT_B: Motor Cycle_Honda - Correlation: 1.0\n",
      "FEAT_A: Motorcycle_Jincheng FEAT_B: Motor Cycle_Jincheng - Correlation: 1.0\n",
      "FEAT_A: Saloon_ABG FEAT_B: CarSafe_ABG - Correlation: 1.0\n",
      "FEAT_A: Saloon_BRILLIANCE FEAT_B: CarSafe_BRILLIANCE - Correlation: 1.0\n",
      "FEAT_A: Saloon_Black FEAT_B: Car Classic_Black - Correlation: 1.0\n",
      "FEAT_A: Saloon_Buik FEAT_B: CarSafe_Buik - Correlation: 1.0\n",
      "FEAT_A: Saloon_COMMANDER FEAT_B: CarSafe_COMMANDER - Correlation: 1.0\n",
      "FEAT_A: Saloon_COMMANDER FEAT_B: Saloon_COMMANDER_Age_mean_all - Correlation: 1.0\n",
      "FEAT_A: Saloon_COMMANDER FEAT_B: CarSafe_COMMANDER_Age_mean_all - Correlation: 1.0\n",
      "FEAT_A: Saloon_Chrysler FEAT_B: CarSafe_Chrysler - Correlation: 1.0\n",
      "FEAT_A: Saloon_GMC FEAT_B: CarSafe_GMC - Correlation: 1.0\n",
      "FEAT_A: Saloon_Geely FEAT_B: CarSafe_Geely - Correlation: 1.0\n",
      "FEAT_A: Saloon_Grand Cherokee FEAT_B: CarSafe_Grand Cherokee - Correlation: 1.0\n",
      "FEAT_A: Saloon_Hummer FEAT_B: CarSafe_Hummer - Correlation: 1.0\n",
      "FEAT_A: Saloon_Innson FEAT_B: CarSafe_Innson - Correlation: 1.0\n",
      "FEAT_A: Saloon_Isuzu FEAT_B: CarSafe_Isuzu - Correlation: 1.0\n",
      "FEAT_A: Saloon_LIBERTY FEAT_B: CarSafe_LIBERTY - Correlation: 1.0\n",
      "FEAT_A: Saloon_Land Rover FEAT_B: CarSafe_Land Rover - Correlation: 1.0\n",
      "FEAT_A: Saloon_Range Rover FEAT_B: CarSafe_Range Rover - Correlation: 1.0\n",
      "FEAT_A: Saloon_Seat FEAT_B: CarSafe_Seat - Correlation: 1.0\n",
      "FEAT_A: Saloon_ZOYTE FEAT_B: CarSafe_ZOYTE - Correlation: 1.0\n",
      "FEAT_A: Truck_Ashok Leyland FEAT_B: CVTP_Ashok Leyland - Correlation: 1.0\n",
      "FEAT_A: Truck_Dodge FEAT_B: CVTP_Dodge - Correlation: 1.0\n",
      "FEAT_A: Age_Bins FEAT_B: Age_Bins_Age_mean_all - Correlation: 1.0\n",
      "FEAT_A: higher-premium FEAT_B: higher-premium_Age_mean_all - Correlation: 1.0\n",
      "FEAT_A: Early_working_Age FEAT_B: Early_working_Age_Age_mean_all - Correlation: 1.0\n",
      "FEAT_A: Elderly_working_Age FEAT_B: Elderly_working_Age_Age_mean_all - Correlation: 1.0\n",
      "FEAT_A: Mature_working_Age FEAT_B: Mature_working_Age_Age_mean_all - Correlation: 1.0\n",
      "FEAT_A: Prime_working_Age FEAT_B: Prime_working_Age_Age_mean_all - Correlation: 1.0\n",
      "FEAT_A: Prime_working_Age FEAT_B: Prime_working_Age_Age_mean_all_freq - Correlation: 1.0000000000001026\n",
      "FEAT_A: Policy Start Date_year FEAT_B: Policy Start Date_quarter - Correlation: 1.0\n",
      "FEAT_A: Policy Start Date_day FEAT_B: First Transaction Date_day - Correlation: 1.0\n",
      "FEAT_A: Policy Start Date_month FEAT_B: First Transaction Date_month - Correlation: 1.0\n",
      "FEAT_A: Policy Start Date_weekday FEAT_B: Policy Start Date_dayofweek - Correlation: 1.0\n",
      "FEAT_A: Policy Start Date_weekday FEAT_B: First Transaction Date_weekday - Correlation: 1.0\n",
      "FEAT_A: Policy Start Date_weekday FEAT_B: First Transaction Date_dayofweek - Correlation: 1.0\n",
      "FEAT_A: Policy Start Date_week FEAT_B: Policy Start Date_weekofyear - Correlation: 1.0\n",
      "FEAT_A: Policy Start Date_week FEAT_B: First Transaction Date_week - Correlation: 1.0\n",
      "FEAT_A: Policy Start Date_week FEAT_B: First Transaction Date_weekofyear - Correlation: 1.0\n",
      "FEAT_A: Policy Start Date_weekend FEAT_B: First Transaction Date_weekend - Correlation: 1.0\n",
      "FEAT_A: Policy End Date_weekday FEAT_B: Policy End Date_dayofweek - Correlation: 1.0\n",
      "FEAT_A: Policy End Date_week FEAT_B: Policy End Date_weekofyear - Correlation: 1.0\n",
      "FEAT_A: ProductName_count_Age_mean_all FEAT_B: prod_category_Age_mean_all - Correlation: 0.9997859413952324\n",
      "FEAT_A: ProductName_count_Age_mean_all FEAT_B: prod_no_pol_Age_mean_all - Correlation: 1.0\n",
      "FEAT_A: White_to_others_Age_mean_all FEAT_B: White_Age_mean_all - Correlation: 1.0\n",
      "FEAT_A: high-premium_car_brand_Age_mean_all FEAT_B: Car Classic_Age_mean_all - Correlation: 1.0\n",
      "FEAT_A: Light Green_Age_mean_all FEAT_B: Bus_Fiat_Age_mean_all - Correlation: 1.000000000000261\n",
      "FEAT_A: Light Green_Age_mean_all FEAT_B: JEEP_MG_Age_mean_all - Correlation: 1.000000000000261\n",
      "FEAT_A: Light Green_Age_mean_all FEAT_B: Saloon_BRILLIANCE_Age_mean_all - Correlation: 1.000000000000261\n",
      "FEAT_A: Light Green_Age_mean_all FEAT_B: Saloon_Geely_Age_mean_all - Correlation: 1.000000000000261\n",
      "FEAT_A: Light Green_Age_mean_all FEAT_B: Saloon_ZOYTE_Age_mean_all - Correlation: 1.000000000000261\n",
      "FEAT_A: Light Green_Age_mean_all FEAT_B: Sedan_Volkswagen_Age_mean_all - Correlation: 1.000000000000261\n",
      "FEAT_A: Light Green_Age_mean_all FEAT_B: Car Classic_MG_Age_mean_all - Correlation: 1.000000000000261\n",
      "FEAT_A: Light Green_Age_mean_all FEAT_B: CarSafe_BRILLIANCE_Age_mean_all - Correlation: 1.000000000000261\n",
      "FEAT_A: Light Green_Age_mean_all FEAT_B: CarSafe_Geely_Age_mean_all - Correlation: 1.000000000000261\n",
      "FEAT_A: Light Green_Age_mean_all FEAT_B: CarSafe_Land Rover._Age_mean_all - Correlation: 1.000000000000261\n",
      "FEAT_A: Light Green_Age_mean_all FEAT_B: CarSafe_ZOYTE_Age_mean_all - Correlation: 1.000000000000261\n",
      "FEAT_A: Fiat_Age_mean_all FEAT_B: CVTP_Fiat_Age_mean_all - Correlation: 1.0\n",
      "FEAT_A: Iveco_Age_mean_all FEAT_B: CVTP_Iveco_Age_mean_all - Correlation: 1.0\n",
      "FEAT_A: Mack_Age_mean_all FEAT_B: CVTP_Mack_Age_mean_all - Correlation: 1.0\n",
      "FEAT_A: AKUTE_Age_mean_all FEAT_B: CarFlex_Land Rover_Age_mean_all - Correlation: 0.9999999999999318\n",
      "FEAT_A: AKUTE_Age_mean_all FEAT_B: Motor Cycle_Yamaha_Age_mean_all - Correlation: 0.9999999999999318\n",
      "FEAT_A: Abuja Municipal_Age_mean_all FEAT_B: Abuja-Municipal_Age_mean_all - Correlation: 1.0\n",
      "FEAT_A: Aguda_Age_mean_all FEAT_B: JEEP_Renault_Age_mean_all - Correlation: 0.9999999999997717\n",
      "FEAT_A: Aguda_Age_mean_all FEAT_B: Saloon_DAF_Age_mean_all - Correlation: 0.9999999999997717\n",
      "FEAT_A: Aguda_Age_mean_all FEAT_B: Motor Cycle_Motorcycle_Age_mean_all - Correlation: 0.9999999999997717\n",
      "FEAT_A: Ajegunle,Lagos  State_Age_mean_all FEAT_B: Bida_Age_mean_all - Correlation: 1.0\n",
      "FEAT_A: Ajegunle,Lagos  State_Age_mean_all FEAT_B: Saloon_Chrysler_Age_mean_all - Correlation: 1.0\n",
      "FEAT_A: Ajegunle,Lagos  State_Age_mean_all FEAT_B: Car Vintage_Honda_Age_mean_all - Correlation: 1.0\n",
      "FEAT_A: Ajegunle,Lagos  State_Age_mean_all FEAT_B: CarFlex_Range Rover_Age_mean_all - Correlation: 1.0\n"
     ]
    },
    {
     "name": "stdout",
     "output_type": "stream",
     "text": [
      "FEAT_A: Ajegunle,Lagos  State_Age_mean_all FEAT_B: CarSafe_Chrysler_Age_mean_all - Correlation: 1.0\n",
      "FEAT_A: Amuwo-Odofin_Age_mean_all FEAT_B: Amuwo-Odofin.1_Age_mean_all - Correlation: 1.0\n",
      "FEAT_A: ENUGU EAST_Age_mean_all FEAT_B: ENUGU-EAST_Age_mean_all - Correlation: 1.0\n",
      "FEAT_A: Eti-Osa_Age_mean_all FEAT_B: Eti-Osa.1_Age_mean_all - Correlation: 1.0\n",
      "FEAT_A: Etsako West_Age_mean_all FEAT_B: Etsako-West_Age_mean_all - Correlation: 1.0\n",
      "FEAT_A: Etsako West_Age_mean_all FEAT_B: Bus_Chevrolet_Age_mean_all - Correlation: 1.0000000000001157\n",
      "FEAT_A: Etsako West_Age_mean_all FEAT_B: Bus_Volvo_Age_mean_all - Correlation: 1.0000000000001157\n",
      "FEAT_A: Ibeju/Lekki_Age_mean_all FEAT_B: Ibeju-Lekki_Age_mean_all - Correlation: 1.0\n",
      "FEAT_A: Ifako-Ijaye _Age_mean_all FEAT_B: Ifako-Ijaye_Age_mean_all - Correlation: 1.0\n",
      "FEAT_A: Ife Central_Age_mean_all FEAT_B: Ife-Central_Age_mean_all - Correlation: 1.0\n",
      "FEAT_A: Ijebu Ode_Age_mean_all FEAT_B: Ijebu-Ode_Age_mean_all - Correlation: 1.0\n",
      "FEAT_A: Kaduna North_Age_mean_all FEAT_B: Kaduna-North_Age_mean_all - Correlation: 1.0\n",
      "FEAT_A: Katcha_Age_mean_all FEAT_B: JEEP_Jaguar_Age_mean_all - Correlation: 1.0\n",
      "FEAT_A: Katcha_Age_mean_all FEAT_B: JEEP_KA_Age_mean_all - Correlation: 1.0\n",
      "FEAT_A: Katcha_Age_mean_all FEAT_B: Shape Of Vehicle Chasis_TOYOTA_Age_mean_all - Correlation: 1.0\n",
      "FEAT_A: Katcha_Age_mean_all FEAT_B: Car Classic_KA_Age_mean_all - Correlation: 1.0\n",
      "FEAT_A: Lagelu Ogbomosho North_Age_mean_all FEAT_B: Lagelu-North_Age_mean_all - Correlation: 1.0\n",
      "FEAT_A: Obia/Akpor_Age_mean_all FEAT_B: Obia-Akpor_Age_mean_all - Correlation: 1.0\n",
      "FEAT_A: Olorunsogo_Age_mean_all FEAT_B: Mini Bus_Pontiac_Age_mean_all - Correlation: 0.99999999999959\n",
      "FEAT_A: Olorunsogo_Age_mean_all FEAT_B: Saloon_Buik_Age_mean_all - Correlation: 0.99999999999959\n",
      "FEAT_A: Olorunsogo_Age_mean_all FEAT_B: Car Classic_Suzuki_Age_mean_all - Correlation: 0.99999999999959\n",
      "FEAT_A: Olorunsogo_Age_mean_all FEAT_B: CarSafe_Buik_Age_mean_all - Correlation: 0.99999999999959\n",
      "FEAT_A: Oshodi-Isolo_Age_mean_all FEAT_B: Oshodi-Isolo.1_Age_mean_all - Correlation: 1.0\n",
      "FEAT_A: Owerri-Municipal_Age_mean_all FEAT_B: Owerri-Municipal.1_Age_mean_all - Correlation: 1.0\n",
      "FEAT_A: Port-Harcourt_Age_mean_all FEAT_B: Port-Harcourt.1_Age_mean_all - Correlation: 1.0\n",
      "FEAT_A: Warri Central_Age_mean_all FEAT_B: Warri-Central_Age_mean_all - Correlation: 1.0\n",
      "FEAT_A: Bus_Lexus_Age_mean_all FEAT_B: Mini Van_Mazda_Age_mean_all - Correlation: 1.0\n",
      "FEAT_A: Bus_Lexus_Age_mean_all FEAT_B: Muuve_Mercedes_Age_mean_all - Correlation: 0.9999999999999545\n",
      "FEAT_A: Bus_Mercedes_Age_mean_all FEAT_B: CarFlex_Mazda_Age_mean_all - Correlation: 1.0\n",
      "FEAT_A: Bus_Mercedes_Age_mean_all FEAT_B: CarSafe_GMC_Age_mean_all - Correlation: 1.0\n",
      "FEAT_A: Bus_Mitsubishi_Age_mean_all FEAT_B: Shape Of Vehicle Chasis_Iveco_Age_mean_all - Correlation: 1.0\n",
      "FEAT_A: Bus_Mitsubishi_Age_mean_all FEAT_B: Tipper Truck_Mercedes_Age_mean_all - Correlation: 1.0\n",
      "FEAT_A: Bus_Scania_Age_mean_all FEAT_B: Mini Van_Kia_Age_mean_all - Correlation: 1.0\n",
      "FEAT_A: Bus_Scania_Age_mean_all FEAT_B: Pick Up_Mitsubishi_Age_mean_all - Correlation: 1.0\n",
      "FEAT_A: Bus_Scania_Age_mean_all FEAT_B: Truck_FOTON_Age_mean_all - Correlation: 1.0\n",
      "FEAT_A: Bus_Scania_Age_mean_all FEAT_B: Customized Motor_Hummer_Age_mean_all - Correlation: 1.0\n",
      "FEAT_A: Bus_Scania_Age_mean_all FEAT_B: Motor Cycle_As Attached_Age_mean_all - Correlation: 1.0000000000002829\n",
      "FEAT_A: Bus_Scania_Age_mean_all FEAT_B: Muuve_._Age_mean_all - Correlation: 0.9999999999996618\n",
      "FEAT_A: Bus_Scania_Age_mean_all FEAT_B: Muuve_Ford_Age_mean_all - Correlation: 1.0000000000002829\n",
      "FEAT_A: Bus_Scania_Age_mean_all FEAT_B: Muuve_Lexus_Age_mean_all - Correlation: 1.0\n",
      "FEAT_A: Bus_Scania_Age_mean_all FEAT_B: Muuve_Mitsubishi_Age_mean_all - Correlation: 1.0000000000002829\n",
      "FEAT_A: Bus_Suzuki_Age_mean_all FEAT_B: Sedan_Mercedes_Age_mean_all - Correlation: 1.0\n",
      "FEAT_A: Bus_Suzuki_Age_mean_all FEAT_B: CVTP_Isuzu_Age_mean_all - Correlation: 1.0\n",
      "FEAT_A: Bus_Suzuki_Age_mean_all FEAT_B: CVTP_Suzuki_Age_mean_all - Correlation: 1.0\n",
      "FEAT_A: Bus_Suzuki_Age_mean_all FEAT_B: CarFlex_Mercedes_Age_mean_all - Correlation: 1.0\n",
      "FEAT_A: Bus_Volkswagen_Age_mean_all FEAT_B: CVTP_Volkswagen_Age_mean_all - Correlation: 1.0\n",
      "FEAT_A: JEEP_CHANGAN_Age_mean_all FEAT_B: Car Classic_CHANGAN_Age_mean_all - Correlation: 1.0\n",
      "FEAT_A: JEEP_CHANGAN_Age_mean_all FEAT_B: Car Plus_Land Rover._Age_mean_all - Correlation: 1.0\n",
      "FEAT_A: JEEP_Chrysler_Age_mean_all FEAT_B: JEEP_Isuzu_Age_mean_all - Correlation: 1.0\n",
      "FEAT_A: JEEP_Chrysler_Age_mean_all FEAT_B: JEEP_LIBERTY_Age_mean_all - Correlation: 1.0\n",
      "FEAT_A: JEEP_Chrysler_Age_mean_all FEAT_B: Pick Up > 3 Tons_Honda_Age_mean_all - Correlation: 1.0\n",
      "FEAT_A: JEEP_Chrysler_Age_mean_all FEAT_B: Car Classic_Chrysler_Age_mean_all - Correlation: 1.0\n",
      "FEAT_A: JEEP_Chrysler_Age_mean_all FEAT_B: Car Classic_Isuzu_Age_mean_all - Correlation: 1.0\n",
      "FEAT_A: JEEP_Chrysler_Age_mean_all FEAT_B: Car Classic_LIBERTY_Age_mean_all - Correlation: 1.0\n",
      "FEAT_A: JEEP_Grand Cherokee_Age_mean_all FEAT_B: Customized Motor_Grand Cherokee_Age_mean_all - Correlation: 1.0\n",
      "FEAT_A: JEEP_Lincoln_Age_mean_all FEAT_B: CarSafe_Lincoln_Age_mean_all - Correlation: 1.0\n",
      "FEAT_A: JEEP_REXTON_Age_mean_all FEAT_B: JEEP_Raston_Age_mean_all - Correlation: 1.0\n",
      "FEAT_A: JEEP_REXTON_Age_mean_all FEAT_B: Car Classic_REXTON_Age_mean_all - Correlation: 1.0\n",
      "FEAT_A: JEEP_REXTON_Age_mean_all FEAT_B: Car Classic_Raston_Age_mean_all - Correlation: 1.0\n",
      "FEAT_A: JEEP_Subaru_Age_mean_all FEAT_B: Customized Motor_Mazda_Age_mean_all - Correlation: 1.0\n",
      "FEAT_A: Motorcycle_BMW_Age_mean_all FEAT_B: Motor Cycle_BMW_Age_mean_all - Correlation: 1.0\n",
      "FEAT_A: Motorcycle_Honda_Age_mean_all FEAT_B: Motor Cycle_Honda_Age_mean_all - Correlation: 1.0\n",
      "FEAT_A: Motorcycle_Jincheng_Age_mean_all FEAT_B: Wagon_Mercedes_Age_mean_all - Correlation: 1.0\n",
      "FEAT_A: Motorcycle_Jincheng_Age_mean_all FEAT_B: Motor Cycle_Jincheng_Age_mean_all - Correlation: 1.0\n",
      "FEAT_A: Pick Up_Mercedes_Age_mean_all FEAT_B: Truck_Nissan_Age_mean_all - Correlation: 1.0\n",
      "FEAT_A: Saloon_ABG_Age_mean_all FEAT_B: CarSafe_ABG_Age_mean_all - Correlation: 1.0\n",
      "FEAT_A: Saloon_Black_Age_mean_all FEAT_B: Car Classic_Black_Age_mean_all - Correlation: 1.0\n",
      "FEAT_A: Saloon_Black_Age_mean_all FEAT_B: CarFlex_BMW_Age_mean_all - Correlation: 1.0\n",
      "FEAT_A: Saloon_Black_Age_mean_all FEAT_B: CarFlex_Volkswagen_Age_mean_all - Correlation: 1.0\n",
      "FEAT_A: Saloon_Black_Age_mean_all FEAT_B: CarSafe_Jaguar_Age_mean_all - Correlation: 1.0\n",
      "FEAT_A: Saloon_Datsun_Age_mean_all FEAT_B: Saloon_Grand Cherokee_Age_mean_all - Correlation: 1.0\n",
      "FEAT_A: Saloon_Datsun_Age_mean_all FEAT_B: CarSafe_Datsun_Age_mean_all - Correlation: 1.0\n",
      "FEAT_A: Saloon_Datsun_Age_mean_all FEAT_B: CarSafe_Grand Cherokee_Age_mean_all - Correlation: 1.0\n",
      "FEAT_A: Saloon_Datsun_Age_mean_all FEAT_B: Motor Cycle_Bajaj_Age_mean_all - Correlation: 1.0\n",
      "FEAT_A: Saloon_GAC_Age_mean_all FEAT_B: Sedan_Honda_Age_mean_all - Correlation: 1.0\n",
      "FEAT_A: Saloon_GAC_Age_mean_all FEAT_B: Wagon_Honda_Age_mean_all - Correlation: 1.0\n",
      "FEAT_A: Saloon_Hummer_Age_mean_all FEAT_B: CarSafe_Hummer_Age_mean_all - Correlation: 1.0\n",
      "FEAT_A: Saloon_Innson_Age_mean_all FEAT_B: CarSafe_Innson_Age_mean_all - Correlation: 1.0\n",
      "FEAT_A: Saloon_Isuzu_Age_mean_all FEAT_B: CarSafe_Isuzu_Age_mean_all - Correlation: 1.0\n",
      "FEAT_A: Saloon_LIBERTY_Age_mean_all FEAT_B: CarSafe_LIBERTY_Age_mean_all - Correlation: 1.0\n",
      "FEAT_A: Saloon_Land Rover_Age_mean_all FEAT_B: CarSafe_Land Rover_Age_mean_all - Correlation: 1.0\n",
      "FEAT_A: Saloon_Range Rover_Age_mean_all FEAT_B: CarSafe_Range Rover_Age_mean_all - Correlation: 1.0\n",
      "FEAT_A: Saloon_Seat_Age_mean_all FEAT_B: CarSafe_Seat_Age_mean_all - Correlation: 1.0\n",
      "FEAT_A: Truck_Ashok Leyland_Age_mean_all FEAT_B: CVTP_Ashok Leyland_Age_mean_all - Correlation: 1.0\n",
      "FEAT_A: Truck_Ashok Leyland_Age_mean_all FEAT_B: Customized Motor_Pontiac_Age_mean_all - Correlation: 1.0\n",
      "FEAT_A: Truck_Dodge_Age_mean_all FEAT_B: Truck_Lexus_Age_mean_all - Correlation: 1.0\n",
      "FEAT_A: Truck_Dodge_Age_mean_all FEAT_B: Truck_TOYOTA_Age_mean_all - Correlation: 1.0\n",
      "FEAT_A: Truck_Dodge_Age_mean_all FEAT_B: CVTP_Dodge_Age_mean_all - Correlation: 1.0\n",
      "FEAT_A: Truck_Dodge_Age_mean_all FEAT_B: CVTP_Tata_Age_mean_all - Correlation: 1.0\n",
      "FEAT_A: Truck_Fiat_Age_mean_all FEAT_B: Wagon_Peugeot_Age_mean_all - Correlation: 1.0\n"
     ]
    },
    {
     "name": "stdout",
     "output_type": "stream",
     "text": [
      "FEAT_A: Truck_Fiat_Age_mean_all FEAT_B: Car Classic_Rols Royce_Age_mean_all - Correlation: 1.0\n",
      "FEAT_A: Truck_Fiat_Age_mean_all FEAT_B: Car Plus_Peugeot_Age_mean_all - Correlation: 1.0\n",
      "FEAT_A: Truck_Fiat_Age_mean_all FEAT_B: Car Plus_Range Rover_Age_mean_all - Correlation: 1.0\n",
      "FEAT_A: Truck_Fiat_Age_mean_all FEAT_B: Car Vintage_BMW_Age_mean_all - Correlation: 1.0\n",
      "FEAT_A: CVTP_Astra_Age_mean_all FEAT_B: CVTP_Howo_Age_mean_all - Correlation: 1.0\n",
      "FEAT_A: Policy Start Date_year_Age_mean_all FEAT_B: Policy Start Date_quarter_Age_mean_all - Correlation: 1.0\n",
      "FEAT_A: Policy Start Date_day_Age_mean_all FEAT_B: First Transaction Date_day_Age_mean_all - Correlation: 1.0\n",
      "FEAT_A: Policy Start Date_month_Age_mean_all FEAT_B: First Transaction Date_month_Age_mean_all - Correlation: 1.0\n",
      "FEAT_A: Policy Start Date_weekday_Age_mean_all FEAT_B: Policy Start Date_dayofweek_Age_mean_all - Correlation: 1.0\n",
      "FEAT_A: Policy Start Date_weekday_Age_mean_all FEAT_B: First Transaction Date_weekday_Age_mean_all - Correlation: 1.0\n",
      "FEAT_A: Policy Start Date_weekday_Age_mean_all FEAT_B: First Transaction Date_dayofweek_Age_mean_all - Correlation: 1.0\n",
      "FEAT_A: Policy Start Date_week_Age_mean_all FEAT_B: Policy Start Date_weekofyear_Age_mean_all - Correlation: 1.0\n",
      "FEAT_A: Policy Start Date_week_Age_mean_all FEAT_B: First Transaction Date_week_Age_mean_all - Correlation: 1.0\n",
      "FEAT_A: Policy Start Date_week_Age_mean_all FEAT_B: First Transaction Date_weekofyear_Age_mean_all - Correlation: 1.0\n",
      "FEAT_A: Policy Start Date_weekend_Age_mean_all FEAT_B: First Transaction Date_weekend_Age_mean_all - Correlation: 1.0\n",
      "FEAT_A: Policy End Date_weekday_Age_mean_all FEAT_B: Policy End Date_dayofweek_Age_mean_all - Correlation: 1.0\n",
      "FEAT_A: Policy End Date_week_Age_mean_all FEAT_B: Policy End Date_weekofyear_Age_mean_all - Correlation: 1.0\n",
      "FEAT_A: policy_span_Age_mean_all_freq FEAT_B: Gender_count_Age_mean_all_freq - Correlation: 0.9996878415616711\n",
      "FEAT_A: policy_span_Age_mean_all_freq FEAT_B: Car_Category_count_Age_mean_all_freq - Correlation: 0.9997328697585453\n",
      "FEAT_A: policy_span_Age_mean_all_freq FEAT_B: Subject_Car_Colour_count_Age_mean_all_freq - Correlation: 0.9998109735962899\n",
      "FEAT_A: policy_span_Age_mean_all_freq FEAT_B: Subject_Car_Make_count_Age_mean_all_freq - Correlation: 0.9997796433412331\n",
      "FEAT_A: policy_span_Age_mean_all_freq FEAT_B: State_count_Age_mean_all_freq - Correlation: 0.999173264608168\n",
      "FEAT_A: policy_span_Age_mean_all_freq FEAT_B: ProductName_count_Age_mean_all_freq - Correlation: 0.9997896151239883\n",
      "FEAT_A: policy_span_Age_mean_all_freq FEAT_B: prod_category_Age_mean_all_freq - Correlation: 0.9997896151239883\n",
      "FEAT_A: policy_span_Age_mean_all_freq FEAT_B: prod_nunique_Age_mean_all_freq - Correlation: 0.9997127281654206\n",
      "FEAT_A: policy_span_Age_mean_all_freq FEAT_B: prod_no_pol_Age_mean_all_freq - Correlation: 0.9997896151239883\n",
      "FEAT_A: policy_span_Age_mean_all_freq FEAT_B: prod_pol_mean_Age_mean_all_freq - Correlation: 0.9997675368577625\n",
      "FEAT_A: policy_span_Age_mean_all_freq FEAT_B: high-premium_car_brand_Age_mean_all_freq - Correlation: 0.9990414418385878\n",
      "FEAT_A: policy_span_Age_mean_all_freq FEAT_B: low-premium_car_brand_Age_mean_all_freq - Correlation: 0.9990414418385878\n",
      "FEAT_A: policy_span_Age_mean_all_freq FEAT_B: TOYOTA_Age_mean_all_freq - Correlation: 0.9993459213992699\n",
      "FEAT_A: policy_span_Age_mean_all_freq FEAT_B: Car Classic_Age_mean_all_freq - Correlation: 0.9990414418385878\n",
      "FEAT_A: policy_span_Age_mean_all_freq FEAT_B: Policy Start Date_day_Age_mean_all_freq - Correlation: 0.9997367393297748\n",
      "FEAT_A: policy_span_Age_mean_all_freq FEAT_B: Policy Start Date_weekday_Age_mean_all_freq - Correlation: 0.9997542632757306\n",
      "FEAT_A: policy_span_Age_mean_all_freq FEAT_B: Policy Start Date_week_Age_mean_all_freq - Correlation: 0.9997287314016613\n",
      "FEAT_A: policy_span_Age_mean_all_freq FEAT_B: Policy Start Date_weekend_Age_mean_all_freq - Correlation: 0.999219465484264\n",
      "FEAT_A: policy_span_Age_mean_all_freq FEAT_B: Policy Start Date_weekofyear_Age_mean_all_freq - Correlation: 0.9997287314016613\n",
      "FEAT_A: policy_span_Age_mean_all_freq FEAT_B: Policy Start Date_dayofweek_Age_mean_all_freq - Correlation: 0.9997542632757306\n",
      "FEAT_A: policy_span_Age_mean_all_freq FEAT_B: Policy End Date_year_Age_mean_all_freq - Correlation: 0.9990490074063336\n",
      "FEAT_A: policy_span_Age_mean_all_freq FEAT_B: Policy End Date_day_Age_mean_all_freq - Correlation: 0.9996189620519745\n",
      "FEAT_A: policy_span_Age_mean_all_freq FEAT_B: Policy End Date_month_Age_mean_all_freq - Correlation: 0.9997691452578675\n",
      "FEAT_A: policy_span_Age_mean_all_freq FEAT_B: Policy End Date_weekday_Age_mean_all_freq - Correlation: 0.9996115501726244\n",
      "FEAT_A: policy_span_Age_mean_all_freq FEAT_B: Policy End Date_week_Age_mean_all_freq - Correlation: 0.9997268074261643\n",
      "FEAT_A: policy_span_Age_mean_all_freq FEAT_B: Policy End Date_weekofyear_Age_mean_all_freq - Correlation: 0.9997268074261643\n",
      "FEAT_A: policy_span_Age_mean_all_freq FEAT_B: Policy End Date_dayofweek_Age_mean_all_freq - Correlation: 0.9996115501726244\n",
      "FEAT_A: policy_span_Age_mean_all_freq FEAT_B: First Transaction Date_day_Age_mean_all_freq - Correlation: 0.9997367393297748\n",
      "FEAT_A: policy_span_Age_mean_all_freq FEAT_B: First Transaction Date_weekday_Age_mean_all_freq - Correlation: 0.9997542632757306\n",
      "FEAT_A: policy_span_Age_mean_all_freq FEAT_B: First Transaction Date_week_Age_mean_all_freq - Correlation: 0.9997287314016613\n",
      "FEAT_A: policy_span_Age_mean_all_freq FEAT_B: First Transaction Date_weekend_Age_mean_all_freq - Correlation: 0.999219465484264\n",
      "FEAT_A: policy_span_Age_mean_all_freq FEAT_B: First Transaction Date_weekofyear_Age_mean_all_freq - Correlation: 0.9997287314016613\n",
      "FEAT_A: policy_span_Age_mean_all_freq FEAT_B: First Transaction Date_dayofweek_Age_mean_all_freq - Correlation: 0.9997542632757306\n",
      "FEAT_A: policy_span_Age_mean_all_freq FEAT_B: Policy Start Date_day_cos_Age_mean_all_freq - Correlation: 0.999726147943999\n",
      "FEAT_A: policy_span_Age_mean_all_freq FEAT_B: Policy Start Date_day_sin_Age_mean_all_freq - Correlation: 0.999726147943999\n",
      "FEAT_A: Gender_count_Age_mean_all_freq FEAT_B: Policy Start Date_month_Age_mean_all_freq - Correlation: 0.9991174607178526\n",
      "FEAT_A: Gender_count_Age_mean_all_freq FEAT_B: First Transaction Date_month_Age_mean_all_freq - Correlation: 0.9991174607178526\n",
      "FEAT_A: Subject_Car_Colour_count_Age_mean_all_freq FEAT_B: Policy End Date_weekend_Age_mean_all_freq - Correlation: 0.9992100115362093\n",
      "FEAT_A: White_to_others_Age_mean_all_freq FEAT_B: White_Age_mean_all_freq - Correlation: 1.0\n",
      "FEAT_A: higher-premium_areas_Age_mean_all_freq FEAT_B: lower-premium_areas_Age_mean_all_freq - Correlation: 1.0\n",
      "FEAT_A: higher-premium_areas_Age_mean_all_freq FEAT_B: Lagos.1_Age_mean_all_freq - Correlation: 1.0\n",
      "FEAT_A: Fiat_Age_mean_all_freq FEAT_B: CVTP_Fiat_Age_mean_all_freq - Correlation: 1.0\n",
      "FEAT_A: Iveco_Age_mean_all_freq FEAT_B: CVTP_Iveco_Age_mean_all_freq - Correlation: 1.0\n",
      "FEAT_A: Mack_Age_mean_all_freq FEAT_B: CVTP_Mack_Age_mean_all_freq - Correlation: 1.0\n",
      "FEAT_A: Peugeot_Age_mean_all_freq FEAT_B: Saloon_Peugeot_Age_mean_all_freq - Correlation: 0.9999376423001456\n",
      "FEAT_A: Abuja Municipal_Age_mean_all_freq FEAT_B: Abuja-Municipal_Age_mean_all_freq - Correlation: 1.0\n",
      "FEAT_A: Amuwo-Odofin_Age_mean_all_freq FEAT_B: Amuwo-Odofin.1_Age_mean_all_freq - Correlation: 1.0\n",
      "FEAT_A: ENUGU EAST_Age_mean_all_freq FEAT_B: ENUGU-EAST_Age_mean_all_freq - Correlation: 1.0\n",
      "FEAT_A: Eti-Osa_Age_mean_all_freq FEAT_B: Eti-Osa.1_Age_mean_all_freq - Correlation: 1.0\n",
      "FEAT_A: Ibeju/Lekki_Age_mean_all_freq FEAT_B: Ibeju-Lekki_Age_mean_all_freq - Correlation: 1.0\n",
      "FEAT_A: Ifako-Ijaye _Age_mean_all_freq FEAT_B: Ifako-Ijaye_Age_mean_all_freq - Correlation: 1.0\n",
      "FEAT_A: Ife Central_Age_mean_all_freq FEAT_B: Ife-Central_Age_mean_all_freq - Correlation: 1.0\n",
      "FEAT_A: Ijebu Ode_Age_mean_all_freq FEAT_B: Ijebu-Ode_Age_mean_all_freq - Correlation: 1.0\n",
      "FEAT_A: Kaduna North_Age_mean_all_freq FEAT_B: Kaduna-North_Age_mean_all_freq - Correlation: 1.0\n",
      "FEAT_A: Lagelu Ogbomosho North_Age_mean_all_freq FEAT_B: Lagelu-North_Age_mean_all_freq - Correlation: 1.0\n",
      "FEAT_A: Obia/Akpor_Age_mean_all_freq FEAT_B: Obia-Akpor_Age_mean_all_freq - Correlation: 1.0\n",
      "FEAT_A: Oshodi-Isolo_Age_mean_all_freq FEAT_B: Oshodi-Isolo.1_Age_mean_all_freq - Correlation: 1.0\n"
     ]
    },
    {
     "name": "stdout",
     "output_type": "stream",
     "text": [
      "FEAT_A: Owerri-Municipal_Age_mean_all_freq FEAT_B: Owerri-Municipal.1_Age_mean_all_freq - Correlation: 1.0\n",
      "FEAT_A: Port-Harcourt_Age_mean_all_freq FEAT_B: Port-Harcourt.1_Age_mean_all_freq - Correlation: 1.0\n",
      "FEAT_A: Warri Central_Age_mean_all_freq FEAT_B: Warri-Central_Age_mean_all_freq - Correlation: 1.0\n",
      "FEAT_A: Bus_Volkswagen_Age_mean_all_freq FEAT_B: CVTP_As Attached_Age_mean_all_freq - Correlation: 1.0\n",
      "FEAT_A: Bus_Volkswagen_Age_mean_all_freq FEAT_B: CVTP_Volkswagen_Age_mean_all_freq - Correlation: 1.0\n",
      "FEAT_A: Motorcycle_Honda_Age_mean_all_freq FEAT_B: Motor Cycle_Honda_Age_mean_all_freq - Correlation: 1.0\n",
      "FEAT_A: Saloon_Isuzu_Age_mean_all_freq FEAT_B: CarSafe_Isuzu_Age_mean_all_freq - Correlation: 1.0\n",
      "FEAT_A: Saloon_Jeep_Age_mean_all_freq FEAT_B: CarSafe_Jeep_Age_mean_all_freq - Correlation: 1.0\n",
      "FEAT_A: Saloon_LIBERTY_Age_mean_all_freq FEAT_B: CarSafe_LIBERTY_Age_mean_all_freq - Correlation: 1.0\n",
      "FEAT_A: Saloon_Land Rover_Age_mean_all_freq FEAT_B: CarSafe_Land Rover_Age_mean_all_freq - Correlation: 1.0\n",
      "FEAT_A: Saloon_Range Rover_Age_mean_all_freq FEAT_B: CarSafe_Range Rover_Age_mean_all_freq - Correlation: 1.0\n",
      "FEAT_A: Truck_._Age_mean_all_freq FEAT_B: CVTP_._Age_mean_all_freq - Correlation: 1.0\n",
      "FEAT_A: CVTP_Nissan_Age_mean_all_freq FEAT_B: Customized Motor_Porsche_Age_mean_all_freq - Correlation: 1.0\n",
      "FEAT_A: Policy Start Date_year_Age_mean_all_freq FEAT_B: Policy Start Date_quarter_Age_mean_all_freq - Correlation: 1.0\n",
      "drop_columns 439 ['prod_category' 'prod_no_pol' 'low-premium_car_brand'\n",
      " 'lower-premium_areas' 'White' 'Abuja-Municipal' 'Amuwo-Odofin.1'\n",
      " 'ENUGU-EAST' 'Eti-Osa.1' 'Etsako-West' 'Ibeju-Lekki' 'Ifako-Ijaye'\n",
      " 'Ife-Central' 'Ijebu-Ode' 'Kaduna-North' 'Lagelu-North' 'Lagos.1'\n",
      " 'Obia-Akpor' 'Oshodi-Isolo.1' 'Owerri-Municipal.1' 'Port-Harcourt.1'\n",
      " 'Warri-Central' 'Car Classic' 'CVTP_Ashok Leyland' 'CVTP_Dodge'\n",
      " 'CVTP_Fiat' 'CVTP_Iveco' 'CVTP_Mack' 'CVTP_Suzuki' 'CVTP_Volkswagen'\n",
      " 'Car Classic_Black' 'Car Classic_CHANGAN' 'Car Classic_Chrysler'\n",
      " 'Car Classic_Isuzu' 'Car Classic_KA' 'Car Classic_MG'\n",
      " 'Car Classic_REXTON' 'Car Classic_Raston' 'CarSafe_ABG'\n",
      " 'CarSafe_BRILLIANCE' 'CarSafe_Buik' 'CarSafe_COMMANDER'\n",
      " 'CarSafe_Chrysler' 'CarSafe_GMC' 'CarSafe_Geely' 'CarSafe_Grand Cherokee'\n",
      " 'CarSafe_Hummer' 'CarSafe_Innson' 'CarSafe_Isuzu' 'CarSafe_LIBERTY'\n",
      " 'CarSafe_Land Rover' 'CarSafe_Lincoln' 'CarSafe_Range Rover'\n",
      " 'CarSafe_Seat' 'CarSafe_ZOYTE' 'Customized Motor_Grand Cherokee'\n",
      " 'Motor Cycle_BMW' 'Motor Cycle_Honda' 'Motor Cycle_Jincheng'\n",
      " 'lower_premium' 'Policy Start Date_quarter'\n",
      " 'Policy Start Date_weekofyear' 'Policy Start Date_dayofweek'\n",
      " 'Policy End Date_weekofyear' 'Policy End Date_dayofweek'\n",
      " 'First Transaction Date_day' 'First Transaction Date_month'\n",
      " 'First Transaction Date_weekday' 'First Transaction Date_week'\n",
      " 'First Transaction Date_weekend' 'First Transaction Date_weekofyear'\n",
      " 'First Transaction Date_dayofweek' 'prod_category_Age_mean_all'\n",
      " 'prod_no_pol_Age_mean_all' 'low-premium_car_brand_Age_mean_all'\n",
      " 'lower-premium_areas_Age_mean_all' 'White_Age_mean_all'\n",
      " 'Bida_Age_mean_all' 'Abuja-Municipal_Age_mean_all'\n",
      " 'Amuwo-Odofin.1_Age_mean_all' 'ENUGU-EAST_Age_mean_all'\n",
      " 'Eti-Osa.1_Age_mean_all' 'Etsako-West_Age_mean_all'\n",
      " 'Ibeju-Lekki_Age_mean_all' 'Ifako-Ijaye_Age_mean_all'\n",
      " 'Ife-Central_Age_mean_all' 'Ijebu-Ode_Age_mean_all'\n",
      " 'Kaduna-North_Age_mean_all' 'Lagelu-North_Age_mean_all'\n",
      " 'Lagos.1_Age_mean_all' 'Obia-Akpor_Age_mean_all'\n",
      " 'Oshodi-Isolo.1_Age_mean_all' 'Owerri-Municipal.1_Age_mean_all'\n",
      " 'Port-Harcourt.1_Age_mean_all' 'Warri-Central_Age_mean_all'\n",
      " 'Car Classic_Age_mean_all' 'Bus_Chevrolet_Age_mean_all'\n",
      " 'Bus_Fiat_Age_mean_all' 'Bus_Volvo_Age_mean_all'\n",
      " 'JEEP_Isuzu_Age_mean_all' 'JEEP_Jaguar_Age_mean_all'\n",
      " 'JEEP_KA_Age_mean_all' 'JEEP_LIBERTY_Age_mean_all' 'JEEP_MG_Age_mean_all'\n",
      " 'JEEP_Raston_Age_mean_all' 'JEEP_Renault_Age_mean_all'\n",
      " 'Mini Bus_Pontiac_Age_mean_all' 'Mini Van_Kia_Age_mean_all'\n",
      " 'Mini Van_Mazda_Age_mean_all' 'Pick Up > 3 Tons_Honda_Age_mean_all'\n",
      " 'Pick Up_Mitsubishi_Age_mean_all' 'Saloon_BRILLIANCE_Age_mean_all'\n",
      " 'Saloon_Buik_Age_mean_all' 'Saloon_COMMANDER_Age_mean_all'\n",
      " 'Saloon_Chrysler_Age_mean_all' 'Saloon_DAF_Age_mean_all'\n",
      " 'Saloon_Geely_Age_mean_all' 'Saloon_Grand Cherokee_Age_mean_all'\n",
      " 'Saloon_ZOYTE_Age_mean_all' 'Sedan_Honda_Age_mean_all'\n",
      " 'Sedan_Mercedes_Age_mean_all' 'Sedan_Volkswagen_Age_mean_all'\n",
      " 'Shape Of Vehicle Chasis_Iveco_Age_mean_all'\n",
      " 'Shape Of Vehicle Chasis_TOYOTA_Age_mean_all'\n",
      " 'Tipper Truck_Mercedes_Age_mean_all' 'Truck_FOTON_Age_mean_all'\n",
      " 'Truck_Lexus_Age_mean_all' 'Truck_Nissan_Age_mean_all'\n",
      " 'Truck_TOYOTA_Age_mean_all' 'Wagon_Honda_Age_mean_all'\n",
      " 'Wagon_Mercedes_Age_mean_all' 'Wagon_Peugeot_Age_mean_all'\n",
      " 'CVTP_Ashok Leyland_Age_mean_all' 'CVTP_Dodge_Age_mean_all'\n",
      " 'CVTP_Fiat_Age_mean_all' 'CVTP_Howo_Age_mean_all'\n",
      " 'CVTP_Isuzu_Age_mean_all' 'CVTP_Iveco_Age_mean_all'\n",
      " 'CVTP_Mack_Age_mean_all' 'CVTP_Suzuki_Age_mean_all'\n",
      " 'CVTP_Tata_Age_mean_all' 'CVTP_Volkswagen_Age_mean_all'\n",
      " 'Car Classic_Black_Age_mean_all' 'Car Classic_CHANGAN_Age_mean_all'\n",
      " 'Car Classic_Chrysler_Age_mean_all' 'Car Classic_Isuzu_Age_mean_all'\n",
      " 'Car Classic_KA_Age_mean_all' 'Car Classic_LIBERTY_Age_mean_all'\n",
      " 'Car Classic_MG_Age_mean_all' 'Car Classic_REXTON_Age_mean_all'\n",
      " 'Car Classic_Raston_Age_mean_all' 'Car Classic_Rols Royce_Age_mean_all'\n",
      " 'Car Classic_Suzuki_Age_mean_all' 'Car Plus_Land Rover._Age_mean_all'\n",
      " 'Car Plus_Peugeot_Age_mean_all' 'Car Plus_Range Rover_Age_mean_all'\n",
      " 'Car Vintage_BMW_Age_mean_all' 'Car Vintage_Honda_Age_mean_all'\n",
      " 'CarFlex_BMW_Age_mean_all' 'CarFlex_Land Rover_Age_mean_all'\n",
      " 'CarFlex_Mazda_Age_mean_all' 'CarFlex_Mercedes_Age_mean_all'\n",
      " 'CarFlex_Range Rover_Age_mean_all' 'CarFlex_Volkswagen_Age_mean_all'\n",
      " 'CarSafe_ABG_Age_mean_all' 'CarSafe_BRILLIANCE_Age_mean_all'\n",
      " 'CarSafe_Buik_Age_mean_all' 'CarSafe_COMMANDER_Age_mean_all'\n",
      " 'CarSafe_Chrysler_Age_mean_all' 'CarSafe_Datsun_Age_mean_all'\n",
      " 'CarSafe_GMC_Age_mean_all' 'CarSafe_Geely_Age_mean_all'\n",
      " 'CarSafe_Grand Cherokee_Age_mean_all' 'CarSafe_Hummer_Age_mean_all'\n",
      " 'CarSafe_Innson_Age_mean_all' 'CarSafe_Isuzu_Age_mean_all'\n",
      " 'CarSafe_Jaguar_Age_mean_all' 'CarSafe_LIBERTY_Age_mean_all'\n",
      " 'CarSafe_Land Rover_Age_mean_all' 'CarSafe_Land Rover._Age_mean_all'\n",
      " 'CarSafe_Lincoln_Age_mean_all' 'CarSafe_Range Rover_Age_mean_all'\n",
      " 'CarSafe_Seat_Age_mean_all' 'CarSafe_ZOYTE_Age_mean_all'\n",
      " 'Customized Motor_Grand Cherokee_Age_mean_all'\n",
      " 'Customized Motor_Hummer_Age_mean_all'\n",
      " 'Customized Motor_Mazda_Age_mean_all'\n",
      " 'Customized Motor_Pontiac_Age_mean_all'\n",
      " 'Motor Cycle_As Attached_Age_mean_all' 'Motor Cycle_BMW_Age_mean_all'\n",
      " 'Motor Cycle_Bajaj_Age_mean_all' 'Motor Cycle_Honda_Age_mean_all'\n",
      " 'Motor Cycle_Jincheng_Age_mean_all' 'Motor Cycle_Motorcycle_Age_mean_all'\n",
      " 'Motor Cycle_Yamaha_Age_mean_all' 'Muuve_._Age_mean_all'\n",
      " 'Muuve_Ford_Age_mean_all' 'Muuve_Lexus_Age_mean_all'\n",
      " 'Muuve_Mercedes_Age_mean_all' 'Muuve_Mitsubishi_Age_mean_all'\n",
      " 'Age_Bins_Age_mean_all' 'higher-premium_Age_mean_all'\n",
      " 'lower_premium_Age_mean_all' 'Early_working_Age_Age_mean_all'\n",
      " 'Elderly_working_Age_Age_mean_all' 'Mature_working_Age_Age_mean_all'\n",
      " 'Prime_working_Age_Age_mean_all' 'Policy Start Date_quarter_Age_mean_all'\n",
      " 'Policy Start Date_weekofyear_Age_mean_all'\n",
      " 'Policy Start Date_dayofweek_Age_mean_all'\n",
      " 'Policy End Date_weekofyear_Age_mean_all'\n",
      " 'Policy End Date_dayofweek_Age_mean_all'\n",
      " 'First Transaction Date_day_Age_mean_all'\n",
      " 'First Transaction Date_month_Age_mean_all'\n",
      " 'First Transaction Date_weekday_Age_mean_all'\n",
      " 'First Transaction Date_week_Age_mean_all'\n",
      " 'First Transaction Date_weekend_Age_mean_all'\n",
      " 'First Transaction Date_weekofyear_Age_mean_all'\n",
      " 'First Transaction Date_dayofweek_Age_mean_all'\n",
      " 'Gender_count_Age_mean_all_freq' 'Car_Category_count_Age_mean_all_freq'\n",
      " 'Subject_Car_Colour_count_Age_mean_all_freq'\n",
      " 'Subject_Car_Make_count_Age_mean_all_freq'\n",
      " 'State_count_Age_mean_all_freq' 'ProductName_count_Age_mean_all_freq'\n",
      " 'prod_category_Age_mean_all_freq' 'prod_nunique_Age_mean_all_freq'\n",
      " 'prod_no_pol_Age_mean_all_freq' 'prod_pol_mean_Age_mean_all_freq'\n",
      " 'high-premium_car_brand_Age_mean_all_freq'\n",
      " 'low-premium_car_brand_Age_mean_all_freq'\n",
      " 'lower-premium_areas_Age_mean_all_freq' 'Light Green_Age_mean_all_freq'\n",
      " 'White_Age_mean_all_freq' 'TOYOTA_Age_mean_all_freq'\n",
      " 'AKUTE_Age_mean_all_freq' 'Aguda_Age_mean_all_freq'\n",
      " 'Ajegunle,Lagos  State_Age_mean_all_freq' 'Bida_Age_mean_all_freq'\n",
      " 'Etsako West_Age_mean_all_freq' 'Ido_Age_mean_all_freq'\n",
      " 'Katcha_Age_mean_all_freq' 'Olorunsogo_Age_mean_all_freq'\n",
      " 'Abuja-Municipal_Age_mean_all_freq' 'Amuwo-Odofin.1_Age_mean_all_freq'\n",
      " 'ENUGU-EAST_Age_mean_all_freq' 'Eti-Osa.1_Age_mean_all_freq'\n",
      " 'Etsako-West_Age_mean_all_freq' 'Ibeju-Lekki_Age_mean_all_freq'\n",
      " 'Ifako-Ijaye_Age_mean_all_freq' 'Ife-Central_Age_mean_all_freq'\n",
      " 'Ijebu-Ode_Age_mean_all_freq' 'Kaduna-North_Age_mean_all_freq'\n",
      " 'Lagelu-North_Age_mean_all_freq' 'Lagos.1_Age_mean_all_freq'\n",
      " 'Obia-Akpor_Age_mean_all_freq' 'Oshodi-Isolo.1_Age_mean_all_freq'\n",
      " 'Owerri-Municipal.1_Age_mean_all_freq'\n",
      " 'Port-Harcourt.1_Age_mean_all_freq' 'Warri-Central_Age_mean_all_freq'\n",
      " 'Car Classic_Age_mean_all_freq' 'Bus_Chevrolet_Age_mean_all_freq'\n",
      " 'Bus_Fiat_Age_mean_all_freq' 'Bus_Lexus_Age_mean_all_freq'\n",
      " 'Bus_Mercedes_Age_mean_all_freq' 'Bus_Mitsubishi_Age_mean_all_freq'\n",
      " 'Bus_Scania_Age_mean_all_freq' 'Bus_Suzuki_Age_mean_all_freq'\n",
      " 'Bus_Volvo_Age_mean_all_freq' 'CAMRY CAR HIRE_TOYOTA_Age_mean_all_freq'\n",
      " 'JEEP_CHANGAN_Age_mean_all_freq' 'JEEP_Chrysler_Age_mean_all_freq'\n",
      " 'JEEP_GAC_Age_mean_all_freq' 'JEEP_GMC_Age_mean_all_freq'\n",
      " 'JEEP_Grand Cherokee_Age_mean_all_freq' 'JEEP_Isuzu_Age_mean_all_freq'\n",
      " 'JEEP_Jaguar_Age_mean_all_freq' 'JEEP_KA_Age_mean_all_freq'\n",
      " 'JEEP_LIBERTY_Age_mean_all_freq' 'JEEP_Lincoln_Age_mean_all_freq'\n",
      " 'JEEP_MG_Age_mean_all_freq' 'JEEP_REXTON_Age_mean_all_freq'\n",
      " 'JEEP_Raston_Age_mean_all_freq' 'JEEP_Renault_Age_mean_all_freq'\n",
      " 'JEEP_Subaru_Age_mean_all_freq' 'JEEP_Wrangler Jeep_Age_mean_all_freq'\n",
      " 'Mini Bus_Pontiac_Age_mean_all_freq'\n",
      " 'Mini Bus_Volkswagen_Age_mean_all_freq' 'Mini Van_Kia_Age_mean_all_freq'\n",
      " 'Mini Van_Mazda_Age_mean_all_freq' 'Motorcycle_BMW_Age_mean_all_freq'\n",
      " 'Motorcycle_Jincheng_Age_mean_all_freq'\n",
      " 'Pick Up > 3 Tons_Honda_Age_mean_all_freq'\n",
      " 'Pick Up_Mercedes_Age_mean_all_freq'\n",
      " 'Pick Up_Mitsubishi_Age_mean_all_freq' 'Saloon_ABG_Age_mean_all_freq'\n",
      " 'Saloon_BRILLIANCE_Age_mean_all_freq' 'Saloon_Black_Age_mean_all_freq'\n",
      " 'Saloon_Buik_Age_mean_all_freq' 'Saloon_COMMANDER_Age_mean_all_freq'\n",
      " 'Saloon_Chrysler_Age_mean_all_freq' 'Saloon_DAF_Age_mean_all_freq'\n",
      " 'Saloon_Datsun_Age_mean_all_freq' 'Saloon_GAC_Age_mean_all_freq'\n",
      " 'Saloon_Geely_Age_mean_all_freq'\n",
      " 'Saloon_Grand Cherokee_Age_mean_all_freq'\n",
      " 'Saloon_Hummer_Age_mean_all_freq' 'Saloon_Innson_Age_mean_all_freq'\n",
      " 'Saloon_Peugeot_Age_mean_all_freq' 'Saloon_Seat_Age_mean_all_freq'\n",
      " 'Saloon_ZOYTE_Age_mean_all_freq' 'Sedan_Honda_Age_mean_all_freq'\n",
      " 'Sedan_Mercedes_Age_mean_all_freq' 'Sedan_Volkswagen_Age_mean_all_freq'\n",
      " 'Shape Of Vehicle Chasis_Honda_Age_mean_all_freq'\n",
      " 'Shape Of Vehicle Chasis_Iveco_Age_mean_all_freq'\n",
      " 'Shape Of Vehicle Chasis_Mercedes_Age_mean_all_freq'\n",
      " 'Shape Of Vehicle Chasis_TOYOTA_Age_mean_all_freq'\n",
      " 'Tipper Truck_Mercedes_Age_mean_all_freq'\n",
      " 'Truck_Ashok Leyland_Age_mean_all_freq' 'Truck_Dodge_Age_mean_all_freq'\n",
      " 'Truck_FOTON_Age_mean_all_freq' 'Truck_Fiat_Age_mean_all_freq'\n",
      " 'Truck_Lexus_Age_mean_all_freq' 'Truck_Nissan_Age_mean_all_freq'\n",
      " 'Truck_TOYOTA_Age_mean_all_freq' 'Truck_Volvo_Age_mean_all_freq'\n",
      " 'Wagon_Honda_Age_mean_all_freq' 'Wagon_Mercedes_Age_mean_all_freq'\n",
      " 'Wagon_Peugeot_Age_mean_all_freq' 'Wagon_Pontiac_Age_mean_all_freq'\n",
      " 'Wagon_Volkswagen_Age_mean_all_freq' 'CVTP_._Age_mean_all_freq'\n",
      " 'CVTP_As Attached_Age_mean_all_freq'\n",
      " 'CVTP_Ashok Leyland_Age_mean_all_freq' 'CVTP_Astra_Age_mean_all_freq'\n",
      " 'CVTP_Chevrolet_Age_mean_all_freq' 'CVTP_Dodge_Age_mean_all_freq'\n",
      " 'CVTP_Fiat_Age_mean_all_freq' 'CVTP_Howo_Age_mean_all_freq'\n",
      " 'CVTP_Isuzu_Age_mean_all_freq' 'CVTP_Iveco_Age_mean_all_freq'\n",
      " 'CVTP_Mack_Age_mean_all_freq' 'CVTP_Suzuki_Age_mean_all_freq'\n",
      " 'CVTP_Tata_Age_mean_all_freq' 'CVTP_Volkswagen_Age_mean_all_freq'\n",
      " 'Car Classic_Black_Age_mean_all_freq'\n",
      " 'Car Classic_CHANGAN_Age_mean_all_freq'\n",
      " 'Car Classic_Caddillac_Age_mean_all_freq'\n",
      " 'Car Classic_Chrysler_Age_mean_all_freq'\n",
      " 'Car Classic_Isuzu_Age_mean_all_freq' 'Car Classic_KA_Age_mean_all_freq'\n",
      " 'Car Classic_LIBERTY_Age_mean_all_freq'\n",
      " 'Car Classic_MG_Age_mean_all_freq' 'Car Classic_REXTON_Age_mean_all_freq'\n",
      " 'Car Classic_Raston_Age_mean_all_freq'\n",
      " 'Car Classic_Rols Royce_Age_mean_all_freq'\n",
      " 'Car Classic_Suzuki_Age_mean_all_freq'\n",
      " 'Car Plus_Land Rover_Age_mean_all_freq'\n",
      " 'Car Plus_Land Rover._Age_mean_all_freq'\n",
      " 'Car Plus_Peugeot_Age_mean_all_freq'\n",
      " 'Car Plus_Range Rover_Age_mean_all_freq'\n",
      " 'Car Vintage_BMW_Age_mean_all_freq' 'Car Vintage_Honda_Age_mean_all_freq'\n",
      " 'CarFlex_BMW_Age_mean_all_freq' 'CarFlex_Land Rover_Age_mean_all_freq'\n",
      " 'CarFlex_Mazda_Age_mean_all_freq' 'CarFlex_Mercedes_Age_mean_all_freq'\n",
      " 'CarFlex_Range Rover_Age_mean_all_freq'\n",
      " 'CarFlex_Volkswagen_Age_mean_all_freq' 'CarSafe_ABG_Age_mean_all_freq'\n",
      " 'CarSafe_BRILLIANCE_Age_mean_all_freq' 'CarSafe_Buik_Age_mean_all_freq'\n",
      " 'CarSafe_COMMANDER_Age_mean_all_freq'\n",
      " 'CarSafe_Chrysler_Age_mean_all_freq' 'CarSafe_Datsun_Age_mean_all_freq'\n",
      " 'CarSafe_GMC_Age_mean_all_freq' 'CarSafe_Geely_Age_mean_all_freq'\n",
      " 'CarSafe_Grand Cherokee_Age_mean_all_freq'\n",
      " 'CarSafe_Hummer_Age_mean_all_freq' 'CarSafe_Innson_Age_mean_all_freq'\n",
      " 'CarSafe_Isuzu_Age_mean_all_freq' 'CarSafe_Jaguar_Age_mean_all_freq'\n",
      " 'CarSafe_Jeep_Age_mean_all_freq' 'CarSafe_LIBERTY_Age_mean_all_freq'\n",
      " 'CarSafe_Land Rover_Age_mean_all_freq'\n",
      " 'CarSafe_Land Rover._Age_mean_all_freq'\n",
      " 'CarSafe_Lincoln_Age_mean_all_freq'\n",
      " 'CarSafe_Range Rover_Age_mean_all_freq' 'CarSafe_Seat_Age_mean_all_freq'\n",
      " 'CarSafe_ZOYTE_Age_mean_all_freq'\n",
      " 'Customized Motor_Grand Cherokee_Age_mean_all_freq'\n",
      " 'Customized Motor_Hummer_Age_mean_all_freq'\n",
      " 'Customized Motor_Mazda_Age_mean_all_freq'\n",
      " 'Customized Motor_Pontiac_Age_mean_all_freq'\n",
      " 'Customized Motor_Porsche_Age_mean_all_freq'\n",
      " 'Motor Cycle_As Attached_Age_mean_all_freq'\n",
      " 'Motor Cycle_BMW_Age_mean_all_freq' 'Motor Cycle_Bajaj_Age_mean_all_freq'\n",
      " 'Motor Cycle_Honda_Age_mean_all_freq'\n",
      " 'Motor Cycle_Jincheng_Age_mean_all_freq'\n",
      " 'Motor Cycle_Motorcycle_Age_mean_all_freq'\n",
      " 'Motor Cycle_Yamaha_Age_mean_all_freq' 'Muuve_._Age_mean_all_freq'\n",
      " 'Muuve_Ford_Age_mean_all_freq' 'Muuve_Lexus_Age_mean_all_freq'\n",
      " 'Muuve_Mercedes_Age_mean_all_freq' 'Muuve_Mitsubishi_Age_mean_all_freq'\n",
      " 'higher-premium_Age_mean_all_freq' 'lower_premium_Age_mean_all_freq'\n",
      " 'Early_working_Age_Age_mean_all_freq'\n",
      " 'Elderly_working_Age_Age_mean_all_freq'\n",
      " 'Mature_working_Age_Age_mean_all_freq'\n",
      " 'Prime_working_Age_Age_mean_all_freq'\n",
      " 'Policy Start Date_day_Age_mean_all_freq'\n",
      " 'Policy Start Date_month_Age_mean_all_freq'\n",
      " 'Policy Start Date_quarter_Age_mean_all_freq'\n",
      " 'Policy Start Date_weekday_Age_mean_all_freq'\n",
      " 'Policy Start Date_week_Age_mean_all_freq'\n",
      " 'Policy Start Date_weekend_Age_mean_all_freq'\n",
      " 'Policy Start Date_weekofyear_Age_mean_all_freq'\n",
      " 'Policy Start Date_dayofweek_Age_mean_all_freq'\n",
      " 'Policy End Date_year_Age_mean_all_freq'\n",
      " 'Policy End Date_day_Age_mean_all_freq'\n",
      " 'Policy End Date_month_Age_mean_all_freq'\n",
      " 'Policy End Date_weekday_Age_mean_all_freq'\n",
      " 'Policy End Date_week_Age_mean_all_freq'\n",
      " 'Policy End Date_weekend_Age_mean_all_freq'\n",
      " 'Policy End Date_weekofyear_Age_mean_all_freq'\n",
      " 'Policy End Date_dayofweek_Age_mean_all_freq'\n",
      " 'First Transaction Date_day_Age_mean_all_freq'\n",
      " 'First Transaction Date_month_Age_mean_all_freq'\n",
      " 'First Transaction Date_weekday_Age_mean_all_freq'\n",
      " 'First Transaction Date_week_Age_mean_all_freq'\n",
      " 'First Transaction Date_weekend_Age_mean_all_freq'\n",
      " 'First Transaction Date_weekofyear_Age_mean_all_freq'\n",
      " 'First Transaction Date_dayofweek_Age_mean_all_freq'\n",
      " 'Policy Start Date_day_cos_Age_mean_all_freq'\n",
      " 'Policy Start Date_day_sin_Age_mean_all_freq']\n"
     ]
    }
   ],
   "source": [
    "features = train.columns\n",
    "\n",
    "num_feature = [col for col in features] \n",
    "drop_columns=[]\n",
    "corr = train[num_feature].corr()\n",
    "# Drop highly correlated features \n",
    "columns = np.full((corr.shape[0],), True, dtype=bool)\n",
    "\n",
    "for i in range(corr.shape[0]):\n",
    "    for j in range(i+1, corr.shape[0]):\n",
    "        if corr.iloc[i,j] >=0.999 :\n",
    "            if columns[j]:\n",
    "                columns[j] = False\n",
    "                print('FEAT_A: {} FEAT_B: {} - Correlation: {}'.format(train[num_feature].columns[i] , train[num_feature].columns[j], corr.iloc[i,j]))\n",
    "        elif corr.iloc[i,j] <= -0.995:\n",
    "            if columns[j]:\n",
    "                columns[j] = False\n",
    "\n",
    "drop_columns = train[num_feature].columns[columns == False].values\n",
    "print('drop_columns',len(drop_columns),drop_columns)"
   ]
  },
  {
   "cell_type": "code",
   "execution_count": 55,
   "metadata": {
    "executionInfo": {
     "elapsed": 23,
     "status": "ok",
     "timestamp": 1624359158532,
     "user": {
      "displayName": "Adeyinka Sotunde",
      "photoUrl": "",
      "userId": "11399296787173668069"
     },
     "user_tz": -60
    },
    "id": "we42XV8tNFB4"
   },
   "outputs": [],
   "source": [
    "train.drop(drop_columns,inplace=True,axis =1 )\n",
    "test.drop(drop_columns,inplace=True,axis =1 )"
   ]
  },
  {
   "cell_type": "markdown",
   "metadata": {
    "id": "VODMPpoWNiUS"
   },
   "source": [
    "**Check and remove any constant features present inside the dataset**"
   ]
  },
  {
   "cell_type": "code",
   "execution_count": 56,
   "metadata": {
    "colab": {
     "base_uri": "https://localhost:8080/"
    },
    "executionInfo": {
     "elapsed": 21,
     "status": "ok",
     "timestamp": 1624359158532,
     "user": {
      "displayName": "Adeyinka Sotunde",
      "photoUrl": "",
      "userId": "11399296787173668069"
     },
     "user_tz": -60
    },
    "id": "uvQ4Mf8DNE_G",
    "outputId": "634e8e2c-2c3d-4a42-f4ee-72cbf5a65e55"
   },
   "outputs": [
    {
     "data": {
      "text/plain": [
       "['prod_pol_min',\n",
       " 'Bus_Mitsubishi',\n",
       " 'JEEP_LIBERTY',\n",
       " 'JEEP_Renault',\n",
       " 'JEEP_Subaru',\n",
       " 'Saloon_Datsun',\n",
       " 'Car Classic_LIBERTY',\n",
       " 'CarFlex_Land Rover',\n",
       " 'CarSafe_Datsun',\n",
       " 'Customized Motor_Mazda',\n",
       " 'prod_pol_min_Age_mean_all',\n",
       " 'prod_pol_min_Age_mean_all_freq']"
      ]
     },
     "execution_count": 56,
     "metadata": {},
     "output_type": "execute_result"
    }
   ],
   "source": [
    "cols = train.columns\n",
    "\n",
    "# Check and remove constant features\n",
    "[feat for feat in train[cols] if train[feat].std() ==0]"
   ]
  },
  {
   "cell_type": "code",
   "execution_count": 57,
   "metadata": {
    "executionInfo": {
     "elapsed": 520,
     "status": "ok",
     "timestamp": 1624359159034,
     "user": {
      "displayName": "Adeyinka Sotunde",
      "photoUrl": "",
      "userId": "11399296787173668069"
     },
     "user_tz": -60
    },
    "id": "kghJjb5QNE7r"
   },
   "outputs": [],
   "source": [
    "columns_to_drop = ['prod_pol_min','Bus_Mitsubishi','JEEP_LIBERTY','JEEP_Renault','JEEP_Subaru','Saloon_Datsun',\n",
    "                   'Car Classic_LIBERTY','CarFlex_Land Rover','CarSafe_Datsun','Customized Motor_Mazda',\n",
    "                   'prod_pol_min_Age_mean_all','prod_pol_min_Age_mean_all_freq']\n",
    "\n",
    "train.drop(columns = columns_to_drop, inplace = True)\n",
    "test.drop(columns = columns_to_drop, inplace = True)"
   ]
  },
  {
   "cell_type": "code",
   "execution_count": 58,
   "metadata": {
    "colab": {
     "base_uri": "https://localhost:8080/"
    },
    "executionInfo": {
     "elapsed": 17,
     "status": "ok",
     "timestamp": 1624359159039,
     "user": {
      "displayName": "Adeyinka Sotunde",
      "photoUrl": "",
      "userId": "11399296787173668069"
     },
     "user_tz": -60
    },
    "id": "qpIrOsopNdNJ",
    "outputId": "2ce97436-a3d8-404a-912d-5f9421b901b9"
   },
   "outputs": [
    {
     "name": "stdout",
     "output_type": "stream",
     "text": [
      "(12079, 1247) (1202, 1247)\n"
     ]
    }
   ],
   "source": [
    "print(train.shape,test.shape)  # Note: that train is without target feature here."
   ]
  },
  {
   "cell_type": "code",
   "execution_count": 59,
   "metadata": {
    "colab": {
     "base_uri": "https://localhost:8080/"
    },
    "executionInfo": {
     "elapsed": 14,
     "status": "ok",
     "timestamp": 1624359159039,
     "user": {
      "displayName": "Adeyinka Sotunde",
      "photoUrl": "",
      "userId": "11399296787173668069"
     },
     "user_tz": -60
    },
    "id": "6v3WVITCxWX1",
    "outputId": "2d1f3ebf-78d7-4811-9d82-f7fb059cf074"
   },
   "outputs": [
    {
     "data": {
      "text/plain": [
       "((12079, 1248), (1202, 1247))"
      ]
     },
     "execution_count": 59,
     "metadata": {},
     "output_type": "execute_result"
    }
   ],
   "source": [
    "train = train.join(diat)  # Now, joining prevously extracted target column back to train dataframe\n",
    "                          # Recall that: target column was previously saved in diat from the beggining of the notebook.\n",
    "train_n = train           # i.e diat = train[['target']]\n",
    "test_n = test\n",
    "\n",
    "train_n.shape, test_n.shape"
   ]
  },
  {
   "cell_type": "code",
   "execution_count": 60,
   "metadata": {
    "executionInfo": {
     "elapsed": 11,
     "status": "ok",
     "timestamp": 1624359159040,
     "user": {
      "displayName": "Adeyinka Sotunde",
      "photoUrl": "",
      "userId": "11399296787173668069"
     },
     "user_tz": -60
    },
    "id": "I0VfklM-xi6O"
   },
   "outputs": [],
   "source": [
    "X= train_n.drop(columns=['target'])\n",
    "y= train_n.target"
   ]
  },
  {
   "cell_type": "markdown",
   "metadata": {
    "id": "Fj0j3jjTWyNV"
   },
   "source": [
    "#MODELLING:"
   ]
  },
  {
   "cell_type": "markdown",
   "metadata": {
    "id": "QP1SDg2szDTU"
   },
   "source": [
    "#MODEL 1: \n",
    "\n",
    "#LGBMClassifier (without kFolds)"
   ]
  },
  {
   "cell_type": "code",
   "execution_count": 62,
   "metadata": {
    "colab": {
     "base_uri": "https://localhost:8080/"
    },
    "executionInfo": {
     "elapsed": 40195,
     "status": "ok",
     "timestamp": 1624359202791,
     "user": {
      "displayName": "Adeyinka Sotunde",
      "photoUrl": "",
      "userId": "11399296787173668069"
     },
     "user_tz": -60
    },
    "id": "Nk3jwhuwxi1w",
    "outputId": "69990d1e-e2c6-49d9-f987-ee03c760f7d5"
   },
   "outputs": [
    {
     "name": "stdout",
     "output_type": "stream",
     "text": [
      "[LightGBM] [Warning] Unknown parameter: colsample_bylevel\n",
      "[LightGBM] [Warning] Unknown parameter: colsample_bylevel\n",
      "[LightGBM] [Info] Number of positive: 1455, number of negative: 10624\n",
      "[LightGBM] [Warning] Auto-choosing col-wise multi-threading, the overhead of testing was 0.099498 seconds.\n",
      "You can set `force_col_wise=true` to remove the overhead.\n",
      "[LightGBM] [Info] Total Bins 18782\n",
      "[LightGBM] [Info] Number of data points in the train set: 12079, number of used features: 975\n",
      "[LightGBM] [Info] [binary:BoostFromScore]: pavg=0.120457 -> initscore=-1.988110\n",
      "[LightGBM] [Info] Start training from score -1.988110\n"
     ]
    },
    {
     "data": {
      "text/plain": [
       "LGBMClassifier(colsample_bylevel=0.8, n_estimators=1000, random_state=42,\n",
       "               scale_pos_weight=4, silent=False, subsample=0.8)"
      ]
     },
     "execution_count": 62,
     "metadata": {},
     "output_type": "execute_result"
    }
   ],
   "source": [
    "import lightgbm as lgb\n",
    "from lightgbm import LGBMClassifier   \n",
    "model = lgb.LGBMClassifier(random_state=42,n_estimators=1000,silent=False, \n",
    "                       scale_pos_weight= 4,colsample_bylevel=0.8,subsample=0.8)  \n",
    "model.fit(X.values,y)                                                               # Current Best scale_pos_weight = 4                             "
   ]
  },
  {
   "cell_type": "code",
   "execution_count": 63,
   "metadata": {
    "colab": {
     "base_uri": "https://localhost:8080/",
     "height": 979
    },
    "executionInfo": {
     "elapsed": 40,
     "status": "ok",
     "timestamp": 1624359202794,
     "user": {
      "displayName": "Adeyinka Sotunde",
      "photoUrl": "",
      "userId": "11399296787173668069"
     },
     "user_tz": -60
    },
    "id": "lYi8TaWbxizv",
    "outputId": "d3b6979d-bd07-4b00-d52e-647b1e2f80ba"
   },
   "outputs": [
    {
     "data": {
      "text/html": [
       "<div>\n",
       "<style scoped>\n",
       "    .dataframe tbody tr th:only-of-type {\n",
       "        vertical-align: middle;\n",
       "    }\n",
       "\n",
       "    .dataframe tbody tr th {\n",
       "        vertical-align: top;\n",
       "    }\n",
       "\n",
       "    .dataframe thead th {\n",
       "        text-align: right;\n",
       "    }\n",
       "</style>\n",
       "<table border=\"1\" class=\"dataframe\">\n",
       "  <thead>\n",
       "    <tr style=\"text-align: right;\">\n",
       "      <th></th>\n",
       "      <th>imp</th>\n",
       "      <th>col</th>\n",
       "    </tr>\n",
       "  </thead>\n",
       "  <tbody>\n",
       "    <tr>\n",
       "      <th>4</th>\n",
       "      <td>1982</td>\n",
       "      <td>Subject_Car_Colour_count</td>\n",
       "    </tr>\n",
       "    <tr>\n",
       "      <th>6</th>\n",
       "      <td>1336</td>\n",
       "      <td>State_count</td>\n",
       "    </tr>\n",
       "    <tr>\n",
       "      <th>482</th>\n",
       "      <td>1291</td>\n",
       "      <td>Policy Start Date_day_cos</td>\n",
       "    </tr>\n",
       "    <tr>\n",
       "      <th>474</th>\n",
       "      <td>1243</td>\n",
       "      <td>Policy Start Date_week</td>\n",
       "    </tr>\n",
       "    <tr>\n",
       "      <th>483</th>\n",
       "      <td>1216</td>\n",
       "      <td>Policy Start Date_day_sin</td>\n",
       "    </tr>\n",
       "    <tr>\n",
       "      <th>477</th>\n",
       "      <td>1201</td>\n",
       "      <td>Policy End Date_day</td>\n",
       "    </tr>\n",
       "    <tr>\n",
       "      <th>471</th>\n",
       "      <td>1081</td>\n",
       "      <td>Policy Start Date_day</td>\n",
       "    </tr>\n",
       "    <tr>\n",
       "      <th>480</th>\n",
       "      <td>1077</td>\n",
       "      <td>Policy End Date_week</td>\n",
       "    </tr>\n",
       "    <tr>\n",
       "      <th>5</th>\n",
       "      <td>798</td>\n",
       "      <td>Subject_Car_Make_count</td>\n",
       "    </tr>\n",
       "    <tr>\n",
       "      <th>479</th>\n",
       "      <td>782</td>\n",
       "      <td>Policy End Date_weekday</td>\n",
       "    </tr>\n",
       "    <tr>\n",
       "      <th>473</th>\n",
       "      <td>723</td>\n",
       "      <td>Policy Start Date_weekday</td>\n",
       "    </tr>\n",
       "    <tr>\n",
       "      <th>1</th>\n",
       "      <td>655</td>\n",
       "      <td>policy_span</td>\n",
       "    </tr>\n",
       "    <tr>\n",
       "      <th>3</th>\n",
       "      <td>626</td>\n",
       "      <td>Car_Category_count</td>\n",
       "    </tr>\n",
       "    <tr>\n",
       "      <th>2</th>\n",
       "      <td>351</td>\n",
       "      <td>Gender_count</td>\n",
       "    </tr>\n",
       "    <tr>\n",
       "      <th>472</th>\n",
       "      <td>338</td>\n",
       "      <td>Policy Start Date_month</td>\n",
       "    </tr>\n",
       "    <tr>\n",
       "      <th>478</th>\n",
       "      <td>271</td>\n",
       "      <td>Policy End Date_month</td>\n",
       "    </tr>\n",
       "    <tr>\n",
       "      <th>16</th>\n",
       "      <td>201</td>\n",
       "      <td>Female</td>\n",
       "    </tr>\n",
       "    <tr>\n",
       "      <th>360</th>\n",
       "      <td>193</td>\n",
       "      <td>Car Classic_TOYOTA</td>\n",
       "    </tr>\n",
       "    <tr>\n",
       "      <th>38</th>\n",
       "      <td>182</td>\n",
       "      <td>Silver</td>\n",
       "    </tr>\n",
       "    <tr>\n",
       "      <th>268</th>\n",
       "      <td>176</td>\n",
       "      <td>Saloon_TOYOTA</td>\n",
       "    </tr>\n",
       "    <tr>\n",
       "      <th>0</th>\n",
       "      <td>164</td>\n",
       "      <td>No_Pol</td>\n",
       "    </tr>\n",
       "    <tr>\n",
       "      <th>10</th>\n",
       "      <td>143</td>\n",
       "      <td>prod_pol_mean</td>\n",
       "    </tr>\n",
       "    <tr>\n",
       "      <th>470</th>\n",
       "      <td>126</td>\n",
       "      <td>Policy Start Date_year</td>\n",
       "    </tr>\n",
       "    <tr>\n",
       "      <th>21</th>\n",
       "      <td>115</td>\n",
       "      <td>JEEP</td>\n",
       "    </tr>\n",
       "    <tr>\n",
       "      <th>7</th>\n",
       "      <td>103</td>\n",
       "      <td>ProductName_count</td>\n",
       "    </tr>\n",
       "    <tr>\n",
       "      <th>35</th>\n",
       "      <td>99</td>\n",
       "      <td>Grey</td>\n",
       "    </tr>\n",
       "    <tr>\n",
       "      <th>476</th>\n",
       "      <td>98</td>\n",
       "      <td>Policy End Date_year</td>\n",
       "    </tr>\n",
       "    <tr>\n",
       "      <th>135</th>\n",
       "      <td>98</td>\n",
       "      <td>Victoria Island</td>\n",
       "    </tr>\n",
       "    <tr>\n",
       "      <th>900</th>\n",
       "      <td>92</td>\n",
       "      <td>Policy Start Date_day_cos_Age_mean_all</td>\n",
       "    </tr>\n",
       "    <tr>\n",
       "      <th>51</th>\n",
       "      <td>90</td>\n",
       "      <td>Land Rover</td>\n",
       "    </tr>\n",
       "  </tbody>\n",
       "</table>\n",
       "</div>"
      ],
      "text/plain": [
       "      imp                                     col\n",
       "4    1982                Subject_Car_Colour_count\n",
       "6    1336                             State_count\n",
       "482  1291               Policy Start Date_day_cos\n",
       "474  1243                  Policy Start Date_week\n",
       "483  1216               Policy Start Date_day_sin\n",
       "477  1201                     Policy End Date_day\n",
       "471  1081                   Policy Start Date_day\n",
       "480  1077                    Policy End Date_week\n",
       "5     798                  Subject_Car_Make_count\n",
       "479   782                 Policy End Date_weekday\n",
       "473   723               Policy Start Date_weekday\n",
       "1     655                             policy_span\n",
       "3     626                      Car_Category_count\n",
       "2     351                            Gender_count\n",
       "472   338                 Policy Start Date_month\n",
       "478   271                   Policy End Date_month\n",
       "16    201                                  Female\n",
       "360   193                      Car Classic_TOYOTA\n",
       "38    182                                  Silver\n",
       "268   176                           Saloon_TOYOTA\n",
       "0     164                                  No_Pol\n",
       "10    143                           prod_pol_mean\n",
       "470   126                  Policy Start Date_year\n",
       "21    115                                    JEEP\n",
       "7     103                       ProductName_count\n",
       "35     99                                    Grey\n",
       "476    98                    Policy End Date_year\n",
       "135    98                         Victoria Island\n",
       "900    92  Policy Start Date_day_cos_Age_mean_all\n",
       "51     90                              Land Rover"
      ]
     },
     "execution_count": 63,
     "metadata": {},
     "output_type": "execute_result"
    }
   ],
   "source": [
    "fea_imp = pd.DataFrame({'imp': model.feature_importances_, 'col': X.columns})\n",
    "fea_imp.sort_values(by='imp',ascending=False,inplace=True)\n",
    "fea_imp.head(30)"
   ]
  },
  {
   "cell_type": "code",
   "execution_count": 64,
   "metadata": {
    "executionInfo": {
     "elapsed": 38,
     "status": "ok",
     "timestamp": 1624359202795,
     "user": {
      "displayName": "Adeyinka Sotunde",
      "photoUrl": "",
      "userId": "11399296787173668069"
     },
     "user_tz": -60
    },
    "id": "h-JYzEhKyUZL"
   },
   "outputs": [],
   "source": [
    "index_to_use_later = submission['ID'].values"
   ]
  },
  {
   "cell_type": "code",
   "execution_count": 65,
   "metadata": {
    "executionInfo": {
     "elapsed": 39,
     "status": "ok",
     "timestamp": 1624359202797,
     "user": {
      "displayName": "Adeyinka Sotunde",
      "photoUrl": "",
      "userId": "11399296787173668069"
     },
     "user_tz": -60
    },
    "id": "lhRzLAAXyiFr"
   },
   "outputs": [],
   "source": [
    "cols=list(X.columns)"
   ]
  },
  {
   "cell_type": "code",
   "execution_count": 66,
   "metadata": {
    "executionInfo": {
     "elapsed": 39,
     "status": "ok",
     "timestamp": 1624359202798,
     "user": {
      "displayName": "Adeyinka Sotunde",
      "photoUrl": "",
      "userId": "11399296787173668069"
     },
     "user_tz": -60
    },
    "id": "WjgdoYleykdJ"
   },
   "outputs": [],
   "source": [
    "output= model.predict_proba(test_n[cols])"
   ]
  },
  {
   "cell_type": "code",
   "execution_count": 67,
   "metadata": {
    "executionInfo": {
     "elapsed": 40,
     "status": "ok",
     "timestamp": 1624359202799,
     "user": {
      "displayName": "Adeyinka Sotunde",
      "photoUrl": "",
      "userId": "11399296787173668069"
     },
     "user_tz": -60
    },
    "id": "eOTsZ5gEym8P"
   },
   "outputs": [],
   "source": [
    "submission_df = pd.DataFrame(columns=['ID','target'])    \n",
    "submission_df['ID'] = index_to_use_later\n",
    "submission_df['target'] = output[:,1]"
   ]
  },
  {
   "cell_type": "code",
   "execution_count": 68,
   "metadata": {
    "executionInfo": {
     "elapsed": 41,
     "status": "ok",
     "timestamp": 1624359202801,
     "user": {
      "displayName": "Adeyinka Sotunde",
      "photoUrl": "",
      "userId": "11399296787173668069"
     },
     "user_tz": -60
    },
    "id": "5AVvhTRlyo_Q"
   },
   "outputs": [],
   "source": [
    "submission_df['target']=np.where(submission_df['target'] > 0.5,1,0)"
   ]
  },
  {
   "cell_type": "code",
   "execution_count": 69,
   "metadata": {
    "colab": {
     "base_uri": "https://localhost:8080/",
     "height": 204
    },
    "executionInfo": {
     "elapsed": 42,
     "status": "ok",
     "timestamp": 1624359202803,
     "user": {
      "displayName": "Adeyinka Sotunde",
      "photoUrl": "",
      "userId": "11399296787173668069"
     },
     "user_tz": -60
    },
    "id": "G5BMU-bjU7CM",
    "outputId": "7373a84d-3062-4a6b-81ef-8086f8a88f87"
   },
   "outputs": [
    {
     "data": {
      "text/html": [
       "<div>\n",
       "<style scoped>\n",
       "    .dataframe tbody tr th:only-of-type {\n",
       "        vertical-align: middle;\n",
       "    }\n",
       "\n",
       "    .dataframe tbody tr th {\n",
       "        vertical-align: top;\n",
       "    }\n",
       "\n",
       "    .dataframe thead th {\n",
       "        text-align: right;\n",
       "    }\n",
       "</style>\n",
       "<table border=\"1\" class=\"dataframe\">\n",
       "  <thead>\n",
       "    <tr style=\"text-align: right;\">\n",
       "      <th></th>\n",
       "      <th>ID</th>\n",
       "      <th>target</th>\n",
       "    </tr>\n",
       "  </thead>\n",
       "  <tbody>\n",
       "    <tr>\n",
       "      <th>0</th>\n",
       "      <td>ID_01QM0NU</td>\n",
       "      <td>0</td>\n",
       "    </tr>\n",
       "    <tr>\n",
       "      <th>1</th>\n",
       "      <td>ID_024NJLZ</td>\n",
       "      <td>0</td>\n",
       "    </tr>\n",
       "    <tr>\n",
       "      <th>2</th>\n",
       "      <td>ID_02NOVWQ</td>\n",
       "      <td>0</td>\n",
       "    </tr>\n",
       "    <tr>\n",
       "      <th>3</th>\n",
       "      <td>ID_02VSP68</td>\n",
       "      <td>0</td>\n",
       "    </tr>\n",
       "    <tr>\n",
       "      <th>4</th>\n",
       "      <td>ID_02YB37K</td>\n",
       "      <td>0</td>\n",
       "    </tr>\n",
       "  </tbody>\n",
       "</table>\n",
       "</div>"
      ],
      "text/plain": [
       "           ID  target\n",
       "0  ID_01QM0NU       0\n",
       "1  ID_024NJLZ       0\n",
       "2  ID_02NOVWQ       0\n",
       "3  ID_02VSP68       0\n",
       "4  ID_02YB37K       0"
      ]
     },
     "execution_count": 69,
     "metadata": {},
     "output_type": "execute_result"
    }
   ],
   "source": [
    "submission_df.to_csv('lgb1_pw4_pr.csv',index=False)              \n",
    "submission_df.head()                                                \n",
    "                                                                       # 0.527777 on LB"
   ]
  },
  {
   "cell_type": "code",
   "execution_count": 70,
   "metadata": {
    "colab": {
     "base_uri": "https://localhost:8080/"
    },
    "executionInfo": {
     "elapsed": 41,
     "status": "ok",
     "timestamp": 1624359202805,
     "user": {
      "displayName": "Adeyinka Sotunde",
      "photoUrl": "",
      "userId": "11399296787173668069"
     },
     "user_tz": -60
    },
    "id": "tKc-4dS_xitF",
    "outputId": "0a9fa8f9-d8e2-4523-e351-ed586cc6daf5"
   },
   "outputs": [
    {
     "data": {
      "text/plain": [
       "0    1140\n",
       "1      62\n",
       "Name: target, dtype: int64"
      ]
     },
     "execution_count": 70,
     "metadata": {},
     "output_type": "execute_result"
    }
   ],
   "source": [
    "submission_df['target'].value_counts()"
   ]
  },
  {
   "cell_type": "code",
   "execution_count": 73,
   "metadata": {
    "executionInfo": {
     "elapsed": 493,
     "status": "ok",
     "timestamp": 1624359203262,
     "user": {
      "displayName": "Adeyinka Sotunde",
      "photoUrl": "",
      "userId": "11399296787173668069"
     },
     "user_tz": -60
    },
    "id": "-88Bx06Dxiqm"
   },
   "outputs": [],
   "source": [
    "from sklearn.metrics import balanced_accuracy_score,auc\n",
    "from sklearn.metrics import f1_score, accuracy_score, classification_report"
   ]
  },
  {
   "cell_type": "markdown",
   "metadata": {
    "id": "cO07Jb0wISw2"
   },
   "source": [
    "#MODEL 2:\n",
    "\n",
    "#LGBMClassifier (with 10kFolds)"
   ]
  },
  {
   "cell_type": "code",
   "execution_count": 74,
   "metadata": {
    "colab": {
     "base_uri": "https://localhost:8080/"
    },
    "executionInfo": {
     "elapsed": 324522,
     "status": "ok",
     "timestamp": 1624359527775,
     "user": {
      "displayName": "Adeyinka Sotunde",
      "photoUrl": "",
      "userId": "11399296787173668069"
     },
     "user_tz": -60
    },
    "id": "I7ku7h6bxiol",
    "outputId": "158fcb5f-1e97-428b-a639-5e16838cbe22"
   },
   "outputs": [
    {
     "name": "stdout",
     "output_type": "stream",
     "text": [
      "0.33802816901408445\n",
      "0.3706293706293706\n",
      "0.2787456445993031\n",
      "0.3010752688172043\n",
      "0.27702702702702703\n",
      "0.26181818181818184\n",
      "0.3092105263157895\n",
      "0.31970260223048325\n",
      "0.2790697674418604\n",
      "0.3048327137546468\n",
      "Wall time: 3min 13s\n"
     ]
    }
   ],
   "source": [
    "%%time\n",
    "from sklearn.model_selection import StratifiedKFold\n",
    "predictions = []\n",
    "fold=StratifiedKFold(n_splits=10,shuffle=True, random_state=42)\n",
    "for train_index, test_index in fold.split(X,y):\n",
    "    X_train, X_test = X.iloc[train_index], X.iloc[test_index]\n",
    "    Y_train, Y_test = y[train_index], y[test_index]\n",
    "    model=LGBMClassifier(learning_rate=0.1, n_estimators=800, scale_pos_weight = 5.0,)  \n",
    "    model.fit(X_train.values, Y_train)\n",
    "    preds=model.predict(X_test.values)\n",
    "    print(f1_score(preds,Y_test))\n",
    "    predictions.append(model.predict(test_n.values))    "
   ]
  },
  {
   "cell_type": "code",
   "execution_count": 75,
   "metadata": {
    "colab": {
     "base_uri": "https://localhost:8080/"
    },
    "executionInfo": {
     "elapsed": 18,
     "status": "ok",
     "timestamp": 1624359527775,
     "user": {
      "displayName": "Adeyinka Sotunde",
      "photoUrl": "",
      "userId": "11399296787173668069"
     },
     "user_tz": -60
    },
    "id": "dZz2DEnqY-HA",
    "outputId": "4a38bd72-2b91-457c-ccf2-671ce0737eae"
   },
   "outputs": [
    {
     "name": "stdout",
     "output_type": "stream",
     "text": [
      "f1_score :  0.6088266132875798\n",
      "accuracy_score :  0.8450704225352113\n",
      "balanced_accuracy_score :  0.6023020975388012\n",
      "Class Report :               precision    recall  f1-score   support\n",
      "\n",
      "           0       0.90      0.92      0.91      1062\n",
      "           1       0.33      0.28      0.30       145\n",
      "\n",
      "    accuracy                           0.85      1207\n",
      "   macro avg       0.62      0.60      0.61      1207\n",
      "weighted avg       0.84      0.85      0.84      1207\n",
      "\n"
     ]
    }
   ],
   "source": [
    "\n",
    "\n",
    "print('f1_score : '     , f1_score(Y_test,preds, average=\"macro\"))\n",
    "print('accuracy_score : '     , accuracy_score(Y_test,preds))\n",
    "print('balanced_accuracy_score : '     , balanced_accuracy_score(Y_test,preds))\n",
    "print('Class Report :'   , classification_report(Y_test,preds))"
   ]
  },
  {
   "cell_type": "code",
   "execution_count": 76,
   "metadata": {
    "colab": {
     "base_uri": "https://localhost:8080/",
     "height": 540
    },
    "executionInfo": {
     "elapsed": 984,
     "status": "ok",
     "timestamp": 1624359528745,
     "user": {
      "displayName": "Adeyinka Sotunde",
      "photoUrl": "",
      "userId": "11399296787173668069"
     },
     "user_tz": -60
    },
    "id": "amAXtbGsIYC7",
    "outputId": "5276e334-4156-4792-f58a-0a35b0364450"
   },
   "outputs": [
    {
     "data": {
      "image/png": "[encoded data removed]",
      "text/plain": [
       "<Figure size 1440x864 with 1 Axes>"
      ]
     },
     "metadata": {
      "needs_background": "light"
     },
     "output_type": "display_data"
    }
   ],
   "source": [
    "feature_importance_df = pd.DataFrame(model.feature_importances_, columns=['importance'])\n",
    "feature_importance_df['feature'] = X_train.columns\n",
    "\n",
    "plt.figure(figsize=(20, 12));\n",
    "sns.barplot(x=\"importance\", y=\"feature\", data=feature_importance_df.sort_values(by = ['importance'], ascending = False).head(40))\n",
    "plt.title('LGBMClassifier features importance (top 20):');"
   ]
  },
  {
   "cell_type": "code",
   "execution_count": 77,
   "metadata": {
    "colab": {
     "base_uri": "https://localhost:8080/",
     "height": 204
    },
    "executionInfo": {
     "elapsed": 564,
     "status": "ok",
     "timestamp": 1624359529303,
     "user": {
      "displayName": "Adeyinka Sotunde",
      "photoUrl": "",
      "userId": "11399296787173668069"
     },
     "user_tz": -60
    },
    "id": "M2C2LdzgIYAo",
    "outputId": "88dc784e-d5bd-47cd-a227-5bafc0befb9b"
   },
   "outputs": [
    {
     "data": {
      "text/html": [
       "<div>\n",
       "<style scoped>\n",
       "    .dataframe tbody tr th:only-of-type {\n",
       "        vertical-align: middle;\n",
       "    }\n",
       "\n",
       "    .dataframe tbody tr th {\n",
       "        vertical-align: top;\n",
       "    }\n",
       "\n",
       "    .dataframe thead th {\n",
       "        text-align: right;\n",
       "    }\n",
       "</style>\n",
       "<table border=\"1\" class=\"dataframe\">\n",
       "  <thead>\n",
       "    <tr style=\"text-align: right;\">\n",
       "      <th></th>\n",
       "      <th>0</th>\n",
       "      <th>1</th>\n",
       "      <th>2</th>\n",
       "      <th>3</th>\n",
       "      <th>4</th>\n",
       "      <th>5</th>\n",
       "      <th>6</th>\n",
       "      <th>7</th>\n",
       "      <th>8</th>\n",
       "      <th>9</th>\n",
       "    </tr>\n",
       "  </thead>\n",
       "  <tbody>\n",
       "    <tr>\n",
       "      <th>0</th>\n",
       "      <td>0</td>\n",
       "      <td>0</td>\n",
       "      <td>0</td>\n",
       "      <td>0</td>\n",
       "      <td>0</td>\n",
       "      <td>0</td>\n",
       "      <td>0</td>\n",
       "      <td>0</td>\n",
       "      <td>0</td>\n",
       "      <td>0</td>\n",
       "    </tr>\n",
       "    <tr>\n",
       "      <th>1</th>\n",
       "      <td>0</td>\n",
       "      <td>0</td>\n",
       "      <td>0</td>\n",
       "      <td>0</td>\n",
       "      <td>0</td>\n",
       "      <td>0</td>\n",
       "      <td>0</td>\n",
       "      <td>0</td>\n",
       "      <td>0</td>\n",
       "      <td>0</td>\n",
       "    </tr>\n",
       "    <tr>\n",
       "      <th>2</th>\n",
       "      <td>0</td>\n",
       "      <td>0</td>\n",
       "      <td>0</td>\n",
       "      <td>0</td>\n",
       "      <td>0</td>\n",
       "      <td>0</td>\n",
       "      <td>0</td>\n",
       "      <td>0</td>\n",
       "      <td>0</td>\n",
       "      <td>1</td>\n",
       "    </tr>\n",
       "    <tr>\n",
       "      <th>3</th>\n",
       "      <td>0</td>\n",
       "      <td>0</td>\n",
       "      <td>0</td>\n",
       "      <td>0</td>\n",
       "      <td>0</td>\n",
       "      <td>0</td>\n",
       "      <td>0</td>\n",
       "      <td>0</td>\n",
       "      <td>0</td>\n",
       "      <td>0</td>\n",
       "    </tr>\n",
       "    <tr>\n",
       "      <th>4</th>\n",
       "      <td>0</td>\n",
       "      <td>0</td>\n",
       "      <td>0</td>\n",
       "      <td>0</td>\n",
       "      <td>0</td>\n",
       "      <td>0</td>\n",
       "      <td>0</td>\n",
       "      <td>0</td>\n",
       "      <td>0</td>\n",
       "      <td>0</td>\n",
       "    </tr>\n",
       "  </tbody>\n",
       "</table>\n",
       "</div>"
      ],
      "text/plain": [
       "   0  1  2  3  4  5  6  7  8  9\n",
       "0  0  0  0  0  0  0  0  0  0  0\n",
       "1  0  0  0  0  0  0  0  0  0  0\n",
       "2  0  0  0  0  0  0  0  0  0  1\n",
       "3  0  0  0  0  0  0  0  0  0  0\n",
       "4  0  0  0  0  0  0  0  0  0  0"
      ]
     },
     "execution_count": 77,
     "metadata": {},
     "output_type": "execute_result"
    }
   ],
   "source": [
    "predictions = pd.DataFrame(predictions)\n",
    "\n",
    "predictions.T.head()"
   ]
  },
  {
   "cell_type": "code",
   "execution_count": 78,
   "metadata": {
    "colab": {
     "base_uri": "https://localhost:8080/",
     "height": 419
    },
    "executionInfo": {
     "elapsed": 40,
     "status": "ok",
     "timestamp": 1624359529304,
     "user": {
      "displayName": "Adeyinka Sotunde",
      "photoUrl": "",
      "userId": "11399296787173668069"
     },
     "user_tz": -60
    },
    "id": "Lm5fzZb1IX-s",
    "outputId": "c68c0739-f8ba-4ddf-bb7e-281284db39ca"
   },
   "outputs": [
    {
     "data": {
      "text/html": [
       "<div>\n",
       "<style scoped>\n",
       "    .dataframe tbody tr th:only-of-type {\n",
       "        vertical-align: middle;\n",
       "    }\n",
       "\n",
       "    .dataframe tbody tr th {\n",
       "        vertical-align: top;\n",
       "    }\n",
       "\n",
       "    .dataframe thead th {\n",
       "        text-align: right;\n",
       "    }\n",
       "</style>\n",
       "<table border=\"1\" class=\"dataframe\">\n",
       "  <thead>\n",
       "    <tr style=\"text-align: right;\">\n",
       "      <th></th>\n",
       "      <th>0</th>\n",
       "      <th>1</th>\n",
       "    </tr>\n",
       "  </thead>\n",
       "  <tbody>\n",
       "    <tr>\n",
       "      <th>0</th>\n",
       "      <td>0.0</td>\n",
       "      <td>NaN</td>\n",
       "    </tr>\n",
       "    <tr>\n",
       "      <th>1</th>\n",
       "      <td>0.0</td>\n",
       "      <td>NaN</td>\n",
       "    </tr>\n",
       "    <tr>\n",
       "      <th>2</th>\n",
       "      <td>0.0</td>\n",
       "      <td>NaN</td>\n",
       "    </tr>\n",
       "    <tr>\n",
       "      <th>3</th>\n",
       "      <td>0.0</td>\n",
       "      <td>NaN</td>\n",
       "    </tr>\n",
       "    <tr>\n",
       "      <th>4</th>\n",
       "      <td>0.0</td>\n",
       "      <td>NaN</td>\n",
       "    </tr>\n",
       "    <tr>\n",
       "      <th>...</th>\n",
       "      <td>...</td>\n",
       "      <td>...</td>\n",
       "    </tr>\n",
       "    <tr>\n",
       "      <th>1197</th>\n",
       "      <td>0.0</td>\n",
       "      <td>NaN</td>\n",
       "    </tr>\n",
       "    <tr>\n",
       "      <th>1198</th>\n",
       "      <td>0.0</td>\n",
       "      <td>NaN</td>\n",
       "    </tr>\n",
       "    <tr>\n",
       "      <th>1199</th>\n",
       "      <td>0.0</td>\n",
       "      <td>NaN</td>\n",
       "    </tr>\n",
       "    <tr>\n",
       "      <th>1200</th>\n",
       "      <td>0.0</td>\n",
       "      <td>NaN</td>\n",
       "    </tr>\n",
       "    <tr>\n",
       "      <th>1201</th>\n",
       "      <td>0.0</td>\n",
       "      <td>NaN</td>\n",
       "    </tr>\n",
       "  </tbody>\n",
       "</table>\n",
       "<p>1202 rows × 2 columns</p>\n",
       "</div>"
      ],
      "text/plain": [
       "        0   1\n",
       "0     0.0 NaN\n",
       "1     0.0 NaN\n",
       "2     0.0 NaN\n",
       "3     0.0 NaN\n",
       "4     0.0 NaN\n",
       "...   ...  ..\n",
       "1197  0.0 NaN\n",
       "1198  0.0 NaN\n",
       "1199  0.0 NaN\n",
       "1200  0.0 NaN\n",
       "1201  0.0 NaN\n",
       "\n",
       "[1202 rows x 2 columns]"
      ]
     },
     "execution_count": 78,
     "metadata": {},
     "output_type": "execute_result"
    }
   ],
   "source": [
    "predictions = predictions.mode()\n",
    "\n",
    "predictions = predictions.T\n",
    "predictions"
   ]
  },
  {
   "cell_type": "code",
   "execution_count": 79,
   "metadata": {
    "colab": {
     "base_uri": "https://localhost:8080/"
    },
    "executionInfo": {
     "elapsed": 39,
     "status": "ok",
     "timestamp": 1624359529305,
     "user": {
      "displayName": "Adeyinka Sotunde",
      "photoUrl": "",
      "userId": "11399296787173668069"
     },
     "user_tz": -60
    },
    "id": "PIDt1DAJIX8Z",
    "outputId": "d7e9ad29-cc68-49ed-d58b-e62c08a3197c"
   },
   "outputs": [
    {
     "data": {
      "text/plain": [
       "0    0.0\n",
       "1    0.0\n",
       "2    0.0\n",
       "3    0.0\n",
       "4    0.0\n",
       "Name: 0, dtype: float64"
      ]
     },
     "execution_count": 79,
     "metadata": {},
     "output_type": "execute_result"
    }
   ],
   "source": [
    "sub = predictions[0]\n",
    "sub.head()"
   ]
  },
  {
   "cell_type": "code",
   "execution_count": 80,
   "metadata": {
    "executionInfo": {
     "elapsed": 37,
     "status": "ok",
     "timestamp": 1624359529308,
     "user": {
      "displayName": "Adeyinka Sotunde",
      "photoUrl": "",
      "userId": "11399296787173668069"
     },
     "user_tz": -60
    },
    "id": "h46MGC2hIX6p"
   },
   "outputs": [],
   "source": [
    "sub_file = submission.copy()\n",
    "\n",
    "sub_file.target = sub\n",
    "\n",
    "sub_file.to_csv('lgb2_pw5_pr.csv',index=False)                                  \n",
    "                                                                                # 0.591549 on LB"
   ]
  },
  {
   "cell_type": "code",
   "execution_count": 81,
   "metadata": {
    "colab": {
     "base_uri": "https://localhost:8080/"
    },
    "executionInfo": {
     "elapsed": 40,
     "status": "ok",
     "timestamp": 1624359529312,
     "user": {
      "displayName": "Adeyinka Sotunde",
      "photoUrl": "",
      "userId": "11399296787173668069"
     },
     "user_tz": -60
    },
    "id": "GB9-dU2sIX0H",
    "outputId": "221e8997-3d7c-4370-e6b2-b70ada9cd2b4"
   },
   "outputs": [
    {
     "data": {
      "text/plain": [
       "0.0    1146\n",
       "1.0      56\n",
       "Name: target, dtype: int64"
      ]
     },
     "execution_count": 81,
     "metadata": {},
     "output_type": "execute_result"
    }
   ],
   "source": [
    "sub_file['target'].value_counts()"
   ]
  },
  {
   "cell_type": "code",
   "execution_count": null,
   "metadata": {
    "executionInfo": {
     "elapsed": 38,
     "status": "ok",
     "timestamp": 1624359529315,
     "user": {
      "displayName": "Adeyinka Sotunde",
      "photoUrl": "",
      "userId": "11399296787173668069"
     },
     "user_tz": -60
    },
    "id": "-tEQchTBInGw"
   },
   "outputs": [],
   "source": []
  },
  {
   "cell_type": "markdown",
   "metadata": {
    "id": "8-OPdMhKI3FB"
   },
   "source": [
    "#Ensemble 1:"
   ]
  },
  {
   "cell_type": "code",
   "execution_count": 82,
   "metadata": {
    "colab": {
     "base_uri": "https://localhost:8080/",
     "height": 204
    },
    "executionInfo": {
     "elapsed": 39,
     "status": "ok",
     "timestamp": 1624359529317,
     "user": {
      "displayName": "Adeyinka Sotunde",
      "photoUrl": "",
      "userId": "11399296787173668069"
     },
     "user_tz": -60
    },
    "id": "df2cRM80InEt",
    "outputId": "a42c486b-cf37-4621-f693-5f1cc13cb895"
   },
   "outputs": [
    {
     "ename": "FileNotFoundError",
     "evalue": "[Errno 2] File /content/SampleSubmission_new.csv does not exist: '/content/SampleSubmission_new.csv'",
     "output_type": "error",
     "traceback": [
      "\u001b[1;31m---------------------------------------------------------------------------\u001b[0m",
      "\u001b[1;31mFileNotFoundError\u001b[0m                         Traceback (most recent call last)",
      "\u001b[1;32m<ipython-input-82-1287eecb24af>\u001b[0m in \u001b[0;36m<module>\u001b[1;34m\u001b[0m\n\u001b[0;32m      7\u001b[0m \u001b[1;33m\u001b[0m\u001b[0m\n\u001b[0;32m      8\u001b[0m \u001b[1;32mfrom\u001b[0m \u001b[0mscipy\u001b[0m\u001b[1;33m.\u001b[0m\u001b[0mstats\u001b[0m \u001b[1;32mimport\u001b[0m \u001b[0mrankdata\u001b[0m\u001b[1;33m\u001b[0m\u001b[1;33m\u001b[0m\u001b[0m\n\u001b[1;32m----> 9\u001b[1;33m \u001b[0msub_df\u001b[0m \u001b[1;33m=\u001b[0m \u001b[0mpd\u001b[0m\u001b[1;33m.\u001b[0m\u001b[0mread_csv\u001b[0m\u001b[1;33m(\u001b[0m\u001b[1;34m\"/content/SampleSubmission_new.csv\"\u001b[0m\u001b[1;33m)\u001b[0m\u001b[1;33m\u001b[0m\u001b[1;33m\u001b[0m\u001b[0m\n\u001b[0m\u001b[0;32m     10\u001b[0m \u001b[1;33m\u001b[0m\u001b[0m\n\u001b[0;32m     11\u001b[0m \u001b[0mtr1\u001b[0m \u001b[1;33m=\u001b[0m \u001b[0mpd\u001b[0m\u001b[1;33m.\u001b[0m\u001b[0mread_csv\u001b[0m\u001b[1;33m(\u001b[0m\u001b[1;34m\"/content/lgb2_pw5_pr.csv\"\u001b[0m\u001b[1;33m)\u001b[0m                            \u001b[1;31m# 0.591549 on LB\u001b[0m\u001b[1;33m\u001b[0m\u001b[1;33m\u001b[0m\u001b[0m\n",
      "\u001b[1;32m~\\anaconda3\\lib\\site-packages\\pandas\\io\\parsers.py\u001b[0m in \u001b[0;36mparser_f\u001b[1;34m(filepath_or_buffer, sep, delimiter, header, names, index_col, usecols, squeeze, prefix, mangle_dupe_cols, dtype, engine, converters, true_values, false_values, skipinitialspace, skiprows, skipfooter, nrows, na_values, keep_default_na, na_filter, verbose, skip_blank_lines, parse_dates, infer_datetime_format, keep_date_col, date_parser, dayfirst, cache_dates, iterator, chunksize, compression, thousands, decimal, lineterminator, quotechar, quoting, doublequote, escapechar, comment, encoding, dialect, error_bad_lines, warn_bad_lines, delim_whitespace, low_memory, memory_map, float_precision)\u001b[0m\n\u001b[0;32m    674\u001b[0m         )\n\u001b[0;32m    675\u001b[0m \u001b[1;33m\u001b[0m\u001b[0m\n\u001b[1;32m--> 676\u001b[1;33m         \u001b[1;32mreturn\u001b[0m \u001b[0m_read\u001b[0m\u001b[1;33m(\u001b[0m\u001b[0mfilepath_or_buffer\u001b[0m\u001b[1;33m,\u001b[0m \u001b[0mkwds\u001b[0m\u001b[1;33m)\u001b[0m\u001b[1;33m\u001b[0m\u001b[1;33m\u001b[0m\u001b[0m\n\u001b[0m\u001b[0;32m    677\u001b[0m \u001b[1;33m\u001b[0m\u001b[0m\n\u001b[0;32m    678\u001b[0m     \u001b[0mparser_f\u001b[0m\u001b[1;33m.\u001b[0m\u001b[0m__name__\u001b[0m \u001b[1;33m=\u001b[0m \u001b[0mname\u001b[0m\u001b[1;33m\u001b[0m\u001b[1;33m\u001b[0m\u001b[0m\n",
      "\u001b[1;32m~\\anaconda3\\lib\\site-packages\\pandas\\io\\parsers.py\u001b[0m in \u001b[0;36m_read\u001b[1;34m(filepath_or_buffer, kwds)\u001b[0m\n\u001b[0;32m    446\u001b[0m \u001b[1;33m\u001b[0m\u001b[0m\n\u001b[0;32m    447\u001b[0m     \u001b[1;31m# Create the parser.\u001b[0m\u001b[1;33m\u001b[0m\u001b[1;33m\u001b[0m\u001b[1;33m\u001b[0m\u001b[0m\n\u001b[1;32m--> 448\u001b[1;33m     \u001b[0mparser\u001b[0m \u001b[1;33m=\u001b[0m \u001b[0mTextFileReader\u001b[0m\u001b[1;33m(\u001b[0m\u001b[0mfp_or_buf\u001b[0m\u001b[1;33m,\u001b[0m \u001b[1;33m**\u001b[0m\u001b[0mkwds\u001b[0m\u001b[1;33m)\u001b[0m\u001b[1;33m\u001b[0m\u001b[1;33m\u001b[0m\u001b[0m\n\u001b[0m\u001b[0;32m    449\u001b[0m \u001b[1;33m\u001b[0m\u001b[0m\n\u001b[0;32m    450\u001b[0m     \u001b[1;32mif\u001b[0m \u001b[0mchunksize\u001b[0m \u001b[1;32mor\u001b[0m \u001b[0miterator\u001b[0m\u001b[1;33m:\u001b[0m\u001b[1;33m\u001b[0m\u001b[1;33m\u001b[0m\u001b[0m\n",
      "\u001b[1;32m~\\anaconda3\\lib\\site-packages\\pandas\\io\\parsers.py\u001b[0m in \u001b[0;36m__init__\u001b[1;34m(self, f, engine, **kwds)\u001b[0m\n\u001b[0;32m    878\u001b[0m             \u001b[0mself\u001b[0m\u001b[1;33m.\u001b[0m\u001b[0moptions\u001b[0m\u001b[1;33m[\u001b[0m\u001b[1;34m\"has_index_names\"\u001b[0m\u001b[1;33m]\u001b[0m \u001b[1;33m=\u001b[0m \u001b[0mkwds\u001b[0m\u001b[1;33m[\u001b[0m\u001b[1;34m\"has_index_names\"\u001b[0m\u001b[1;33m]\u001b[0m\u001b[1;33m\u001b[0m\u001b[1;33m\u001b[0m\u001b[0m\n\u001b[0;32m    879\u001b[0m \u001b[1;33m\u001b[0m\u001b[0m\n\u001b[1;32m--> 880\u001b[1;33m         \u001b[0mself\u001b[0m\u001b[1;33m.\u001b[0m\u001b[0m_make_engine\u001b[0m\u001b[1;33m(\u001b[0m\u001b[0mself\u001b[0m\u001b[1;33m.\u001b[0m\u001b[0mengine\u001b[0m\u001b[1;33m)\u001b[0m\u001b[1;33m\u001b[0m\u001b[1;33m\u001b[0m\u001b[0m\n\u001b[0m\u001b[0;32m    881\u001b[0m \u001b[1;33m\u001b[0m\u001b[0m\n\u001b[0;32m    882\u001b[0m     \u001b[1;32mdef\u001b[0m \u001b[0mclose\u001b[0m\u001b[1;33m(\u001b[0m\u001b[0mself\u001b[0m\u001b[1;33m)\u001b[0m\u001b[1;33m:\u001b[0m\u001b[1;33m\u001b[0m\u001b[1;33m\u001b[0m\u001b[0m\n",
      "\u001b[1;32m~\\anaconda3\\lib\\site-packages\\pandas\\io\\parsers.py\u001b[0m in \u001b[0;36m_make_engine\u001b[1;34m(self, engine)\u001b[0m\n\u001b[0;32m   1112\u001b[0m     \u001b[1;32mdef\u001b[0m \u001b[0m_make_engine\u001b[0m\u001b[1;33m(\u001b[0m\u001b[0mself\u001b[0m\u001b[1;33m,\u001b[0m \u001b[0mengine\u001b[0m\u001b[1;33m=\u001b[0m\u001b[1;34m\"c\"\u001b[0m\u001b[1;33m)\u001b[0m\u001b[1;33m:\u001b[0m\u001b[1;33m\u001b[0m\u001b[1;33m\u001b[0m\u001b[0m\n\u001b[0;32m   1113\u001b[0m         \u001b[1;32mif\u001b[0m \u001b[0mengine\u001b[0m \u001b[1;33m==\u001b[0m \u001b[1;34m\"c\"\u001b[0m\u001b[1;33m:\u001b[0m\u001b[1;33m\u001b[0m\u001b[1;33m\u001b[0m\u001b[0m\n\u001b[1;32m-> 1114\u001b[1;33m             \u001b[0mself\u001b[0m\u001b[1;33m.\u001b[0m\u001b[0m_engine\u001b[0m \u001b[1;33m=\u001b[0m \u001b[0mCParserWrapper\u001b[0m\u001b[1;33m(\u001b[0m\u001b[0mself\u001b[0m\u001b[1;33m.\u001b[0m\u001b[0mf\u001b[0m\u001b[1;33m,\u001b[0m \u001b[1;33m**\u001b[0m\u001b[0mself\u001b[0m\u001b[1;33m.\u001b[0m\u001b[0moptions\u001b[0m\u001b[1;33m)\u001b[0m\u001b[1;33m\u001b[0m\u001b[1;33m\u001b[0m\u001b[0m\n\u001b[0m\u001b[0;32m   1115\u001b[0m         \u001b[1;32melse\u001b[0m\u001b[1;33m:\u001b[0m\u001b[1;33m\u001b[0m\u001b[1;33m\u001b[0m\u001b[0m\n\u001b[0;32m   1116\u001b[0m             \u001b[1;32mif\u001b[0m \u001b[0mengine\u001b[0m \u001b[1;33m==\u001b[0m \u001b[1;34m\"python\"\u001b[0m\u001b[1;33m:\u001b[0m\u001b[1;33m\u001b[0m\u001b[1;33m\u001b[0m\u001b[0m\n",
      "\u001b[1;32m~\\anaconda3\\lib\\site-packages\\pandas\\io\\parsers.py\u001b[0m in \u001b[0;36m__init__\u001b[1;34m(self, src, **kwds)\u001b[0m\n\u001b[0;32m   1889\u001b[0m         \u001b[0mkwds\u001b[0m\u001b[1;33m[\u001b[0m\u001b[1;34m\"usecols\"\u001b[0m\u001b[1;33m]\u001b[0m \u001b[1;33m=\u001b[0m \u001b[0mself\u001b[0m\u001b[1;33m.\u001b[0m\u001b[0musecols\u001b[0m\u001b[1;33m\u001b[0m\u001b[1;33m\u001b[0m\u001b[0m\n\u001b[0;32m   1890\u001b[0m \u001b[1;33m\u001b[0m\u001b[0m\n\u001b[1;32m-> 1891\u001b[1;33m         \u001b[0mself\u001b[0m\u001b[1;33m.\u001b[0m\u001b[0m_reader\u001b[0m \u001b[1;33m=\u001b[0m \u001b[0mparsers\u001b[0m\u001b[1;33m.\u001b[0m\u001b[0mTextReader\u001b[0m\u001b[1;33m(\u001b[0m\u001b[0msrc\u001b[0m\u001b[1;33m,\u001b[0m \u001b[1;33m**\u001b[0m\u001b[0mkwds\u001b[0m\u001b[1;33m)\u001b[0m\u001b[1;33m\u001b[0m\u001b[1;33m\u001b[0m\u001b[0m\n\u001b[0m\u001b[0;32m   1892\u001b[0m         \u001b[0mself\u001b[0m\u001b[1;33m.\u001b[0m\u001b[0munnamed_cols\u001b[0m \u001b[1;33m=\u001b[0m \u001b[0mself\u001b[0m\u001b[1;33m.\u001b[0m\u001b[0m_reader\u001b[0m\u001b[1;33m.\u001b[0m\u001b[0munnamed_cols\u001b[0m\u001b[1;33m\u001b[0m\u001b[1;33m\u001b[0m\u001b[0m\n\u001b[0;32m   1893\u001b[0m \u001b[1;33m\u001b[0m\u001b[0m\n",
      "\u001b[1;32mpandas\\_libs\\parsers.pyx\u001b[0m in \u001b[0;36mpandas._libs.parsers.TextReader.__cinit__\u001b[1;34m()\u001b[0m\n",
      "\u001b[1;32mpandas\\_libs\\parsers.pyx\u001b[0m in \u001b[0;36mpandas._libs.parsers.TextReader._setup_parser_source\u001b[1;34m()\u001b[0m\n",
      "\u001b[1;31mFileNotFoundError\u001b[0m: [Errno 2] File /content/SampleSubmission_new.csv does not exist: '/content/SampleSubmission_new.csv'"
     ]
    }
   ],
   "source": [
    "import numpy as np\n",
    "import pandas as pd\n",
    "import random\n",
    "seed = 44  \n",
    "random.seed(seed)\n",
    "np.random.seed(seed)\n",
    "\n",
    "from scipy.stats import rankdata\n",
    "sub_df = pd.read_csv(\"/content/SampleSubmission_new.csv\")\n",
    "\n",
    "tr1 = pd.read_csv(\"/content/lgb2_pw5_pr.csv\")                            # 0.591549 on LB\n",
    "tr2 = pd.read_csv(\"/content/lgb1_pw4_pr.csv\")                            # 0.527777 on LB\n",
    "\n",
    "final=pd.DataFrame()\n",
    "final['ID'] = tr1['ID']\n",
    "\n",
    "final['target'] = (0.9*rankdata(tr1['target']) + 0.1*rankdata(tr2['target']))/len(sub_df)\n",
    "final['target']=np.where(final['target'] > 0.6,1,0)\n",
    "final.to_csv(\"blend1_sub.csv\", index=False)                               \n",
    "final.head()                                                          # 0.591549 on LB"
   ]
  },
  {
   "cell_type": "code",
   "execution_count": 78,
   "metadata": {
    "colab": {
     "base_uri": "https://localhost:8080/"
    },
    "executionInfo": {
     "elapsed": 39,
     "status": "ok",
     "timestamp": 1624359529318,
     "user": {
      "displayName": "Adeyinka Sotunde",
      "photoUrl": "",
      "userId": "11399296787173668069"
     },
     "user_tz": -60
    },
    "id": "jDbTmkrlIm__",
    "outputId": "53443caf-4f19-47b0-cb28-f42a5bb23971"
   },
   "outputs": [
    {
     "data": {
      "text/plain": [
       "0    1140\n",
       "1      62\n",
       "Name: target, dtype: int64"
      ]
     },
     "execution_count": 78,
     "metadata": {
      "tags": []
     },
     "output_type": "execute_result"
    }
   ],
   "source": [
    "final['target'].value_counts()"
   ]
  },
  {
   "cell_type": "code",
   "execution_count": 78,
   "metadata": {
    "executionInfo": {
     "elapsed": 36,
     "status": "ok",
     "timestamp": 1624359529320,
     "user": {
      "displayName": "Adeyinka Sotunde",
      "photoUrl": "",
      "userId": "11399296787173668069"
     },
     "user_tz": -60
    },
    "id": "03jCmaaZJyj6"
   },
   "outputs": [],
   "source": []
  },
  {
   "cell_type": "code",
   "execution_count": 78,
   "metadata": {
    "executionInfo": {
     "elapsed": 36,
     "status": "ok",
     "timestamp": 1624359529321,
     "user": {
      "displayName": "Adeyinka Sotunde",
      "photoUrl": "",
      "userId": "11399296787173668069"
     },
     "user_tz": -60
    },
    "id": "tKMqD4vBJygy"
   },
   "outputs": [],
   "source": []
  }
 ],
 "metadata": {
  "accelerator": "GPU",
  "colab": {
   "authorship_tag": "ABX9TyPt7OXgmTpNyOYwxAR+50ft",
   "collapsed_sections": [],
   "name": "AutoInland Vehicle Insurance (with Additional Feature Engineering <==> 0.59154 on LB).ipynb",
   "provenance": [
    {
     "file_id": "https://github.com/Adeyinka-hub/Aderepository/blob/master/AutoInland_Vehicle_Insurance%20(with_Additional_Feature_Engineering)%20%3C%3D%3D%3E%200.59154%20on%20LB).ipynb",
     "timestamp": 1623834141058
    }
   ]
  },
  "kernelspec": {
   "display_name": "Python 3",
   "language": "python",
   "name": "python3"
  },
  "language_info": {
   "codemirror_mode": {
    "name": "ipython",
    "version": 3
   },
   "file_extension": ".py",
   "mimetype": "text/x-python",
   "name": "python",
   "nbconvert_exporter": "python",
   "pygments_lexer": "ipython3",
   "version": "3.8.3"
  }
 },
 "nbformat": 4,
 "nbformat_minor": 1
}
